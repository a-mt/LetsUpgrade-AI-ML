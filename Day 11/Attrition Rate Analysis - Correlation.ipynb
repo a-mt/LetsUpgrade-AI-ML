{
 "cells": [
  {
   "cell_type": "markdown",
   "metadata": {},
   "source": [
    "<ins>Instructions day 11</ins>: Find the correlation between attrition and 10 other variables of your choice.\n",
    "\n",
    "# Preparing the data\n",
    "\n",
    "Information about the data can be found in [Day 10/Attrition Rate Analysis - Hypothesis.ipynb](../Day%2010/Attrition%20Rate%20Analysis%20-%20Hypothesis.ipynb)"
   ]
  },
  {
   "cell_type": "code",
   "execution_count": 1,
   "metadata": {},
   "outputs": [],
   "source": [
    "import pandas as pd\n",
    "import matplotlib.pyplot as plt\n",
    "\n",
    "df = pd.read_csv('../Day 10/general_data.csv')"
   ]
  },
  {
   "cell_type": "code",
   "execution_count": 2,
   "metadata": {},
   "outputs": [],
   "source": [
    "# Drop columns we're not interested in\n",
    "df.drop(['EmployeeCount', 'EmployeeID', 'Over18', 'StandardHours'], axis=1, inplace=True)\n",
    "\n",
    "# Drop rows with missing values\n",
    "df = df.dropna()"
   ]
  },
  {
   "cell_type": "markdown",
   "metadata": {},
   "source": [
    "# Correlation"
   ]
  },
  {
   "cell_type": "code",
   "execution_count": 3,
   "metadata": {},
   "outputs": [
    {
     "data": {
      "text/html": [
       "<div>\n",
       "<style scoped>\n",
       "    .dataframe tbody tr th:only-of-type {\n",
       "        vertical-align: middle;\n",
       "    }\n",
       "\n",
       "    .dataframe tbody tr th {\n",
       "        vertical-align: top;\n",
       "    }\n",
       "\n",
       "    .dataframe thead th {\n",
       "        text-align: right;\n",
       "    }\n",
       "</style>\n",
       "<table border=\"1\" class=\"dataframe\">\n",
       "  <thead>\n",
       "    <tr style=\"text-align: right;\">\n",
       "      <th></th>\n",
       "      <th>Age</th>\n",
       "      <th>Attrition</th>\n",
       "      <th>Attrition01</th>\n",
       "      <th>BusinessTravel</th>\n",
       "      <th>Department</th>\n",
       "      <th>DistanceFromHome</th>\n",
       "      <th>Education</th>\n",
       "      <th>EducationField</th>\n",
       "      <th>Gender</th>\n",
       "      <th>JobLevel</th>\n",
       "      <th>...</th>\n",
       "      <th>MaritalStatus</th>\n",
       "      <th>MonthlyIncome</th>\n",
       "      <th>NumCompaniesWorked</th>\n",
       "      <th>PercentSalaryHike</th>\n",
       "      <th>StockOptionLevel</th>\n",
       "      <th>TotalWorkingYears</th>\n",
       "      <th>TrainingTimesLastYear</th>\n",
       "      <th>YearsAtCompany</th>\n",
       "      <th>YearsSinceLastPromotion</th>\n",
       "      <th>YearsWithCurrManager</th>\n",
       "    </tr>\n",
       "  </thead>\n",
       "  <tbody>\n",
       "    <tr>\n",
       "      <th>0</th>\n",
       "      <td>51</td>\n",
       "      <td>No</td>\n",
       "      <td>0</td>\n",
       "      <td>Travel_Rarely</td>\n",
       "      <td>Sales</td>\n",
       "      <td>6</td>\n",
       "      <td>2</td>\n",
       "      <td>Life Sciences</td>\n",
       "      <td>Female</td>\n",
       "      <td>1</td>\n",
       "      <td>...</td>\n",
       "      <td>Married</td>\n",
       "      <td>131160</td>\n",
       "      <td>1.0</td>\n",
       "      <td>11</td>\n",
       "      <td>0</td>\n",
       "      <td>1.0</td>\n",
       "      <td>6</td>\n",
       "      <td>1</td>\n",
       "      <td>0</td>\n",
       "      <td>0</td>\n",
       "    </tr>\n",
       "    <tr>\n",
       "      <th>1</th>\n",
       "      <td>31</td>\n",
       "      <td>Yes</td>\n",
       "      <td>1</td>\n",
       "      <td>Travel_Frequently</td>\n",
       "      <td>Research &amp; Development</td>\n",
       "      <td>10</td>\n",
       "      <td>1</td>\n",
       "      <td>Life Sciences</td>\n",
       "      <td>Female</td>\n",
       "      <td>1</td>\n",
       "      <td>...</td>\n",
       "      <td>Single</td>\n",
       "      <td>41890</td>\n",
       "      <td>0.0</td>\n",
       "      <td>23</td>\n",
       "      <td>1</td>\n",
       "      <td>6.0</td>\n",
       "      <td>3</td>\n",
       "      <td>5</td>\n",
       "      <td>1</td>\n",
       "      <td>4</td>\n",
       "    </tr>\n",
       "    <tr>\n",
       "      <th>2</th>\n",
       "      <td>32</td>\n",
       "      <td>No</td>\n",
       "      <td>0</td>\n",
       "      <td>Travel_Frequently</td>\n",
       "      <td>Research &amp; Development</td>\n",
       "      <td>17</td>\n",
       "      <td>4</td>\n",
       "      <td>Other</td>\n",
       "      <td>Male</td>\n",
       "      <td>4</td>\n",
       "      <td>...</td>\n",
       "      <td>Married</td>\n",
       "      <td>193280</td>\n",
       "      <td>1.0</td>\n",
       "      <td>15</td>\n",
       "      <td>3</td>\n",
       "      <td>5.0</td>\n",
       "      <td>2</td>\n",
       "      <td>5</td>\n",
       "      <td>0</td>\n",
       "      <td>3</td>\n",
       "    </tr>\n",
       "    <tr>\n",
       "      <th>3</th>\n",
       "      <td>38</td>\n",
       "      <td>No</td>\n",
       "      <td>0</td>\n",
       "      <td>Non-Travel</td>\n",
       "      <td>Research &amp; Development</td>\n",
       "      <td>2</td>\n",
       "      <td>5</td>\n",
       "      <td>Life Sciences</td>\n",
       "      <td>Male</td>\n",
       "      <td>3</td>\n",
       "      <td>...</td>\n",
       "      <td>Married</td>\n",
       "      <td>83210</td>\n",
       "      <td>3.0</td>\n",
       "      <td>11</td>\n",
       "      <td>3</td>\n",
       "      <td>13.0</td>\n",
       "      <td>5</td>\n",
       "      <td>8</td>\n",
       "      <td>7</td>\n",
       "      <td>5</td>\n",
       "    </tr>\n",
       "    <tr>\n",
       "      <th>4</th>\n",
       "      <td>32</td>\n",
       "      <td>No</td>\n",
       "      <td>0</td>\n",
       "      <td>Travel_Rarely</td>\n",
       "      <td>Research &amp; Development</td>\n",
       "      <td>10</td>\n",
       "      <td>1</td>\n",
       "      <td>Medical</td>\n",
       "      <td>Male</td>\n",
       "      <td>1</td>\n",
       "      <td>...</td>\n",
       "      <td>Single</td>\n",
       "      <td>23420</td>\n",
       "      <td>4.0</td>\n",
       "      <td>12</td>\n",
       "      <td>2</td>\n",
       "      <td>9.0</td>\n",
       "      <td>2</td>\n",
       "      <td>6</td>\n",
       "      <td>0</td>\n",
       "      <td>4</td>\n",
       "    </tr>\n",
       "  </tbody>\n",
       "</table>\n",
       "<p>5 rows × 21 columns</p>\n",
       "</div>"
      ],
      "text/plain": [
       "   Age Attrition  Attrition01     BusinessTravel              Department  \\\n",
       "0   51        No            0      Travel_Rarely                   Sales   \n",
       "1   31       Yes            1  Travel_Frequently  Research & Development   \n",
       "2   32        No            0  Travel_Frequently  Research & Development   \n",
       "3   38        No            0         Non-Travel  Research & Development   \n",
       "4   32        No            0      Travel_Rarely  Research & Development   \n",
       "\n",
       "   DistanceFromHome  Education EducationField  Gender  JobLevel  ...  \\\n",
       "0                 6          2  Life Sciences  Female         1  ...   \n",
       "1                10          1  Life Sciences  Female         1  ...   \n",
       "2                17          4          Other    Male         4  ...   \n",
       "3                 2          5  Life Sciences    Male         3  ...   \n",
       "4                10          1        Medical    Male         1  ...   \n",
       "\n",
       "  MaritalStatus MonthlyIncome  NumCompaniesWorked  PercentSalaryHike  \\\n",
       "0       Married        131160                 1.0                 11   \n",
       "1        Single         41890                 0.0                 23   \n",
       "2       Married        193280                 1.0                 15   \n",
       "3       Married         83210                 3.0                 11   \n",
       "4        Single         23420                 4.0                 12   \n",
       "\n",
       "   StockOptionLevel  TotalWorkingYears  TrainingTimesLastYear  YearsAtCompany  \\\n",
       "0                 0                1.0                      6               1   \n",
       "1                 1                6.0                      3               5   \n",
       "2                 3                5.0                      2               5   \n",
       "3                 3               13.0                      5               8   \n",
       "4                 2                9.0                      2               6   \n",
       "\n",
       "   YearsSinceLastPromotion  YearsWithCurrManager  \n",
       "0                        0                     0  \n",
       "1                        1                     4  \n",
       "2                        0                     3  \n",
       "3                        7                     5  \n",
       "4                        0                     4  \n",
       "\n",
       "[5 rows x 21 columns]"
      ]
     },
     "execution_count": 3,
     "metadata": {},
     "output_type": "execute_result"
    }
   ],
   "source": [
    "df['Attrition01'] = df['Attrition'].map(dict(Yes=1, No=0))\n",
    "df = df.reindex(columns=sorted(df.columns))\n",
    "df.head()"
   ]
  },
  {
   "cell_type": "code",
   "execution_count": 4,
   "metadata": {},
   "outputs": [
    {
     "data": {
      "text/html": [
       "<div>\n",
       "<style scoped>\n",
       "    .dataframe tbody tr th:only-of-type {\n",
       "        vertical-align: middle;\n",
       "    }\n",
       "\n",
       "    .dataframe tbody tr th {\n",
       "        vertical-align: top;\n",
       "    }\n",
       "\n",
       "    .dataframe thead th {\n",
       "        text-align: right;\n",
       "    }\n",
       "</style>\n",
       "<table border=\"1\" class=\"dataframe\">\n",
       "  <thead>\n",
       "    <tr style=\"text-align: right;\">\n",
       "      <th></th>\n",
       "      <th>Age</th>\n",
       "      <th>Attrition01</th>\n",
       "      <th>DistanceFromHome</th>\n",
       "      <th>Education</th>\n",
       "      <th>JobLevel</th>\n",
       "      <th>MonthlyIncome</th>\n",
       "      <th>NumCompaniesWorked</th>\n",
       "      <th>PercentSalaryHike</th>\n",
       "      <th>StockOptionLevel</th>\n",
       "      <th>TotalWorkingYears</th>\n",
       "      <th>TrainingTimesLastYear</th>\n",
       "      <th>YearsAtCompany</th>\n",
       "      <th>YearsSinceLastPromotion</th>\n",
       "      <th>YearsWithCurrManager</th>\n",
       "    </tr>\n",
       "  </thead>\n",
       "  <tbody>\n",
       "    <tr>\n",
       "      <th>Age</th>\n",
       "      <td>1.000000</td>\n",
       "      <td>-0.158399</td>\n",
       "      <td>0.007376</td>\n",
       "      <td>-0.033900</td>\n",
       "      <td>-0.001137</td>\n",
       "      <td>-0.045163</td>\n",
       "      <td>0.299527</td>\n",
       "      <td>-0.032561</td>\n",
       "      <td>-0.031504</td>\n",
       "      <td>0.680037</td>\n",
       "      <td>-0.028962</td>\n",
       "      <td>0.311281</td>\n",
       "      <td>0.215650</td>\n",
       "      <td>0.201580</td>\n",
       "    </tr>\n",
       "    <tr>\n",
       "      <th>Attrition01</th>\n",
       "      <td>-0.158399</td>\n",
       "      <td>1.000000</td>\n",
       "      <td>-0.009449</td>\n",
       "      <td>-0.017106</td>\n",
       "      <td>-0.012382</td>\n",
       "      <td>-0.030160</td>\n",
       "      <td>0.042831</td>\n",
       "      <td>0.033153</td>\n",
       "      <td>-0.008164</td>\n",
       "      <td>-0.169670</td>\n",
       "      <td>-0.047586</td>\n",
       "      <td>-0.133003</td>\n",
       "      <td>-0.031423</td>\n",
       "      <td>-0.154692</td>\n",
       "    </tr>\n",
       "    <tr>\n",
       "      <th>DistanceFromHome</th>\n",
       "      <td>0.007376</td>\n",
       "      <td>-0.009449</td>\n",
       "      <td>1.000000</td>\n",
       "      <td>-0.007491</td>\n",
       "      <td>-0.039990</td>\n",
       "      <td>-0.022757</td>\n",
       "      <td>-0.014449</td>\n",
       "      <td>0.037720</td>\n",
       "      <td>0.009353</td>\n",
       "      <td>0.009574</td>\n",
       "      <td>-0.008957</td>\n",
       "      <td>0.030746</td>\n",
       "      <td>0.002243</td>\n",
       "      <td>0.021773</td>\n",
       "    </tr>\n",
       "    <tr>\n",
       "      <th>Education</th>\n",
       "      <td>-0.033900</td>\n",
       "      <td>-0.017106</td>\n",
       "      <td>-0.007491</td>\n",
       "      <td>1.000000</td>\n",
       "      <td>0.045822</td>\n",
       "      <td>0.007289</td>\n",
       "      <td>-0.016210</td>\n",
       "      <td>-0.041054</td>\n",
       "      <td>0.002386</td>\n",
       "      <td>-0.009228</td>\n",
       "      <td>0.009939</td>\n",
       "      <td>0.005997</td>\n",
       "      <td>0.023457</td>\n",
       "      <td>0.005645</td>\n",
       "    </tr>\n",
       "    <tr>\n",
       "      <th>JobLevel</th>\n",
       "      <td>-0.001137</td>\n",
       "      <td>-0.012382</td>\n",
       "      <td>-0.039990</td>\n",
       "      <td>0.045822</td>\n",
       "      <td>1.000000</td>\n",
       "      <td>0.046688</td>\n",
       "      <td>-0.009759</td>\n",
       "      <td>0.010874</td>\n",
       "      <td>0.000365</td>\n",
       "      <td>-0.036293</td>\n",
       "      <td>-0.031931</td>\n",
       "      <td>-0.063360</td>\n",
       "      <td>-0.059680</td>\n",
       "      <td>-0.053898</td>\n",
       "    </tr>\n",
       "    <tr>\n",
       "      <th>MonthlyIncome</th>\n",
       "      <td>-0.045163</td>\n",
       "      <td>-0.030160</td>\n",
       "      <td>-0.022757</td>\n",
       "      <td>0.007289</td>\n",
       "      <td>0.046688</td>\n",
       "      <td>1.000000</td>\n",
       "      <td>-0.021446</td>\n",
       "      <td>0.004607</td>\n",
       "      <td>0.027242</td>\n",
       "      <td>-0.034398</td>\n",
       "      <td>0.049780</td>\n",
       "      <td>0.000088</td>\n",
       "      <td>0.064470</td>\n",
       "      <td>0.023095</td>\n",
       "    </tr>\n",
       "    <tr>\n",
       "      <th>NumCompaniesWorked</th>\n",
       "      <td>0.299527</td>\n",
       "      <td>0.042831</td>\n",
       "      <td>-0.014449</td>\n",
       "      <td>-0.016210</td>\n",
       "      <td>-0.009759</td>\n",
       "      <td>-0.021446</td>\n",
       "      <td>1.000000</td>\n",
       "      <td>0.030064</td>\n",
       "      <td>0.016291</td>\n",
       "      <td>0.238807</td>\n",
       "      <td>-0.031335</td>\n",
       "      <td>-0.117213</td>\n",
       "      <td>-0.035855</td>\n",
       "      <td>-0.109372</td>\n",
       "    </tr>\n",
       "    <tr>\n",
       "      <th>PercentSalaryHike</th>\n",
       "      <td>-0.032561</td>\n",
       "      <td>0.033153</td>\n",
       "      <td>0.037720</td>\n",
       "      <td>-0.041054</td>\n",
       "      <td>0.010874</td>\n",
       "      <td>0.004607</td>\n",
       "      <td>0.030064</td>\n",
       "      <td>1.000000</td>\n",
       "      <td>0.012104</td>\n",
       "      <td>-0.018480</td>\n",
       "      <td>-0.036720</td>\n",
       "      <td>-0.029022</td>\n",
       "      <td>-0.028654</td>\n",
       "      <td>-0.039687</td>\n",
       "    </tr>\n",
       "    <tr>\n",
       "      <th>StockOptionLevel</th>\n",
       "      <td>-0.031504</td>\n",
       "      <td>-0.008164</td>\n",
       "      <td>0.009353</td>\n",
       "      <td>0.002386</td>\n",
       "      <td>0.000365</td>\n",
       "      <td>0.027242</td>\n",
       "      <td>0.016291</td>\n",
       "      <td>0.012104</td>\n",
       "      <td>1.000000</td>\n",
       "      <td>0.003138</td>\n",
       "      <td>-0.068028</td>\n",
       "      <td>0.009369</td>\n",
       "      <td>0.019889</td>\n",
       "      <td>0.019398</td>\n",
       "    </tr>\n",
       "    <tr>\n",
       "      <th>TotalWorkingYears</th>\n",
       "      <td>0.680037</td>\n",
       "      <td>-0.169670</td>\n",
       "      <td>0.009574</td>\n",
       "      <td>-0.009228</td>\n",
       "      <td>-0.036293</td>\n",
       "      <td>-0.034398</td>\n",
       "      <td>0.238807</td>\n",
       "      <td>-0.018480</td>\n",
       "      <td>0.003138</td>\n",
       "      <td>1.000000</td>\n",
       "      <td>-0.041459</td>\n",
       "      <td>0.627738</td>\n",
       "      <td>0.404058</td>\n",
       "      <td>0.458640</td>\n",
       "    </tr>\n",
       "    <tr>\n",
       "      <th>TrainingTimesLastYear</th>\n",
       "      <td>-0.028962</td>\n",
       "      <td>-0.047586</td>\n",
       "      <td>-0.008957</td>\n",
       "      <td>0.009939</td>\n",
       "      <td>-0.031931</td>\n",
       "      <td>0.049780</td>\n",
       "      <td>-0.031335</td>\n",
       "      <td>-0.036720</td>\n",
       "      <td>-0.068028</td>\n",
       "      <td>-0.041459</td>\n",
       "      <td>1.000000</td>\n",
       "      <td>-0.010447</td>\n",
       "      <td>0.015340</td>\n",
       "      <td>-0.015792</td>\n",
       "    </tr>\n",
       "    <tr>\n",
       "      <th>YearsAtCompany</th>\n",
       "      <td>0.311281</td>\n",
       "      <td>-0.133003</td>\n",
       "      <td>0.030746</td>\n",
       "      <td>0.005997</td>\n",
       "      <td>-0.063360</td>\n",
       "      <td>0.000088</td>\n",
       "      <td>-0.117213</td>\n",
       "      <td>-0.029022</td>\n",
       "      <td>0.009369</td>\n",
       "      <td>0.627738</td>\n",
       "      <td>-0.010447</td>\n",
       "      <td>1.000000</td>\n",
       "      <td>0.618722</td>\n",
       "      <td>0.769161</td>\n",
       "    </tr>\n",
       "    <tr>\n",
       "      <th>YearsSinceLastPromotion</th>\n",
       "      <td>0.215650</td>\n",
       "      <td>-0.031423</td>\n",
       "      <td>0.002243</td>\n",
       "      <td>0.023457</td>\n",
       "      <td>-0.059680</td>\n",
       "      <td>0.064470</td>\n",
       "      <td>-0.035855</td>\n",
       "      <td>-0.028654</td>\n",
       "      <td>0.019889</td>\n",
       "      <td>0.404058</td>\n",
       "      <td>0.015340</td>\n",
       "      <td>0.618722</td>\n",
       "      <td>1.000000</td>\n",
       "      <td>0.510341</td>\n",
       "    </tr>\n",
       "    <tr>\n",
       "      <th>YearsWithCurrManager</th>\n",
       "      <td>0.201580</td>\n",
       "      <td>-0.154692</td>\n",
       "      <td>0.021773</td>\n",
       "      <td>0.005645</td>\n",
       "      <td>-0.053898</td>\n",
       "      <td>0.023095</td>\n",
       "      <td>-0.109372</td>\n",
       "      <td>-0.039687</td>\n",
       "      <td>0.019398</td>\n",
       "      <td>0.458640</td>\n",
       "      <td>-0.015792</td>\n",
       "      <td>0.769161</td>\n",
       "      <td>0.510341</td>\n",
       "      <td>1.000000</td>\n",
       "    </tr>\n",
       "  </tbody>\n",
       "</table>\n",
       "</div>"
      ],
      "text/plain": [
       "                              Age  Attrition01  DistanceFromHome  Education  \\\n",
       "Age                      1.000000    -0.158399          0.007376  -0.033900   \n",
       "Attrition01             -0.158399     1.000000         -0.009449  -0.017106   \n",
       "DistanceFromHome         0.007376    -0.009449          1.000000  -0.007491   \n",
       "Education               -0.033900    -0.017106         -0.007491   1.000000   \n",
       "JobLevel                -0.001137    -0.012382         -0.039990   0.045822   \n",
       "MonthlyIncome           -0.045163    -0.030160         -0.022757   0.007289   \n",
       "NumCompaniesWorked       0.299527     0.042831         -0.014449  -0.016210   \n",
       "PercentSalaryHike       -0.032561     0.033153          0.037720  -0.041054   \n",
       "StockOptionLevel        -0.031504    -0.008164          0.009353   0.002386   \n",
       "TotalWorkingYears        0.680037    -0.169670          0.009574  -0.009228   \n",
       "TrainingTimesLastYear   -0.028962    -0.047586         -0.008957   0.009939   \n",
       "YearsAtCompany           0.311281    -0.133003          0.030746   0.005997   \n",
       "YearsSinceLastPromotion  0.215650    -0.031423          0.002243   0.023457   \n",
       "YearsWithCurrManager     0.201580    -0.154692          0.021773   0.005645   \n",
       "\n",
       "                         JobLevel  MonthlyIncome  NumCompaniesWorked  \\\n",
       "Age                     -0.001137      -0.045163            0.299527   \n",
       "Attrition01             -0.012382      -0.030160            0.042831   \n",
       "DistanceFromHome        -0.039990      -0.022757           -0.014449   \n",
       "Education                0.045822       0.007289           -0.016210   \n",
       "JobLevel                 1.000000       0.046688           -0.009759   \n",
       "MonthlyIncome            0.046688       1.000000           -0.021446   \n",
       "NumCompaniesWorked      -0.009759      -0.021446            1.000000   \n",
       "PercentSalaryHike        0.010874       0.004607            0.030064   \n",
       "StockOptionLevel         0.000365       0.027242            0.016291   \n",
       "TotalWorkingYears       -0.036293      -0.034398            0.238807   \n",
       "TrainingTimesLastYear   -0.031931       0.049780           -0.031335   \n",
       "YearsAtCompany          -0.063360       0.000088           -0.117213   \n",
       "YearsSinceLastPromotion -0.059680       0.064470           -0.035855   \n",
       "YearsWithCurrManager    -0.053898       0.023095           -0.109372   \n",
       "\n",
       "                         PercentSalaryHike  StockOptionLevel  \\\n",
       "Age                              -0.032561         -0.031504   \n",
       "Attrition01                       0.033153         -0.008164   \n",
       "DistanceFromHome                  0.037720          0.009353   \n",
       "Education                        -0.041054          0.002386   \n",
       "JobLevel                          0.010874          0.000365   \n",
       "MonthlyIncome                     0.004607          0.027242   \n",
       "NumCompaniesWorked                0.030064          0.016291   \n",
       "PercentSalaryHike                 1.000000          0.012104   \n",
       "StockOptionLevel                  0.012104          1.000000   \n",
       "TotalWorkingYears                -0.018480          0.003138   \n",
       "TrainingTimesLastYear            -0.036720         -0.068028   \n",
       "YearsAtCompany                   -0.029022          0.009369   \n",
       "YearsSinceLastPromotion          -0.028654          0.019889   \n",
       "YearsWithCurrManager             -0.039687          0.019398   \n",
       "\n",
       "                         TotalWorkingYears  TrainingTimesLastYear  \\\n",
       "Age                               0.680037              -0.028962   \n",
       "Attrition01                      -0.169670              -0.047586   \n",
       "DistanceFromHome                  0.009574              -0.008957   \n",
       "Education                        -0.009228               0.009939   \n",
       "JobLevel                         -0.036293              -0.031931   \n",
       "MonthlyIncome                    -0.034398               0.049780   \n",
       "NumCompaniesWorked                0.238807              -0.031335   \n",
       "PercentSalaryHike                -0.018480              -0.036720   \n",
       "StockOptionLevel                  0.003138              -0.068028   \n",
       "TotalWorkingYears                 1.000000              -0.041459   \n",
       "TrainingTimesLastYear            -0.041459               1.000000   \n",
       "YearsAtCompany                    0.627738              -0.010447   \n",
       "YearsSinceLastPromotion           0.404058               0.015340   \n",
       "YearsWithCurrManager              0.458640              -0.015792   \n",
       "\n",
       "                         YearsAtCompany  YearsSinceLastPromotion  \\\n",
       "Age                            0.311281                 0.215650   \n",
       "Attrition01                   -0.133003                -0.031423   \n",
       "DistanceFromHome               0.030746                 0.002243   \n",
       "Education                      0.005997                 0.023457   \n",
       "JobLevel                      -0.063360                -0.059680   \n",
       "MonthlyIncome                  0.000088                 0.064470   \n",
       "NumCompaniesWorked            -0.117213                -0.035855   \n",
       "PercentSalaryHike             -0.029022                -0.028654   \n",
       "StockOptionLevel               0.009369                 0.019889   \n",
       "TotalWorkingYears              0.627738                 0.404058   \n",
       "TrainingTimesLastYear         -0.010447                 0.015340   \n",
       "YearsAtCompany                 1.000000                 0.618722   \n",
       "YearsSinceLastPromotion        0.618722                 1.000000   \n",
       "YearsWithCurrManager           0.769161                 0.510341   \n",
       "\n",
       "                         YearsWithCurrManager  \n",
       "Age                                  0.201580  \n",
       "Attrition01                         -0.154692  \n",
       "DistanceFromHome                     0.021773  \n",
       "Education                            0.005645  \n",
       "JobLevel                            -0.053898  \n",
       "MonthlyIncome                        0.023095  \n",
       "NumCompaniesWorked                  -0.109372  \n",
       "PercentSalaryHike                   -0.039687  \n",
       "StockOptionLevel                     0.019398  \n",
       "TotalWorkingYears                    0.458640  \n",
       "TrainingTimesLastYear               -0.015792  \n",
       "YearsAtCompany                       0.769161  \n",
       "YearsSinceLastPromotion              0.510341  \n",
       "YearsWithCurrManager                 1.000000  "
      ]
     },
     "execution_count": 4,
     "metadata": {},
     "output_type": "execute_result"
    }
   ],
   "source": [
    "# Correlation matrix\n",
    "df.corr()"
   ]
  },
  {
   "cell_type": "markdown",
   "metadata": {},
   "source": [
    "## 1. Age vs Attrition"
   ]
  },
  {
   "cell_type": "code",
   "execution_count": 5,
   "metadata": {},
   "outputs": [
    {
     "name": "stdout",
     "output_type": "stream",
     "text": [
      "p-value: 5.1265982193780794e-26\n",
      "reject H0: True\n"
     ]
    }
   ],
   "source": [
    "from scipy.stats import pearsonr\n",
    "\n",
    "stats,p = pearsonr(df.Attrition01, df.Age)\n",
    "print(\"p-value:\", p)\n",
    "print(\"reject H0:\", p<0.05)"
   ]
  },
  {
   "cell_type": "markdown",
   "metadata": {},
   "source": [
    "Null hypothesis can be rejected: There is a correlation between age and attrition."
   ]
  },
  {
   "cell_type": "markdown",
   "metadata": {},
   "source": [
    "## 2. Monthly income vs Attrition"
   ]
  },
  {
   "cell_type": "code",
   "execution_count": 6,
   "metadata": {},
   "outputs": [
    {
     "name": "stdout",
     "output_type": "stream",
     "text": [
      "p-value: 0.045890862744719166\n",
      "reject H0: True\n"
     ]
    }
   ],
   "source": [
    "stats,p = pearsonr(df.Attrition01, df.MonthlyIncome)\n",
    "print(\"p-value:\", p)\n",
    "print(\"reject H0:\", p<0.05)"
   ]
  },
  {
   "cell_type": "markdown",
   "metadata": {},
   "source": [
    "Null hypothesis can be rejected: There is a correlation between monthly income and attrition"
   ]
  },
  {
   "cell_type": "markdown",
   "metadata": {},
   "source": [
    "## 3. Total working years vs Attrition"
   ]
  },
  {
   "cell_type": "code",
   "execution_count": 7,
   "metadata": {},
   "outputs": [
    {
     "name": "stdout",
     "output_type": "stream",
     "text": [
      "p-value: 1.1645434967091854e-29\n",
      "reject H0: True\n"
     ]
    }
   ],
   "source": [
    "stats,p = pearsonr(df.Attrition01, df.TotalWorkingYears)\n",
    "print(\"p-value:\", p)\n",
    "print(\"reject H0:\", p<0.05)"
   ]
  },
  {
   "cell_type": "markdown",
   "metadata": {},
   "source": [
    "Null hypothesis can be rejected: There is a correlation between total working years and attrition"
   ]
  },
  {
   "cell_type": "markdown",
   "metadata": {},
   "source": [
    "## 4. Num companies worked vs Attrition"
   ]
  },
  {
   "cell_type": "code",
   "execution_count": 8,
   "metadata": {},
   "outputs": [
    {
     "name": "stdout",
     "output_type": "stream",
     "text": [
      "p-value: 0.004572057121620842\n",
      "reject H0: True\n"
     ]
    }
   ],
   "source": [
    "stats,p = pearsonr(df.Attrition01, df.NumCompaniesWorked)\n",
    "print(\"p-value:\", p)\n",
    "print(\"reject H0:\", p<0.05)"
   ]
  },
  {
   "cell_type": "markdown",
   "metadata": {},
   "source": [
    "Null hypothesis can be rejected: There is a correlation between the number of companies an employee has worked for and attrition"
   ]
  },
  {
   "cell_type": "markdown",
   "metadata": {},
   "source": [
    "## 5. Years at company vs Attrition"
   ]
  },
  {
   "cell_type": "code",
   "execution_count": 9,
   "metadata": {},
   "outputs": [
    {
     "name": "stdout",
     "output_type": "stream",
     "text": [
      "p-value: 9.476118084836507e-19\n",
      "reject H0: True\n"
     ]
    }
   ],
   "source": [
    "stats,p = pearsonr(df.Attrition01, df.YearsAtCompany)\n",
    "print(\"p-value:\", p)\n",
    "print(\"reject H0:\", p<0.05)"
   ]
  },
  {
   "cell_type": "markdown",
   "metadata": {},
   "source": [
    "We can reject the null hypothesis: There is a correlation between the number of years at the company and attrition."
   ]
  },
  {
   "cell_type": "markdown",
   "metadata": {},
   "source": [
    "## 6. Years since promotion vs Attrition"
   ]
  },
  {
   "cell_type": "code",
   "execution_count": 10,
   "metadata": {},
   "outputs": [
    {
     "name": "stdout",
     "output_type": "stream",
     "text": [
      "p-value: 0.03752293607395154\n",
      "reject H0: True\n"
     ]
    }
   ],
   "source": [
    "stats,p = pearsonr(df.Attrition01, df.YearsSinceLastPromotion)\n",
    "print(\"p-value:\", p)\n",
    "print(\"reject H0:\", p<0.05)"
   ]
  },
  {
   "cell_type": "markdown",
   "metadata": {},
   "source": [
    "We can reject the null hypothesis: There is a correlation between the number of years since the last promotion and attrition"
   ]
  },
  {
   "cell_type": "markdown",
   "metadata": {},
   "source": [
    "## 7. Job level vs Attrition"
   ]
  },
  {
   "cell_type": "code",
   "execution_count": 11,
   "metadata": {},
   "outputs": [
    {
     "name": "stdout",
     "output_type": "stream",
     "text": [
      "p-value: 0.4125489150380087\n",
      "reject H0: False\n"
     ]
    }
   ],
   "source": [
    "stats,p = pearsonr(df.Attrition01, df.JobLevel)\n",
    "print(\"p-value:\", p)\n",
    "print(\"reject H0:\", p<0.05)"
   ]
  },
  {
   "cell_type": "markdown",
   "metadata": {},
   "source": [
    "We cannot reject the null hypothesis: There is no evidence of correlation between job level and attrition"
   ]
  },
  {
   "cell_type": "markdown",
   "metadata": {},
   "source": [
    "## 8. Education vs Attrition"
   ]
  },
  {
   "cell_type": "code",
   "execution_count": 12,
   "metadata": {},
   "outputs": [
    {
     "name": "stdout",
     "output_type": "stream",
     "text": [
      "p-value: 0.25757539308157945\n",
      "reject H0: False\n"
     ]
    }
   ],
   "source": [
    "stats,p = pearsonr(df.Attrition01, df.Education)\n",
    "print(\"p-value:\", p)\n",
    "print(\"reject H0:\", p<0.05)"
   ]
  },
  {
   "cell_type": "markdown",
   "metadata": {},
   "source": [
    "We cannot reject the null hypothesis: There is no evidence of correlation between education and attrition"
   ]
  },
  {
   "cell_type": "markdown",
   "metadata": {},
   "source": [
    "## 9. Number of training vs Attrition"
   ]
  },
  {
   "cell_type": "code",
   "execution_count": 13,
   "metadata": {},
   "outputs": [
    {
     "name": "stdout",
     "output_type": "stream",
     "text": [
      "p-value: 0.0016276603635477602\n",
      "reject H0: True\n"
     ]
    }
   ],
   "source": [
    "stats,p = pearsonr(df.Attrition01, df.TrainingTimesLastYear)\n",
    "print(\"p-value:\", p)\n",
    "print(\"reject H0:\", p<0.05)"
   ]
  },
  {
   "cell_type": "markdown",
   "metadata": {},
   "source": [
    "Null hypothesis can be rejected: There is a correlation between training times and attrition."
   ]
  },
  {
   "cell_type": "markdown",
   "metadata": {},
   "source": [
    "## 10. Distance from home vs Attrition"
   ]
  },
  {
   "cell_type": "code",
   "execution_count": 14,
   "metadata": {},
   "outputs": [
    {
     "name": "stdout",
     "output_type": "stream",
     "text": [
      "p-value: 0.5317715668019558\n",
      "reject H0: False\n"
     ]
    }
   ],
   "source": [
    "stats,p = pearsonr(df.Attrition01, df.DistanceFromHome)\n",
    "print(\"p-value:\", p)\n",
    "print(\"reject H0:\", p<0.05)"
   ]
  },
  {
   "cell_type": "markdown",
   "metadata": {},
   "source": [
    "Null hypothesis cannot be rejected: There is no evidence showing correlation between distance from home and attrition"
   ]
  }
 ],
 "metadata": {
  "kernelspec": {
   "display_name": "Python 3",
   "language": "python",
   "name": "python3"
  },
  "language_info": {
   "codemirror_mode": {
    "name": "ipython",
    "version": 3
   },
   "file_extension": ".py",
   "mimetype": "text/x-python",
   "name": "python",
   "nbconvert_exporter": "python",
   "pygments_lexer": "ipython3",
   "version": "3.7.3"
  }
 },
 "nbformat": 4,
 "nbformat_minor": 2
}
