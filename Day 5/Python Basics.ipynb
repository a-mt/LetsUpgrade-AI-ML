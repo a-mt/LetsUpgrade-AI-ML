{
 "cells": [
  {
   "cell_type": "markdown",
   "metadata": {},
   "source": [
    "Instructions: https://github.com/LetsUpgrade/AI-ML-July-2020/blob/master/Day-5/Day%205%20Assignment.pdf\n",
    "\n",
    "# 1. Prime numbers\n",
    "\n",
    "Find the first 20 non-even prime natural numbers."
   ]
  },
  {
   "cell_type": "code",
   "execution_count": 1,
   "metadata": {},
   "outputs": [
    {
     "name": "stdout",
     "output_type": "stream",
     "text": [
      "5 7 11 13 17 19 23 29 31 37 41 43 47 53 59 61 67 71 73 79 "
     ]
    }
   ],
   "source": [
    "k = 3\n",
    "c = 0\n",
    "\n",
    "while True:\n",
    "    k += 1\n",
    "\n",
    "    # Ignore even numbers\n",
    "    if k%2 == 0:\n",
    "        continue\n",
    "\n",
    "    # Check if k is a prime numbers\n",
    "    for i in range(2, k):\n",
    "        if (k % i) == 0:\n",
    "            break\n",
    "\n",
    "    # It is\n",
    "    else:\n",
    "        print(k, end=\" \")\n",
    "\n",
    "        # Limit to 20 first prime\n",
    "        c += 1\n",
    "        if c == 20:\n",
    "            break"
   ]
  },
  {
   "cell_type": "markdown",
   "metadata": {},
   "source": [
    "# 2. 15 functions of string\n",
    "\n",
    "Implement 15 functions of string.\n",
    "\n",
    "https://docs.python.org/2.5/lib/string-methods.html\n"
   ]
  },
  {
   "cell_type": "code",
   "execution_count": 2,
   "metadata": {},
   "outputs": [
    {
     "name": "stdout",
     "output_type": "stream",
     "text": [
      "lower:      hello world\n",
      "upper:      HELLO WORLD\n",
      "swapcase:   hELLO wORLD\n",
      "title:      Hello World\n"
     ]
    }
   ],
   "source": [
    "print(\"lower:     \", \"Hello World\".lower())\n",
    "print(\"upper:     \", \"Hello World\".upper())\n",
    "print(\"swapcase:  \", \"Hello World\".swapcase())\n",
    "print(\"title:     \", \"hello world\".title())"
   ]
  },
  {
   "cell_type": "code",
   "execution_count": 3,
   "metadata": {},
   "outputs": [
    {
     "name": "stdout",
     "output_type": "stream",
     "text": [
      "strip:      Hello World\n",
      "replace:    Hell0 W0rld\n",
      "encode:     b'n1'\n"
     ]
    }
   ],
   "source": [
    "print(\"strip:     \", \"--Hello World--\".strip(\"-\"))\n",
    "print(\"replace:   \", \"Hello World\".replace(\"o\", \"0\"))\n",
    "\n",
    "# remove all non-ascii chars\n",
    "print(\"encode:    \", \"n°1\".encode(encoding=\"ascii\", errors=\"ignore\"))"
   ]
  },
  {
   "cell_type": "code",
   "execution_count": 4,
   "metadata": {},
   "outputs": [
    {
     "name": "stdout",
     "output_type": "stream",
     "text": [
      "find:       4\n",
      "index:      4\n",
      "startswith: True\n",
      "count:      2\n"
     ]
    }
   ],
   "source": [
    "print(\"find:      \", \"Hello World\".find(\"o\"))  # -1 if not found\n",
    "print(\"index:     \", \"Hello World\".index(\"o\")) # ValueError if not found\n",
    "print(\"startswith:\", \"Hello World\".startswith(\"H\"))\n",
    "print(\"count:     \", \"Hello World\".count(\"o\"))"
   ]
  },
  {
   "cell_type": "code",
   "execution_count": 5,
   "metadata": {},
   "outputs": [
    {
     "name": "stdout",
     "output_type": "stream",
     "text": [
      "zfill:      001\n",
      "ljust:      1..\n",
      "rjust:      ..1\n",
      "center:     ..1..\n"
     ]
    }
   ],
   "source": [
    "print(\"zfill:     \", \"1\".zfill(3))             # pad with 0\n",
    "print(\"ljust:     \", \"1\".ljust(3, \".\"))        # 2nd param is optional\n",
    "print(\"rjust:     \", \"1\".rjust(3, \".\"))        # 2nd param is optional\n",
    "print(\"center:    \", \"1\".center(5,\".\"))        # 2nd param is optional"
   ]
  },
  {
   "cell_type": "code",
   "execution_count": 6,
   "metadata": {},
   "outputs": [
    {
     "name": "stdout",
     "output_type": "stream",
     "text": [
      "format:     001.      Bob - My song.mp3\n"
     ]
    }
   ],
   "source": [
    "# https://www.w3schools.com/python/ref_string_format.asp\n",
    "print(\"format:    \", \"{track:03d}. {artist:>8s} - {title:s}.mp3\".format(track=1, artist=\"Bob\", title=\"My song\"))"
   ]
  },
  {
   "cell_type": "markdown",
   "metadata": {},
   "source": [
    "# 3. Palindrome / Anagram\n",
    "\n",
    "Check if the given string is a Palindrome or Anagram or None of them. Display the message accordingly to the user."
   ]
  },
  {
   "cell_type": "code",
   "execution_count": 7,
   "metadata": {},
   "outputs": [
    {
     "name": "stdout",
     "output_type": "stream",
     "text": [
      "Enter a palindrome [reviver]: \n",
      "> reviver is a palindrome\n"
     ]
    }
   ],
   "source": [
    "def isPalindrome(text):\n",
    "    '''\n",
    "    Checks is the given text is a palindrome\n",
    "    That is, a text that can be read left-to-right and right-to-left\n",
    "    ex: madam\n",
    "    '''\n",
    "    text = text.replace(\" \", \"\")\n",
    "\n",
    "    for i in range(len(text)//2):\n",
    "        if text[i] != text[-(i+1)]:\n",
    "            return False\n",
    "    return True\n",
    "\n",
    "text1 = input(\"Enter a palindrome [reviver]: \") or \"reviver\"\n",
    "\n",
    "print(\">\", text1, (\"is not\", \"is\")[isPalindrome(text1)], \"a palindrome\")"
   ]
  },
  {
   "cell_type": "code",
   "execution_count": 8,
   "metadata": {},
   "outputs": [
    {
     "name": "stdout",
     "output_type": "stream",
     "text": [
      "Enter an anagram of your first entry [revivre]:\n",
      "> revivre is an anagram of reviver\n"
     ]
    }
   ],
   "source": [
    "def isAnagram(text1, text2):\n",
    "    '''\n",
    "    Checks is the two texts are anagrams\n",
    "    An anagram a text formed by rearranging the letters\n",
    "    ex: forty five / over fifty\n",
    "    '''\n",
    "    return sorted(list(text1)) == sorted(list(text2))\n",
    "\n",
    "text2 = input(\"Enter an anagram of your first entry [revivre]:\") or \"revivre\"\n",
    "\n",
    "print(\">\", text2, (\"is not\", \"is\")[isAnagram(text1, text2)], \"an anagram of\", text1)"
   ]
  },
  {
   "cell_type": "markdown",
   "metadata": {},
   "source": [
    "# 4. Slugify\n",
    "\n",
    "Write a Python's user defined function that removes all the additional characters from the string and converts it finally to lower case using built-in lower(). eg: If the string is \"Dr. Darshan Ingle@AI-ML Trainer\", then the output be \"drdarshaningleaimltrainer\"."
   ]
  },
  {
   "cell_type": "code",
   "execution_count": 9,
   "metadata": {},
   "outputs": [
    {
     "name": "stdout",
     "output_type": "stream",
     "text": [
      "drdarshaningleaimltrainer\n"
     ]
    }
   ],
   "source": [
    "def slugify(text):\n",
    "    res = \"\"\n",
    "\n",
    "    for c in text:\n",
    "        if c.isalpha():\n",
    "            res += c\n",
    "    return res.lower()\n",
    "\n",
    "print(slugify(\"Dr. Darshan Ingle@AI-ML Trainer\"))"
   ]
  }
 ],
 "metadata": {
  "kernelspec": {
   "display_name": "Python 3",
   "language": "python",
   "name": "python3"
  },
  "language_info": {
   "codemirror_mode": {
    "name": "ipython",
    "version": 3
   },
   "file_extension": ".py",
   "mimetype": "text/x-python",
   "name": "python",
   "nbconvert_exporter": "python",
   "pygments_lexer": "ipython3",
   "version": "3.7.3"
  }
 },
 "nbformat": 4,
 "nbformat_minor": 2
}
