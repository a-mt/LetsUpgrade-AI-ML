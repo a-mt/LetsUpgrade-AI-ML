{
 "cells": [
  {
   "cell_type": "markdown",
   "metadata": {},
   "source": [
    "# 1. Create a 3x3x3 array with random values "
   ]
  },
  {
   "cell_type": "code",
   "execution_count": 1,
   "metadata": {},
   "outputs": [
    {
     "data": {
      "text/plain": [
       "array([[[0.62571215, 0.52698935, 0.51464971],\n",
       "        [0.90428998, 0.45250424, 0.58603695],\n",
       "        [0.4280628 , 0.53960374, 0.49403581]],\n",
       "\n",
       "       [[0.96299888, 0.40724307, 0.2880948 ],\n",
       "        [0.22499548, 0.06536699, 0.56791207],\n",
       "        [0.41422059, 0.89306889, 0.70758667]],\n",
       "\n",
       "       [[0.99892354, 0.68203966, 0.48093501],\n",
       "        [0.74305185, 0.21516347, 0.91072052],\n",
       "        [0.32479355, 0.64540557, 0.62963207]]])"
      ]
     },
     "execution_count": 1,
     "metadata": {},
     "output_type": "execute_result"
    }
   ],
   "source": [
    "import numpy as np\n",
    "\n",
    "np.random.rand(3,3,3)"
   ]
  },
  {
   "cell_type": "markdown",
   "metadata": {},
   "source": [
    "# 2.Create a 5x5 matrix with values 1,2,3,4 just below the diagonal"
   ]
  },
  {
   "cell_type": "code",
   "execution_count": 2,
   "metadata": {},
   "outputs": [
    {
     "data": {
      "text/plain": [
       "array([[0, 0, 0, 0, 0],\n",
       "       [1, 0, 0, 0, 0],\n",
       "       [0, 2, 0, 0, 0],\n",
       "       [0, 0, 3, 0, 0],\n",
       "       [0, 0, 0, 4, 0]])"
      ]
     },
     "execution_count": 2,
     "metadata": {},
     "output_type": "execute_result"
    }
   ],
   "source": [
    "np.diag(np.arange(1,5), k=-1)"
   ]
  },
  {
   "cell_type": "markdown",
   "metadata": {},
   "source": [
    "# 3.Create a 8x8 matrix and fill it with a checkerboard pattern"
   ]
  },
  {
   "cell_type": "code",
   "execution_count": 3,
   "metadata": {},
   "outputs": [
    {
     "data": {
      "text/plain": [
       "array([[1., 0., 1., 0., 1., 0., 1., 0.],\n",
       "       [0., 1., 0., 1., 0., 1., 0., 1.],\n",
       "       [1., 0., 1., 0., 1., 0., 1., 0.],\n",
       "       [0., 1., 0., 1., 0., 1., 0., 1.],\n",
       "       [1., 0., 1., 0., 1., 0., 1., 0.],\n",
       "       [0., 1., 0., 1., 0., 1., 0., 1.],\n",
       "       [1., 0., 1., 0., 1., 0., 1., 0.],\n",
       "       [0., 1., 0., 1., 0., 1., 0., 1.]])"
      ]
     },
     "execution_count": 3,
     "metadata": {},
     "output_type": "execute_result"
    }
   ],
   "source": [
    "a = np.ones((8,8))\n",
    "a[1::2,::2] = 0\n",
    "a[::2,1::2] = 0\n",
    "a"
   ]
  },
  {
   "cell_type": "markdown",
   "metadata": {},
   "source": [
    "# 4. Normalize a 5x5 random matrix"
   ]
  },
  {
   "cell_type": "code",
   "execution_count": 4,
   "metadata": {},
   "outputs": [
    {
     "data": {
      "text/plain": [
       "array([[0.1291348 , 0.39148268, 0.88264384],\n",
       "       [0.98228433, 0.32285611, 0.69370245],\n",
       "       [0.39057496, 0.5057843 , 0.34279175],\n",
       "       [0.        , 1.        , 0.6089875 ],\n",
       "       [0.29904344, 0.93583743, 0.2947867 ]])"
      ]
     },
     "execution_count": 4,
     "metadata": {},
     "output_type": "execute_result"
    }
   ],
   "source": [
    "a    = np.random.random((5, 3))\n",
    "_max = a.max()\n",
    "_min = a.min()\n",
    "(a - _min) / (_max - _min)"
   ]
  },
  {
   "cell_type": "markdown",
   "metadata": {},
   "source": [
    "# 5.  How to find common values between two arrays?"
   ]
  },
  {
   "cell_type": "code",
   "execution_count": 5,
   "metadata": {},
   "outputs": [
    {
     "data": {
      "text/plain": [
       "array([1, 4])"
      ]
     },
     "execution_count": 5,
     "metadata": {},
     "output_type": "execute_result"
    }
   ],
   "source": [
    "a1 = np.array([[1,2],[3,4]])\n",
    "a2 = np.array([[4,5],[6,1]])\n",
    "np.intersect1d(a1, a2)"
   ]
  },
  {
   "cell_type": "markdown",
   "metadata": {},
   "source": [
    "# 6.How to get the dates of yesterday, today and tomorrow?"
   ]
  },
  {
   "cell_type": "code",
   "execution_count": 6,
   "metadata": {},
   "outputs": [
    {
     "name": "stdout",
     "output_type": "stream",
     "text": [
      "Date yesterday: 2020-07-25\n",
      "Date today    : 2020-07-26\n",
      "Date tomorrow : 2020-07-27\n"
     ]
    }
   ],
   "source": [
    "print(\"Date yesterday:\", np.datetime64('today') - np.timedelta64(1, 'D'))\n",
    "print(\"Date today    :\", np.datetime64('today'))\n",
    "print(\"Date tomorrow :\", np.datetime64('today') + np.timedelta64(1, 'D'))"
   ]
  },
  {
   "cell_type": "markdown",
   "metadata": {},
   "source": [
    "# 7. Consider two random array A and B, check if they are equal"
   ]
  },
  {
   "cell_type": "code",
   "execution_count": 7,
   "metadata": {},
   "outputs": [
    {
     "data": {
      "text/plain": [
       "False"
      ]
     },
     "execution_count": 7,
     "metadata": {},
     "output_type": "execute_result"
    }
   ],
   "source": [
    "a1 = np.random.rand(3,3)\n",
    "a2 = np.random.rand(3,3)\n",
    "np.array_equal(a1,a2)"
   ]
  },
  {
   "cell_type": "markdown",
   "metadata": {},
   "source": [
    "# 8.Create random vector of size 10 and replace the maximum value by 0 "
   ]
  },
  {
   "cell_type": "code",
   "execution_count": 8,
   "metadata": {},
   "outputs": [
    {
     "data": {
      "text/plain": [
       "array([0.41717892, 0.60542486, 0.81150635, 0.40815675, 0.44860778,\n",
       "       0.25292251, 0.00157143, 0.73039941, 0.65716079, 0.        ])"
      ]
     },
     "execution_count": 8,
     "metadata": {},
     "output_type": "execute_result"
    }
   ],
   "source": [
    "a = np.random.rand(10)\n",
    "a[a == a.max()] = 0\n",
    "a"
   ]
  },
  {
   "cell_type": "markdown",
   "metadata": {},
   "source": [
    "# 9. How to print all the values of an array?"
   ]
  },
  {
   "cell_type": "code",
   "execution_count": 9,
   "metadata": {},
   "outputs": [
    {
     "name": "stdout",
     "output_type": "stream",
     "text": [
      "0.25063844822020553\n",
      "0.9559566553762621\n",
      "0.9851882271533368\n",
      "0.830307255328675\n",
      "0.3489726357391738\n",
      "0.4895505040737391\n",
      "0.7882557081439852\n",
      "0.9417166072709375\n"
     ]
    }
   ],
   "source": [
    "a = np.random.rand(2,2,2)\n",
    "\n",
    "for i in a.flatten():\n",
    "    print(i)"
   ]
  },
  {
   "cell_type": "markdown",
   "metadata": {},
   "source": [
    "# 10.Subtract the mean of each row of a matrix"
   ]
  },
  {
   "cell_type": "code",
   "execution_count": 10,
   "metadata": {},
   "outputs": [
    {
     "data": {
      "text/plain": [
       "array([[-1., -3., -5.],\n",
       "       [ 2.,  0., -2.],\n",
       "       [ 5.,  3.,  1.]])"
      ]
     },
     "execution_count": 10,
     "metadata": {},
     "output_type": "execute_result"
    }
   ],
   "source": [
    "a = [[1,2,3],[4,5,6],[7,8,9]]\n",
    "a - np.mean(a, axis=1)"
   ]
  },
  {
   "cell_type": "markdown",
   "metadata": {},
   "source": [
    "# 11.Consider a given vector, how to add 1 to each element indexed by a second vector (be careful with repeated indices)? "
   ]
  },
  {
   "cell_type": "code",
   "execution_count": 11,
   "metadata": {},
   "outputs": [
    {
     "data": {
      "text/plain": [
       "array([1.4818328 , 0.93004638, 1.83932274, 0.09948546, 0.80195761,\n",
       "       0.5396722 , 0.58803985, 0.86972983, 0.5048371 , 1.0102217 ])"
      ]
     },
     "execution_count": 11,
     "metadata": {},
     "output_type": "execute_result"
    }
   ],
   "source": [
    "a = np.random.rand(10)\n",
    "b = np.array([0,2,2,9])\n",
    "a[np.bincount(b) != 0] += 1\n",
    "a"
   ]
  },
  {
   "cell_type": "markdown",
   "metadata": {},
   "source": [
    "# 12.How to get the diagonal of a dot product?"
   ]
  },
  {
   "cell_type": "code",
   "execution_count": 12,
   "metadata": {},
   "outputs": [
    {
     "data": {
      "text/plain": [
       "array([10.86634245,  9.13031304, 14.46084415,  8.21691389, 10.61220364,\n",
       "       12.1928199 ,  8.95460964, 14.93458011,  7.3943196 ,  8.60885485,\n",
       "       16.3505845 ,  6.935117  ,  7.44718899, 18.6971573 ,  9.7686984 ,\n",
       "       10.59864292, 17.06238292,  8.34413143, 21.56659674, 10.34248068,\n",
       "        7.8752488 , 18.028211  , 22.44751306, 13.77622356, 18.11019836,\n",
       "        8.99838985, 18.41325263,  8.79786676,  9.41556861, 15.38757711,\n",
       "       19.35754586, 15.78874594,  6.25968699,  9.95292022, 12.51028514,\n",
       "       16.90587978,  8.77837661, 11.14024111,  8.88586896,  6.72869736,\n",
       "       14.07982752, 13.1901583 ,  9.91631386,  8.2580407 , 11.03368835,\n",
       "       19.6291388 ,  8.16907752, 12.8167471 , 11.38195137, 16.93046284])"
      ]
     },
     "execution_count": 12,
     "metadata": {},
     "output_type": "execute_result"
    }
   ],
   "source": [
    "# https://stackoverflow.com/questions/14758283/is-there-a-numpy-scipy-dot-product-calculating-only-the-diagonal-entries-of-the\n",
    "a = np.random.rand(50, 10)\n",
    "b = np.random.rand(10, 10)\n",
    "np.einsum('ij,jk,ki->i', a, b, a.T)"
   ]
  },
  {
   "cell_type": "markdown",
   "metadata": {},
   "source": [
    "# 13.How to find the most frequent value in an array?"
   ]
  },
  {
   "cell_type": "code",
   "execution_count": 13,
   "metadata": {},
   "outputs": [
    {
     "data": {
      "text/plain": [
       "2"
      ]
     },
     "execution_count": 13,
     "metadata": {},
     "output_type": "execute_result"
    }
   ],
   "source": [
    "a = np.array([1,2,2,3,4,1,2])\n",
    "\n",
    "values, count = np.unique(a, return_counts=True)\n",
    "values[np.argmax(count)]"
   ]
  },
  {
   "cell_type": "markdown",
   "metadata": {},
   "source": [
    "# 14.How to get the n largest values of an array"
   ]
  },
  {
   "cell_type": "code",
   "execution_count": 14,
   "metadata": {},
   "outputs": [
    {
     "data": {
      "text/plain": [
       "[0.6988665918936943,\n",
       " 0.8171836340364698,\n",
       " 0.9185992195867856,\n",
       " 0.9759654843321034,\n",
       " 0.9842219906559604]"
      ]
     },
     "execution_count": 14,
     "metadata": {},
     "output_type": "execute_result"
    }
   ],
   "source": [
    "n = 5\n",
    "a = np.random.rand(3,3,3)\n",
    "sorted(a.flatten())[-n-1:-1]"
   ]
  },
  {
   "cell_type": "markdown",
   "metadata": {},
   "source": [
    "# 15.How to create a record array from a regular array?"
   ]
  },
  {
   "cell_type": "code",
   "execution_count": 15,
   "metadata": {},
   "outputs": [
    {
     "data": {
      "text/plain": [
       "array([[0.15888758, 0.9941708 , 0.15535306],\n",
       "       [0.54721881, 0.87065346, 0.60064457],\n",
       "       [0.06781745, 0.67603192, 0.42992684],\n",
       "       [0.52795648, 0.63447063, 0.97550715],\n",
       "       [0.22539639, 0.25139329, 0.4199564 ],\n",
       "       [0.72090754, 0.64271803, 0.98188387]])"
      ]
     },
     "execution_count": 15,
     "metadata": {},
     "output_type": "execute_result"
    }
   ],
   "source": [
    "a = np.random.rand(6,3)\n",
    "a"
   ]
  },
  {
   "cell_type": "code",
   "execution_count": 16,
   "metadata": {},
   "outputs": [
    {
     "data": {
      "text/plain": [
       "rec.array([(0.15888758, 0.9941708 , 0.15535306),\n",
       "           (0.54721881, 0.87065346, 0.60064457),\n",
       "           (0.06781745, 0.67603192, 0.42992684),\n",
       "           (0.52795648, 0.63447063, 0.97550715),\n",
       "           (0.22539639, 0.25139329, 0.4199564 ),\n",
       "           (0.72090754, 0.64271803, 0.98188387)],\n",
       "          dtype=[('f0', '<f8'), ('f1', '<f8'), ('f2', '<f8')])"
      ]
     },
     "execution_count": 16,
     "metadata": {},
     "output_type": "execute_result"
    }
   ],
   "source": [
    "# # https://www.w3resource.com/python-exercises/numpy/python-numpy-exercise-190.php\n",
    "r = np.core.records.fromarrays(a.T)\n",
    "r"
   ]
  },
  {
   "cell_type": "code",
   "execution_count": 17,
   "metadata": {},
   "outputs": [
    {
     "data": {
      "text/plain": [
       "array([0.15888758, 0.54721881, 0.06781745, 0.52795648, 0.22539639,\n",
       "       0.72090754])"
      ]
     },
     "execution_count": 17,
     "metadata": {},
     "output_type": "execute_result"
    }
   ],
   "source": [
    "r.f0"
   ]
  }
 ],
 "metadata": {
  "kernelspec": {
   "display_name": "Python 3",
   "language": "python",
   "name": "python3"
  },
  "language_info": {
   "codemirror_mode": {
    "name": "ipython",
    "version": 3
   },
   "file_extension": ".py",
   "mimetype": "text/x-python",
   "name": "python",
   "nbconvert_exporter": "python",
   "pygments_lexer": "ipython3",
   "version": "3.7.3"
  }
 },
 "nbformat": 4,
 "nbformat_minor": 2
}
