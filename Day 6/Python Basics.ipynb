{
 "cells": [
  {
   "cell_type": "markdown",
   "metadata": {},
   "source": [
    "Instructions: https://github.com/LetsUpgrade/AI-ML-July-2020/blob/master/Day-6/Day%206%20Assignment.pdf\n",
    "\n",
    "# 1. Pattern extract\n",
    "\n",
    "Assuming that we have some email addresses in the \"username@companyname.com\" format, write program to print the company name of a given email address. Both user names and company names are composed of letters only.\n",
    "\n",
    "Input: john@google.com  \n",
    "Output: google"
   ]
  },
  {
   "cell_type": "code",
   "execution_count": 1,
   "metadata": {},
   "outputs": [
    {
     "name": "stdout",
     "output_type": "stream",
     "text": [
      "google\n"
     ]
    }
   ],
   "source": [
    "email = \"john@google.com\"\n",
    "\n",
    "import re\n",
    "matches = re.search(r'(\\w+)@(\\w+)', email)\n",
    "print(matches[2])"
   ]
  },
  {
   "cell_type": "markdown",
   "metadata": {},
   "source": [
    "# 2. Sorting\n",
    "\n",
    "Write a program that accepts a comma-separated sequence of words as input and prints the words in a comma separated sequence after sorting them alphabetically.\n",
    "\n",
    "Input: without,hello,bag,world  \n",
    "Output: bag,hello,without,world"
   ]
  },
  {
   "cell_type": "code",
   "execution_count": 2,
   "metadata": {},
   "outputs": [
    {
     "name": "stdout",
     "output_type": "stream",
     "text": [
      "bag,hello,without,world\n"
     ]
    }
   ],
   "source": [
    "text = 'without,hello,bag,world'\n",
    "\n",
    "print(\",\".join(sorted(text.split(','))))"
   ]
  },
  {
   "cell_type": "markdown",
   "metadata": {},
   "source": [
    "# 3. Sets\n",
    "\n",
    "Demonstrate sets. Reference link: https://www.w3schools.com/python/python_sets.asp\n",
    "\n",
    "A set is an unordered collection of unique objets\n",
    "\n",
    "## Edit"
   ]
  },
  {
   "cell_type": "code",
   "execution_count": 3,
   "metadata": {},
   "outputs": [
    {
     "name": "stdout",
     "output_type": "stream",
     "text": [
      "{1, 2}\n",
      "{1, 2}\n",
      "{1, 'Hello', 2.0, (True, False)}\n"
     ]
    }
   ],
   "source": [
    "# Create\n",
    "print(set((1,1,2)))   # using the set() constructor\n",
    "print({1,1,2})        # using the {} notation\n",
    "\n",
    "# Can contain several types\n",
    "s = {1,\"Hello\",2.0,(True,False),1}\n",
    "print(s)"
   ]
  },
  {
   "cell_type": "code",
   "execution_count": 4,
   "metadata": {},
   "outputs": [
    {
     "name": "stdout",
     "output_type": "stream",
     "text": [
      "{1, 2.0, 99, 100, 'World', 'Hello', (True, False)}\n"
     ]
    }
   ],
   "source": [
    "# Add\n",
    "s.add(\"World\")        # add a single value\n",
    "s.update([99,100])    # add several values\n",
    "print(s)"
   ]
  },
  {
   "cell_type": "code",
   "execution_count": 5,
   "metadata": {},
   "outputs": [
    {
     "name": "stdout",
     "output_type": "stream",
     "text": [
      "{1, 2.0, 99, 'World', 'Hello', (True, False)}\n"
     ]
    }
   ],
   "source": [
    "# Remove a given value\n",
    "s.remove(100)         # KeyError if not found\n",
    "s.discard(100)        # no error if not found\n",
    "print(s)"
   ]
  },
  {
   "cell_type": "code",
   "execution_count": 6,
   "metadata": {},
   "outputs": [
    {
     "name": "stdout",
     "output_type": "stream",
     "text": [
      "{1, 2.0, 99, 'Hello', (True, False), 'World'}\n"
     ]
    }
   ],
   "source": [
    "# Create a copy\n",
    "print(s.copy())"
   ]
  },
  {
   "cell_type": "markdown",
   "metadata": {},
   "source": [
    "## Access"
   ]
  },
  {
   "cell_type": "code",
   "execution_count": 7,
   "metadata": {},
   "outputs": [
    {
     "ename": "TypeError",
     "evalue": "'set' object is not subscriptable",
     "output_type": "error",
     "traceback": [
      "\u001b[0;31m---------------------------------------------------------------------------\u001b[0m",
      "\u001b[0;31mTypeError\u001b[0m                                 Traceback (most recent call last)",
      "\u001b[0;32m<ipython-input-7-276c9ecb1ea0>\u001b[0m in \u001b[0;36m<module>\u001b[0;34m\u001b[0m\n\u001b[1;32m      1\u001b[0m \u001b[0;31m# Cannot access a given index\u001b[0m\u001b[0;34m\u001b[0m\u001b[0;34m\u001b[0m\u001b[0;34m\u001b[0m\u001b[0m\n\u001b[0;32m----> 2\u001b[0;31m \u001b[0mprint\u001b[0m\u001b[0;34m(\u001b[0m\u001b[0ms\u001b[0m\u001b[0;34m[\u001b[0m\u001b[0;36m0\u001b[0m\u001b[0;34m]\u001b[0m\u001b[0;34m)\u001b[0m\u001b[0;34m\u001b[0m\u001b[0;34m\u001b[0m\u001b[0m\n\u001b[0m",
      "\u001b[0;31mTypeError\u001b[0m: 'set' object is not subscriptable"
     ]
    }
   ],
   "source": [
    "# Cannot access a given index\n",
    "print(s[0])"
   ]
  },
  {
   "cell_type": "code",
   "execution_count": 8,
   "metadata": {},
   "outputs": [
    {
     "name": "stdout",
     "output_type": "stream",
     "text": [
      "1\n",
      "2.0\n",
      "99\n",
      "World\n",
      "Hello\n",
      "(True, False)\n"
     ]
    }
   ],
   "source": [
    "# Can iterate\n",
    "for x in s:\n",
    "    print(x)"
   ]
  },
  {
   "cell_type": "markdown",
   "metadata": {},
   "source": [
    "## Check"
   ]
  },
  {
   "cell_type": "code",
   "execution_count": 9,
   "metadata": {},
   "outputs": [
    {
     "name": "stdout",
     "output_type": "stream",
     "text": [
      "True\n"
     ]
    }
   ],
   "source": [
    "# Check presence of value\n",
    "print(\"Hello\" in s)"
   ]
  },
  {
   "cell_type": "code",
   "execution_count": 10,
   "metadata": {},
   "outputs": [
    {
     "name": "stdout",
     "output_type": "stream",
     "text": [
      "False\n",
      "True\n"
     ]
    }
   ],
   "source": [
    "# Check that None of the given Values are in the set\n",
    "s1 = {1,2,3}\n",
    "print(s1.isdisjoint({3,4,5}))\n",
    "print(s1.isdisjoint({4,5}))"
   ]
  },
  {
   "cell_type": "code",
   "execution_count": 11,
   "metadata": {},
   "outputs": [
    {
     "name": "stdout",
     "output_type": "stream",
     "text": [
      "True\n",
      "False\n"
     ]
    }
   ],
   "source": [
    "# Check that All the given Values are in the set\n",
    "s1 = {1,2,3}\n",
    "print(s1.issuperset({1,2}))\n",
    "print(s1.issuperset({1,2,3,4}))"
   ]
  },
  {
   "cell_type": "code",
   "execution_count": 12,
   "metadata": {},
   "outputs": [
    {
     "name": "stdout",
     "output_type": "stream",
     "text": [
      "False\n",
      "True\n"
     ]
    }
   ],
   "source": [
    "# Check that the given Values encompass all the values of the set\n",
    "s1 = {1,2,3}\n",
    "print(s1.issubset({1,2}))\n",
    "print(s1.issubset({1,2,3,4}))"
   ]
  },
  {
   "cell_type": "markdown",
   "metadata": {},
   "source": [
    "## Combine"
   ]
  },
  {
   "cell_type": "code",
   "execution_count": 13,
   "metadata": {},
   "outputs": [
    {
     "name": "stdout",
     "output_type": "stream",
     "text": [
      "{1, 2, 3, 4, 5}\n",
      "None\n",
      "{1, 2, 3, 4, 5}\n"
     ]
    }
   ],
   "source": [
    "# a+b\n",
    "s1 = {1,2,3}\n",
    "s2 = {3,4,5}\n",
    "print(s1.union(s2))\n",
    "\n",
    "# a+= b\n",
    "s1 = {1,2,3}\n",
    "s2 = {3,4,5}\n",
    "print(s1.update(s2))\n",
    "print(s1)"
   ]
  },
  {
   "cell_type": "code",
   "execution_count": 14,
   "metadata": {},
   "outputs": [
    {
     "name": "stdout",
     "output_type": "stream",
     "text": [
      "{1, 2}\n",
      "None\n",
      "{1, 2}\n"
     ]
    }
   ],
   "source": [
    "# a-b\n",
    "s1 = {1,2,3}\n",
    "s2 = {3,4,5}\n",
    "print(s1.difference(s2))\n",
    "\n",
    "# a -= b\n",
    "s1 = {1,2,3}\n",
    "s2 = {3,4,5}\n",
    "print(s1.difference_update(s2))\n",
    "print(s1)"
   ]
  },
  {
   "cell_type": "code",
   "execution_count": 15,
   "metadata": {},
   "outputs": [
    {
     "name": "stdout",
     "output_type": "stream",
     "text": [
      "{3}\n",
      "None\n",
      "{3}\n"
     ]
    }
   ],
   "source": [
    "# a ∩ b\n",
    "s1 = {1,2,3}\n",
    "s2 = {3,4,5}\n",
    "print(s1.intersection(s2))\n",
    "\n",
    "# a ∩= b\n",
    "s1 = {1,2,3}\n",
    "s2 = {3,4,5}\n",
    "print(s1.intersection_update(s2))\n",
    "print(s1)"
   ]
  },
  {
   "cell_type": "code",
   "execution_count": 16,
   "metadata": {},
   "outputs": [
    {
     "name": "stdout",
     "output_type": "stream",
     "text": [
      "{1, 2, 4, 5}\n",
      "None\n",
      "{1, 2, 4, 5}\n"
     ]
    }
   ],
   "source": [
    "# a xor b\n",
    "s1 = {1,2,3}\n",
    "s2 = {3,4,5}\n",
    "print(s1.symmetric_difference(s2))\n",
    "\n",
    "# a xor= b\n",
    "s1 = {1,2,3}\n",
    "s2 = {3,4,5}\n",
    "print(s1.symmetric_difference_update(s2))\n",
    "print(s1)"
   ]
  },
  {
   "cell_type": "markdown",
   "metadata": {},
   "source": [
    "# 4. Find the missing number\n",
    "\n",
    "Given a list of n-1 numbers ranging from 1 to n, find the missing number. There are no duplicates.\n",
    "\n",
    "Input: 1 2 4 6 3 7 8  \n",
    "Output: 5"
   ]
  },
  {
   "cell_type": "code",
   "execution_count": 17,
   "metadata": {},
   "outputs": [
    {
     "name": "stdout",
     "output_type": "stream",
     "text": [
      "5\n"
     ]
    }
   ],
   "source": [
    "def findMissing(l):\n",
    "    last = None\n",
    "\n",
    "    for k in sorted(l):\n",
    "        if last != None and k != last + 1:\n",
    "            return last + 1\n",
    "        last = k\n",
    "    return None\n",
    "\n",
    "print(findMissing([1, 2, 4, 6, 3, 7, 8]))"
   ]
  },
  {
   "cell_type": "markdown",
   "metadata": {},
   "source": [
    "# 5. Removing duplicates\n",
    "\n",
    "With a given list L, write a program to print this list L after removing all duplicate values with original order reserved.\n",
    "\n",
    "Input: 12 24 35 24 88 120 155 88 120 155  \n",
    "Output: 12 24 35 88 120 155"
   ]
  },
  {
   "cell_type": "code",
   "execution_count": 18,
   "metadata": {},
   "outputs": [
    {
     "name": "stdout",
     "output_type": "stream",
     "text": [
      "[12, 24, 35, 88, 120, 155]\n"
     ]
    }
   ],
   "source": [
    "l1 = [12, 24, 35, 24, 88, 120, 155, 88, 120, 155]\n",
    "\n",
    "from functools import reduce\n",
    "l2 = reduce(lambda l,item: l if item in l else l + [item], l1, [])\n",
    "\n",
    "print(l2)"
   ]
  }
 ],
 "metadata": {
  "kernelspec": {
   "display_name": "Python 3",
   "language": "python",
   "name": "python3"
  }
 },
 "nbformat": 4,
 "nbformat_minor": 2
}
