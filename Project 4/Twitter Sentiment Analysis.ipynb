{
 "cells": [
  {
   "cell_type": "markdown",
   "metadata": {},
   "source": [
    "## Import libraries"
   ]
  },
  {
   "cell_type": "code",
   "execution_count": 1,
   "metadata": {},
   "outputs": [
    {
     "name": "stdout",
     "output_type": "stream",
     "text": [
      "Collecting tweepy\n",
      "  Downloading https://files.pythonhosted.org/packages/bb/7c/99d51f80f3b77b107ebae2634108717362c059a41384a1810d13e2429a81/tweepy-3.9.0-py2.py3-none-any.whl\n",
      "Requirement already satisfied: openpyxl in /home/myself/anaconda3/lib/python3.7/site-packages (2.6.2)\n",
      "Requirement already satisfied: requests[socks]>=2.11.1 in /home/myself/anaconda3/lib/python3.7/site-packages (from tweepy) (2.22.0)\n",
      "Requirement already satisfied: requests-oauthlib>=0.7.0 in /home/myself/anaconda3/lib/python3.7/site-packages (from tweepy) (1.3.0)\n",
      "Requirement already satisfied: six>=1.10.0 in /home/myself/anaconda3/lib/python3.7/site-packages (from tweepy) (1.15.0)\n",
      "Requirement already satisfied: et-xmlfile in /home/myself/anaconda3/lib/python3.7/site-packages (from openpyxl) (1.0.1)\n",
      "Requirement already satisfied: jdcal in /home/myself/anaconda3/lib/python3.7/site-packages (from openpyxl) (1.4.1)\n",
      "Requirement already satisfied: certifi>=2017.4.17 in /home/myself/anaconda3/lib/python3.7/site-packages (from requests[socks]>=2.11.1->tweepy) (2020.6.20)\n",
      "Requirement already satisfied: chardet<3.1.0,>=3.0.2 in /home/myself/anaconda3/lib/python3.7/site-packages (from requests[socks]>=2.11.1->tweepy) (3.0.4)\n",
      "Requirement already satisfied: idna<2.9,>=2.5 in /home/myself/anaconda3/lib/python3.7/site-packages (from requests[socks]>=2.11.1->tweepy) (2.8)\n",
      "Requirement already satisfied: urllib3!=1.25.0,!=1.25.1,<1.26,>=1.21.1 in /home/myself/anaconda3/lib/python3.7/site-packages (from requests[socks]>=2.11.1->tweepy) (1.24.2)\n",
      "Requirement already satisfied: PySocks!=1.5.7,>=1.5.6; extra == \"socks\" in /home/myself/anaconda3/lib/python3.7/site-packages (from requests[socks]>=2.11.1->tweepy) (1.7.0)\n",
      "Requirement already satisfied: oauthlib>=3.0.0 in /home/myself/anaconda3/lib/python3.7/site-packages (from requests-oauthlib>=0.7.0->tweepy) (3.1.0)\n",
      "Installing collected packages: tweepy\n",
      "Successfully installed tweepy-3.9.0\n"
     ]
    }
   ],
   "source": [
    "!pip install tweepy openpyxl"
   ]
  },
  {
   "cell_type": "code",
   "execution_count": 2,
   "metadata": {},
   "outputs": [],
   "source": [
    "import numpy as np\n",
    "import pandas as pd\n",
    "import tweepy"
   ]
  },
  {
   "cell_type": "markdown",
   "metadata": {},
   "source": [
    "## Load data\n",
    "\n",
    "We will use the [Twitter API](https://developer.twitter.com/en/docs/twitter-ads-api/creatives/api-reference/tweets)\n",
    "\n",
    "* Create a Twitter app\n",
    "    * Go to [Twitter Developer](https://developer.twitter.com/en/dashboard)\n",
    "    * Go to \"Apps\" (upper right) > Create an app\n",
    "\n",
    "<!-- -->\n",
    "\n",
    "* Create .credentials.py and put your credentials in it:\n",
    "\n",
    "    ```\n",
    "    API_KEY      = \"\"\n",
    "    API_SECRET   = \"\"\n",
    "    ACCESS_TOKEN = \"\"\n",
    "    ACCESS_TOKEN_SECRET = \"\"\n",
    "    ```"
   ]
  },
  {
   "cell_type": "code",
   "execution_count": 3,
   "metadata": {},
   "outputs": [
    {
     "name": "stdout",
     "output_type": "stream",
     "text": [
      "ryi6WEqp7tfCU9jKs0aevf1AP\n"
     ]
    }
   ],
   "source": [
    "with open('.credentials.py') as f:\n",
    "    exec(f.read())\n",
    "\n",
    "print(API_KEY)"
   ]
  },
  {
   "cell_type": "code",
   "execution_count": 5,
   "metadata": {},
   "outputs": [
    {
     "data": {
      "text/plain": [
       "'A-mt'"
      ]
     },
     "execution_count": 5,
     "metadata": {},
     "output_type": "execute_result"
    }
   ],
   "source": [
    "# Authenticate\n",
    "auth = tweepy.OAuthHandler(API_KEY, API_SECRET)\n",
    "auth.set_access_token(ACCESS_TOKEN, ACCESS_TOKEN_SECRET)\n",
    "\n",
    "api = tweepy.API(auth)\n",
    "api.me().name"
   ]
  },
  {
   "cell_type": "code",
   "execution_count": 9,
   "metadata": {},
   "outputs": [],
   "source": [
    "# Get last tweets about covid\n",
    "tweets = api.search(\n",
    "    'covid',\n",
    "    count=5,\n",
    "    lang='en',\n",
    "    exclude='retweets',\n",
    "    tweet_mode='extended')  # get the full (untruncated) text"
   ]
  },
  {
   "cell_type": "code",
   "execution_count": 11,
   "metadata": {},
   "outputs": [
    {
     "name": "stdout",
     "output_type": "stream",
     "text": [
      "{'created_at': 'Thu Oct 29 12:46:23 +0000 2020', 'id': 1321795516355743751, 'id_str': '1321795516355743751', 'full_text': \"@giorgishka The universities have asked students to contact them if they have covid. They have asked students to follow guidelines and isolate if required. Its up to the students to do their part. Universities aren't responsible for the test and trace system.\", 'truncated': False, 'display_text_range': [12, 259], 'entities': {'hashtags': [], 'symbols': [], 'user_mentions': [{'screen_name': 'giorgishka', 'name': 'giorgia aiello', 'id': 211443137, 'id_str': '211443137', 'indices': [0, 11]}], 'urls': []}, 'metadata': {'iso_language_code': 'en', 'result_type': 'recent'}, 'source': '<a href=\"https://mobile.twitter.com\" rel=\"nofollow\">Twitter Web App</a>', 'in_reply_to_status_id': 1321788455626723329, 'in_reply_to_status_id_str': '1321788455626723329', 'in_reply_to_user_id': 211443137, 'in_reply_to_user_id_str': '211443137', 'in_reply_to_screen_name': 'giorgishka', 'user': {'id': 1315442468054274049, 'id_str': '1315442468054274049', 'name': 'Localbandita', 'screen_name': 'localbandita', 'location': '', 'description': '', 'url': None, 'entities': {'description': {'urls': []}}, 'protected': False, 'followers_count': 7, 'friends_count': 5, 'listed_count': 0, 'created_at': 'Mon Oct 12 00:01:58 +0000 2020', 'favourites_count': 78, 'utc_offset': None, 'time_zone': None, 'geo_enabled': False, 'verified': False, 'statuses_count': 274, 'lang': None, 'contributors_enabled': False, 'is_translator': False, 'is_translation_enabled': False, 'profile_background_color': 'F5F8FA', 'profile_background_image_url': None, 'profile_background_image_url_https': None, 'profile_background_tile': False, 'profile_image_url': 'http://abs.twimg.com/sticky/default_profile_images/default_profile_normal.png', 'profile_image_url_https': 'https://abs.twimg.com/sticky/default_profile_images/default_profile_normal.png', 'profile_link_color': '1DA1F2', 'profile_sidebar_border_color': 'C0DEED', 'profile_sidebar_fill_color': 'DDEEF6', 'profile_text_color': '333333', 'profile_use_background_image': True, 'has_extended_profile': True, 'default_profile': True, 'default_profile_image': True, 'following': False, 'follow_request_sent': False, 'notifications': False, 'translator_type': 'none'}, 'geo': None, 'coordinates': None, 'place': None, 'contributors': None, 'is_quote_status': False, 'retweet_count': 0, 'favorite_count': 0, 'favorited': False, 'retweeted': False, 'lang': 'en'}\n"
     ]
    }
   ],
   "source": [
    "print(tweets[0]._json)"
   ]
  },
  {
   "cell_type": "code",
   "execution_count": 15,
   "metadata": {},
   "outputs": [
    {
     "name": "stdout",
     "output_type": "stream",
     "text": [
      "\n",
      "0/1000 \n",
      "....................................................................................................\n",
      "100/1000 \n",
      "....................................................................................................\n",
      "200/1000 \n",
      "....................................................................................................\n",
      "300/1000 \n",
      "....................................................................................................\n",
      "400/1000 \n",
      "....................................................................................................\n",
      "500/1000 \n",
      "....................................................................................................\n",
      "600/1000 \n",
      "....................................................................................................\n",
      "700/1000 \n",
      "....................................................................................................\n",
      "800/1000 \n",
      "....................................................................................................\n",
      "900/1000 \n",
      "...................................................................................................."
     ]
    },
    {
     "data": {
      "text/html": [
       "<div>\n",
       "<style scoped>\n",
       "    .dataframe tbody tr th:only-of-type {\n",
       "        vertical-align: middle;\n",
       "    }\n",
       "\n",
       "    .dataframe tbody tr th {\n",
       "        vertical-align: top;\n",
       "    }\n",
       "\n",
       "    .dataframe thead th {\n",
       "        text-align: right;\n",
       "    }\n",
       "</style>\n",
       "<table border=\"1\" class=\"dataframe\">\n",
       "  <thead>\n",
       "    <tr style=\"text-align: right;\">\n",
       "      <th></th>\n",
       "      <th>tweet</th>\n",
       "      <th>user</th>\n",
       "      <th>user_statuses_count</th>\n",
       "      <th>user_followers</th>\n",
       "      <th>user_location</th>\n",
       "      <th>user_verified</th>\n",
       "      <th>fav_count</th>\n",
       "      <th>rt_count</th>\n",
       "      <th>tweet_date</th>\n",
       "    </tr>\n",
       "  </thead>\n",
       "  <tbody>\n",
       "    <tr>\n",
       "      <th>0</th>\n",
       "      <td>@Craig_Spur @kev_g1 @davspurs We have put a nu...</td>\n",
       "      <td>Covyid1882_UltimateFandemic</td>\n",
       "      <td>1015</td>\n",
       "      <td>191</td>\n",
       "      <td></td>\n",
       "      <td>False</td>\n",
       "      <td>0</td>\n",
       "      <td>0</td>\n",
       "      <td>2020-10-29 12:53:25</td>\n",
       "    </tr>\n",
       "    <tr>\n",
       "      <th>1</th>\n",
       "      <td>@BrownCheong @itvnews It cos he drains the lif...</td>\n",
       "      <td>GhostOfTheCovidBat</td>\n",
       "      <td>3</td>\n",
       "      <td>0</td>\n",
       "      <td></td>\n",
       "      <td>False</td>\n",
       "      <td>0</td>\n",
       "      <td>0</td>\n",
       "      <td>2020-10-29 12:53:25</td>\n",
       "    </tr>\n",
       "    <tr>\n",
       "      <th>2</th>\n",
       "      <td>@realDonaldTrump COVID COVID COVID!\\nCOVID COV...</td>\n",
       "      <td>Julie Harrison</td>\n",
       "      <td>13860</td>\n",
       "      <td>782</td>\n",
       "      <td></td>\n",
       "      <td>False</td>\n",
       "      <td>0</td>\n",
       "      <td>0</td>\n",
       "      <td>2020-10-29 12:53:24</td>\n",
       "    </tr>\n",
       "    <tr>\n",
       "      <th>3</th>\n",
       "      <td>@Brad_kemble_84 It’s a spiritual warfare going...</td>\n",
       "      <td>Coach DaniB.</td>\n",
       "      <td>1315</td>\n",
       "      <td>186</td>\n",
       "      <td></td>\n",
       "      <td>False</td>\n",
       "      <td>0</td>\n",
       "      <td>0</td>\n",
       "      <td>2020-10-29 12:53:24</td>\n",
       "    </tr>\n",
       "    <tr>\n",
       "      <th>4</th>\n",
       "      <td>@davidchang Guess he can “look past” kids in c...</td>\n",
       "      <td>Susana Leyva 🎧</td>\n",
       "      <td>6093</td>\n",
       "      <td>95</td>\n",
       "      <td>Chicago, IL</td>\n",
       "      <td>False</td>\n",
       "      <td>0</td>\n",
       "      <td>0</td>\n",
       "      <td>2020-10-29 12:53:24</td>\n",
       "    </tr>\n",
       "  </tbody>\n",
       "</table>\n",
       "</div>"
      ],
      "text/plain": [
       "                                               tweet  \\\n",
       "0  @Craig_Spur @kev_g1 @davspurs We have put a nu...   \n",
       "1  @BrownCheong @itvnews It cos he drains the lif...   \n",
       "2  @realDonaldTrump COVID COVID COVID!\\nCOVID COV...   \n",
       "3  @Brad_kemble_84 It’s a spiritual warfare going...   \n",
       "4  @davidchang Guess he can “look past” kids in c...   \n",
       "\n",
       "                          user user_statuses_count user_followers  \\\n",
       "0  Covyid1882_UltimateFandemic                1015            191   \n",
       "1           GhostOfTheCovidBat                   3              0   \n",
       "2               Julie Harrison               13860            782   \n",
       "3                 Coach DaniB.                1315            186   \n",
       "4               Susana Leyva 🎧                6093             95   \n",
       "\n",
       "  user_location user_verified fav_count rt_count          tweet_date  \n",
       "0                       False         0        0 2020-10-29 12:53:25  \n",
       "1                       False         0        0 2020-10-29 12:53:25  \n",
       "2                       False         0        0 2020-10-29 12:53:24  \n",
       "3                       False         0        0 2020-10-29 12:53:24  \n",
       "4   Chicago, IL         False         0        0 2020-10-29 12:53:24  "
      ]
     },
     "execution_count": 15,
     "metadata": {},
     "output_type": "execute_result"
    }
   ],
   "source": [
    "# Get last 1000 tweets about covid\n",
    "NB_MAX = 1000\n",
    "\n",
    "df = pd.DataFrame(columns=[\n",
    "    'tweet', 'user', 'user_statuses_count', 'user_followers',\n",
    "    'user_location', 'user_verified', 'fav_count', 'rt_count',\n",
    "    'tweet_date'\n",
    "])\n",
    "\n",
    "# Paginate results with a stride of 100\n",
    "cursor = tweepy.Cursor(\n",
    "    api.search,\n",
    "    count=100,\n",
    "    lang='en',\n",
    "\n",
    "    q=['covid'],\n",
    "    exclude='retweets',\n",
    "    tweet_mode='extended'\n",
    ")\n",
    "\n",
    "i =  0\n",
    "for tweet in cursor.items(NB_MAX):\n",
    "    if i % 100 == 0:\n",
    "        print('\\n{:d}/{:d} '.format(i, NB_MAX))\n",
    "    i += 1\n",
    "    print('.', end='')\n",
    "\n",
    "    df.loc[len(df)] = {\n",
    "        'tweet': tweet.full_text,\n",
    "        'user' : tweet.user.name,\n",
    "        'user_statuses_count': tweet.user.statuses_count,\n",
    "        'user_followers': tweet.user.followers_count,\n",
    "        'user_location': tweet.user.location,\n",
    "        'user_verified': tweet.user.verified,\n",
    "        'fav_count': tweet.favorite_count,\n",
    "        'rt_count': tweet.retweet_count,\n",
    "        'tweet_date': tweet.created_at\n",
    "    }\n",
    "\n",
    "df.to_csv('covid_tweets.csv')\n",
    "df.head()"
   ]
  },
  {
   "cell_type": "code",
   "execution_count": 16,
   "metadata": {},
   "outputs": [
    {
     "data": {
      "text/plain": [
       "(1000, 9)"
      ]
     },
     "execution_count": 16,
     "metadata": {},
     "output_type": "execute_result"
    }
   ],
   "source": [
    "df.shape"
   ]
  },
  {
   "cell_type": "code",
   "execution_count": 3,
   "metadata": {},
   "outputs": [
    {
     "data": {
      "text/html": [
       "<div>\n",
       "<style scoped>\n",
       "    .dataframe tbody tr th:only-of-type {\n",
       "        vertical-align: middle;\n",
       "    }\n",
       "\n",
       "    .dataframe tbody tr th {\n",
       "        vertical-align: top;\n",
       "    }\n",
       "\n",
       "    .dataframe thead th {\n",
       "        text-align: right;\n",
       "    }\n",
       "</style>\n",
       "<table border=\"1\" class=\"dataframe\">\n",
       "  <thead>\n",
       "    <tr style=\"text-align: right;\">\n",
       "      <th></th>\n",
       "      <th>Unnamed: 0</th>\n",
       "      <th>tweet</th>\n",
       "      <th>user</th>\n",
       "      <th>user_statuses_count</th>\n",
       "      <th>user_followers</th>\n",
       "      <th>user_location</th>\n",
       "      <th>user_verified</th>\n",
       "      <th>fav_count</th>\n",
       "      <th>rt_count</th>\n",
       "      <th>tweet_date</th>\n",
       "    </tr>\n",
       "  </thead>\n",
       "  <tbody>\n",
       "    <tr>\n",
       "      <th>0</th>\n",
       "      <td>0</td>\n",
       "      <td>@Craig_Spur @kev_g1 @davspurs We have put a nu...</td>\n",
       "      <td>Covyid1882_UltimateFandemic</td>\n",
       "      <td>1015</td>\n",
       "      <td>191</td>\n",
       "      <td>NaN</td>\n",
       "      <td>False</td>\n",
       "      <td>0</td>\n",
       "      <td>0</td>\n",
       "      <td>2020-10-29 12:53:25</td>\n",
       "    </tr>\n",
       "    <tr>\n",
       "      <th>1</th>\n",
       "      <td>1</td>\n",
       "      <td>@BrownCheong @itvnews It cos he drains the lif...</td>\n",
       "      <td>GhostOfTheCovidBat</td>\n",
       "      <td>3</td>\n",
       "      <td>0</td>\n",
       "      <td>NaN</td>\n",
       "      <td>False</td>\n",
       "      <td>0</td>\n",
       "      <td>0</td>\n",
       "      <td>2020-10-29 12:53:25</td>\n",
       "    </tr>\n",
       "    <tr>\n",
       "      <th>2</th>\n",
       "      <td>2</td>\n",
       "      <td>@realDonaldTrump COVID COVID COVID!\\nCOVID COV...</td>\n",
       "      <td>Julie Harrison</td>\n",
       "      <td>13860</td>\n",
       "      <td>782</td>\n",
       "      <td>NaN</td>\n",
       "      <td>False</td>\n",
       "      <td>0</td>\n",
       "      <td>0</td>\n",
       "      <td>2020-10-29 12:53:24</td>\n",
       "    </tr>\n",
       "    <tr>\n",
       "      <th>3</th>\n",
       "      <td>3</td>\n",
       "      <td>@Brad_kemble_84 It’s a spiritual warfare going...</td>\n",
       "      <td>Coach DaniB.</td>\n",
       "      <td>1315</td>\n",
       "      <td>186</td>\n",
       "      <td>NaN</td>\n",
       "      <td>False</td>\n",
       "      <td>0</td>\n",
       "      <td>0</td>\n",
       "      <td>2020-10-29 12:53:24</td>\n",
       "    </tr>\n",
       "    <tr>\n",
       "      <th>4</th>\n",
       "      <td>4</td>\n",
       "      <td>@davidchang Guess he can “look past” kids in c...</td>\n",
       "      <td>Susana Leyva 🎧</td>\n",
       "      <td>6093</td>\n",
       "      <td>95</td>\n",
       "      <td>Chicago, IL</td>\n",
       "      <td>False</td>\n",
       "      <td>0</td>\n",
       "      <td>0</td>\n",
       "      <td>2020-10-29 12:53:24</td>\n",
       "    </tr>\n",
       "  </tbody>\n",
       "</table>\n",
       "</div>"
      ],
      "text/plain": [
       "   Unnamed: 0                                              tweet  \\\n",
       "0           0  @Craig_Spur @kev_g1 @davspurs We have put a nu...   \n",
       "1           1  @BrownCheong @itvnews It cos he drains the lif...   \n",
       "2           2  @realDonaldTrump COVID COVID COVID!\\nCOVID COV...   \n",
       "3           3  @Brad_kemble_84 It’s a spiritual warfare going...   \n",
       "4           4  @davidchang Guess he can “look past” kids in c...   \n",
       "\n",
       "                          user  user_statuses_count  user_followers  \\\n",
       "0  Covyid1882_UltimateFandemic                 1015             191   \n",
       "1           GhostOfTheCovidBat                    3               0   \n",
       "2               Julie Harrison                13860             782   \n",
       "3                 Coach DaniB.                 1315             186   \n",
       "4               Susana Leyva 🎧                 6093              95   \n",
       "\n",
       "  user_location  user_verified  fav_count  rt_count           tweet_date  \n",
       "0           NaN          False          0         0  2020-10-29 12:53:25  \n",
       "1           NaN          False          0         0  2020-10-29 12:53:25  \n",
       "2           NaN          False          0         0  2020-10-29 12:53:24  \n",
       "3           NaN          False          0         0  2020-10-29 12:53:24  \n",
       "4   Chicago, IL          False          0         0  2020-10-29 12:53:24  "
      ]
     },
     "execution_count": 3,
     "metadata": {},
     "output_type": "execute_result"
    }
   ],
   "source": [
    "df = pd.read_csv('covid_tweets.csv')\n",
    "df.head()"
   ]
  },
  {
   "cell_type": "markdown",
   "metadata": {},
   "source": [
    "## Data preprocessing"
   ]
  },
  {
   "cell_type": "code",
   "execution_count": 4,
   "metadata": {},
   "outputs": [],
   "source": [
    "import re"
   ]
  },
  {
   "cell_type": "code",
   "execution_count": 16,
   "metadata": {},
   "outputs": [],
   "source": [
    "def cleanup(txt):\n",
    "    txt = re.sub('@\\w+',' ', txt)             # remove @mentions\n",
    "    txt = re.sub('\\w+:\\/\\/\\S+', ' ', txt)      # remove link://...\n",
    "    txt = re.sub('[^0-9a-zA-Z \\t]', ' ', txt) # remove punctuation\n",
    "    return txt.strip()"
   ]
  },
  {
   "cell_type": "code",
   "execution_count": 6,
   "metadata": {},
   "outputs": [
    {
     "name": "stdout",
     "output_type": "stream",
     "text": [
      "@Craig_Spur @kev_g1 @davspurs We have put a number now on every single head within the Covid world which makes people in the public feel that every loss is personal to them and I do get it but you think people are gonna go out an exercise when we tell them 17m die globally a year through crap lifestyles?\n"
     ]
    }
   ],
   "source": [
    "print(df.loc[0].tweet)"
   ]
  },
  {
   "cell_type": "code",
   "execution_count": 7,
   "metadata": {},
   "outputs": [
    {
     "name": "stdout",
     "output_type": "stream",
     "text": [
      "We have put a number now on every single head within the Covid world which makes people in the public feel that every loss is personal to them and I do get it but you think people are gonna go out an exercise when we tell them 17m die globally a year through crap lifestyles\n"
     ]
    }
   ],
   "source": [
    "print(cleanup(df.loc[0].tweet))"
   ]
  },
  {
   "cell_type": "code",
   "execution_count": 17,
   "metadata": {},
   "outputs": [
    {
     "data": {
      "text/html": [
       "<div>\n",
       "<style scoped>\n",
       "    .dataframe tbody tr th:only-of-type {\n",
       "        vertical-align: middle;\n",
       "    }\n",
       "\n",
       "    .dataframe tbody tr th {\n",
       "        vertical-align: top;\n",
       "    }\n",
       "\n",
       "    .dataframe thead th {\n",
       "        text-align: right;\n",
       "    }\n",
       "</style>\n",
       "<table border=\"1\" class=\"dataframe\">\n",
       "  <thead>\n",
       "    <tr style=\"text-align: right;\">\n",
       "      <th></th>\n",
       "      <th>tweet</th>\n",
       "      <th>tweet_clean</th>\n",
       "    </tr>\n",
       "  </thead>\n",
       "  <tbody>\n",
       "    <tr>\n",
       "      <th>0</th>\n",
       "      <td>@Craig_Spur @kev_g1 @davspurs We have put a nu...</td>\n",
       "      <td>We have put a number now on every single head ...</td>\n",
       "    </tr>\n",
       "    <tr>\n",
       "      <th>1</th>\n",
       "      <td>@BrownCheong @itvnews It cos he drains the lif...</td>\n",
       "      <td>It cos he drains the life force of 21 year old...</td>\n",
       "    </tr>\n",
       "    <tr>\n",
       "      <th>2</th>\n",
       "      <td>@realDonaldTrump COVID COVID COVID!\\nCOVID COV...</td>\n",
       "      <td>COVID COVID COVID  COVID COVID COVID    TrumpV...</td>\n",
       "    </tr>\n",
       "    <tr>\n",
       "      <th>3</th>\n",
       "      <td>@Brad_kemble_84 It’s a spiritual warfare going...</td>\n",
       "      <td>It s a spiritual warfare going on look around ...</td>\n",
       "    </tr>\n",
       "    <tr>\n",
       "      <th>4</th>\n",
       "      <td>@davidchang Guess he can “look past” kids in c...</td>\n",
       "      <td>Guess he can  look past  kids in cages  a dism...</td>\n",
       "    </tr>\n",
       "  </tbody>\n",
       "</table>\n",
       "</div>"
      ],
      "text/plain": [
       "                                               tweet  \\\n",
       "0  @Craig_Spur @kev_g1 @davspurs We have put a nu...   \n",
       "1  @BrownCheong @itvnews It cos he drains the lif...   \n",
       "2  @realDonaldTrump COVID COVID COVID!\\nCOVID COV...   \n",
       "3  @Brad_kemble_84 It’s a spiritual warfare going...   \n",
       "4  @davidchang Guess he can “look past” kids in c...   \n",
       "\n",
       "                                         tweet_clean  \n",
       "0  We have put a number now on every single head ...  \n",
       "1  It cos he drains the life force of 21 year old...  \n",
       "2  COVID COVID COVID  COVID COVID COVID    TrumpV...  \n",
       "3  It s a spiritual warfare going on look around ...  \n",
       "4  Guess he can  look past  kids in cages  a dism...  "
      ]
     },
     "execution_count": 17,
     "metadata": {},
     "output_type": "execute_result"
    }
   ],
   "source": [
    "df['tweet_clean'] = df['tweet'].apply(cleanup)\n",
    "\n",
    "df[['tweet', 'tweet_clean']].head()"
   ]
  },
  {
   "cell_type": "markdown",
   "metadata": {},
   "source": [
    "## Analyse tweets\n",
    "\n",
    "Textblob will return Sentiment(polarity, subjectivity)\n",
    "\n",
    "* Polarity: [-1, +1] — where -1 is a negative sentiment and +1 is positive  \n",
    "* Subjectivity: [0.0, 1.0] — where 0.0 is very objective and 1.0 is very subjective"
   ]
  },
  {
   "cell_type": "code",
   "execution_count": 18,
   "metadata": {},
   "outputs": [
    {
     "name": "stdout",
     "output_type": "stream",
     "text": [
      "Collecting textblob\n",
      "\u001b[?25l  Downloading https://files.pythonhosted.org/packages/60/f0/1d9bfcc8ee6b83472ec571406bd0dd51c0e6330ff1a51b2d29861d389e85/textblob-0.15.3-py2.py3-none-any.whl (636kB)\n",
      "\u001b[K     |████████████████████████████████| 645kB 1.1MB/s eta 0:00:01\n",
      "\u001b[?25hRequirement already satisfied: nltk>=3.1 in /home/myself/anaconda3/lib/python3.7/site-packages (from textblob) (3.4.4)\n",
      "Requirement already satisfied: six in /home/myself/anaconda3/lib/python3.7/site-packages (from nltk>=3.1->textblob) (1.15.0)\n",
      "Installing collected packages: textblob\n",
      "Successfully installed textblob-0.15.3\n"
     ]
    }
   ],
   "source": [
    "!pip install textblob"
   ]
  },
  {
   "cell_type": "code",
   "execution_count": 9,
   "metadata": {},
   "outputs": [],
   "source": [
    "from textblob import TextBlob"
   ]
  },
  {
   "cell_type": "code",
   "execution_count": 10,
   "metadata": {},
   "outputs": [],
   "source": [
    "def analyze_sentiment(txt):\n",
    "    analysis = TextBlob(txt)\n",
    "\n",
    "    return round(analysis.sentiment.polarity, 2)"
   ]
  },
  {
   "cell_type": "code",
   "execution_count": 18,
   "metadata": {},
   "outputs": [
    {
     "data": {
      "text/html": [
       "<div>\n",
       "<style scoped>\n",
       "    .dataframe tbody tr th:only-of-type {\n",
       "        vertical-align: middle;\n",
       "    }\n",
       "\n",
       "    .dataframe tbody tr th {\n",
       "        vertical-align: top;\n",
       "    }\n",
       "\n",
       "    .dataframe thead th {\n",
       "        text-align: right;\n",
       "    }\n",
       "</style>\n",
       "<table border=\"1\" class=\"dataframe\">\n",
       "  <thead>\n",
       "    <tr style=\"text-align: right;\">\n",
       "      <th></th>\n",
       "      <th>Unnamed: 0</th>\n",
       "      <th>tweet</th>\n",
       "      <th>user</th>\n",
       "      <th>user_statuses_count</th>\n",
       "      <th>user_followers</th>\n",
       "      <th>user_location</th>\n",
       "      <th>user_verified</th>\n",
       "      <th>fav_count</th>\n",
       "      <th>rt_count</th>\n",
       "      <th>tweet_date</th>\n",
       "      <th>tweet_clean</th>\n",
       "      <th>sentiment</th>\n",
       "    </tr>\n",
       "  </thead>\n",
       "  <tbody>\n",
       "    <tr>\n",
       "      <th>0</th>\n",
       "      <td>0</td>\n",
       "      <td>@Craig_Spur @kev_g1 @davspurs We have put a nu...</td>\n",
       "      <td>Covyid1882_UltimateFandemic</td>\n",
       "      <td>1015</td>\n",
       "      <td>191</td>\n",
       "      <td>NaN</td>\n",
       "      <td>False</td>\n",
       "      <td>0</td>\n",
       "      <td>0</td>\n",
       "      <td>2020-10-29 12:53:25</td>\n",
       "      <td>We have put a number now on every single head ...</td>\n",
       "      <td>-0.17</td>\n",
       "    </tr>\n",
       "    <tr>\n",
       "      <th>1</th>\n",
       "      <td>1</td>\n",
       "      <td>@BrownCheong @itvnews It cos he drains the lif...</td>\n",
       "      <td>GhostOfTheCovidBat</td>\n",
       "      <td>3</td>\n",
       "      <td>0</td>\n",
       "      <td>NaN</td>\n",
       "      <td>False</td>\n",
       "      <td>0</td>\n",
       "      <td>0</td>\n",
       "      <td>2020-10-29 12:53:25</td>\n",
       "      <td>It cos he drains the life force of 21 year old...</td>\n",
       "      <td>0.00</td>\n",
       "    </tr>\n",
       "    <tr>\n",
       "      <th>2</th>\n",
       "      <td>2</td>\n",
       "      <td>@realDonaldTrump COVID COVID COVID!\\nCOVID COV...</td>\n",
       "      <td>Julie Harrison</td>\n",
       "      <td>13860</td>\n",
       "      <td>782</td>\n",
       "      <td>NaN</td>\n",
       "      <td>False</td>\n",
       "      <td>0</td>\n",
       "      <td>0</td>\n",
       "      <td>2020-10-29 12:53:24</td>\n",
       "      <td>COVID COVID COVID  COVID COVID COVID    TrumpV...</td>\n",
       "      <td>0.00</td>\n",
       "    </tr>\n",
       "    <tr>\n",
       "      <th>3</th>\n",
       "      <td>3</td>\n",
       "      <td>@Brad_kemble_84 It’s a spiritual warfare going...</td>\n",
       "      <td>Coach DaniB.</td>\n",
       "      <td>1315</td>\n",
       "      <td>186</td>\n",
       "      <td>NaN</td>\n",
       "      <td>False</td>\n",
       "      <td>0</td>\n",
       "      <td>0</td>\n",
       "      <td>2020-10-29 12:53:24</td>\n",
       "      <td>It s a spiritual warfare going on look around ...</td>\n",
       "      <td>0.16</td>\n",
       "    </tr>\n",
       "    <tr>\n",
       "      <th>4</th>\n",
       "      <td>4</td>\n",
       "      <td>@davidchang Guess he can “look past” kids in c...</td>\n",
       "      <td>Susana Leyva 🎧</td>\n",
       "      <td>6093</td>\n",
       "      <td>95</td>\n",
       "      <td>Chicago, IL</td>\n",
       "      <td>False</td>\n",
       "      <td>0</td>\n",
       "      <td>0</td>\n",
       "      <td>2020-10-29 12:53:24</td>\n",
       "      <td>Guess he can  look past  kids in cages  a dism...</td>\n",
       "      <td>-0.19</td>\n",
       "    </tr>\n",
       "  </tbody>\n",
       "</table>\n",
       "</div>"
      ],
      "text/plain": [
       "   Unnamed: 0                                              tweet  \\\n",
       "0           0  @Craig_Spur @kev_g1 @davspurs We have put a nu...   \n",
       "1           1  @BrownCheong @itvnews It cos he drains the lif...   \n",
       "2           2  @realDonaldTrump COVID COVID COVID!\\nCOVID COV...   \n",
       "3           3  @Brad_kemble_84 It’s a spiritual warfare going...   \n",
       "4           4  @davidchang Guess he can “look past” kids in c...   \n",
       "\n",
       "                          user  user_statuses_count  user_followers  \\\n",
       "0  Covyid1882_UltimateFandemic                 1015             191   \n",
       "1           GhostOfTheCovidBat                    3               0   \n",
       "2               Julie Harrison                13860             782   \n",
       "3                 Coach DaniB.                 1315             186   \n",
       "4               Susana Leyva 🎧                 6093              95   \n",
       "\n",
       "  user_location  user_verified  fav_count  rt_count           tweet_date  \\\n",
       "0           NaN          False          0         0  2020-10-29 12:53:25   \n",
       "1           NaN          False          0         0  2020-10-29 12:53:25   \n",
       "2           NaN          False          0         0  2020-10-29 12:53:24   \n",
       "3           NaN          False          0         0  2020-10-29 12:53:24   \n",
       "4   Chicago, IL          False          0         0  2020-10-29 12:53:24   \n",
       "\n",
       "                                         tweet_clean  sentiment  \n",
       "0  We have put a number now on every single head ...      -0.17  \n",
       "1  It cos he drains the life force of 21 year old...       0.00  \n",
       "2  COVID COVID COVID  COVID COVID COVID    TrumpV...       0.00  \n",
       "3  It s a spiritual warfare going on look around ...       0.16  \n",
       "4  Guess he can  look past  kids in cages  a dism...      -0.19  "
      ]
     },
     "execution_count": 18,
     "metadata": {},
     "output_type": "execute_result"
    }
   ],
   "source": [
    "df['sentiment']  = df['tweet_clean'].apply(analyze_sentiment)\n",
    "df.head()"
   ]
  },
  {
   "cell_type": "code",
   "execution_count": 12,
   "metadata": {},
   "outputs": [
    {
     "name": "stdout",
     "output_type": "stream",
     "text": [
      "Positive tweets: 445\n",
      "Negative tweets: 224\n",
      "Neutral tweets: 331\n"
     ]
    }
   ],
   "source": [
    "print('Positive tweets:', len(df[df['sentiment'] > 0]))\n",
    "print('Negative tweets:', len(df[df['sentiment'] < 0]))\n",
    "print('Neutral tweets:',  len(df[df['sentiment'] == 0]))"
   ]
  },
  {
   "cell_type": "code",
   "execution_count": 13,
   "metadata": {},
   "outputs": [
    {
     "name": "stdout",
     "output_type": "stream",
     "text": [
      "\n",
      "Original tweet:\n",
      " @Qualifyfor It’s a distraction from his miserable failure with COVID.\n",
      "\n",
      "Cleaned tweet:\n",
      " It s a distraction from his miserable failure with COVID\n",
      "\n",
      "Sentiment:\n",
      " -0.66\n"
     ]
    }
   ],
   "source": [
    "# Select one negative row randomly\n",
    "row = df[df['sentiment'] < -0.5].sample().iloc[0]\n",
    "\n",
    "print('\\nOriginal tweet:\\n', row['tweet'])\n",
    "print('\\nCleaned tweet:\\n',  row['tweet_clean'])\n",
    "print('\\nSentiment:\\n',      row['sentiment'])"
   ]
  },
  {
   "cell_type": "code",
   "execution_count": 19,
   "metadata": {},
   "outputs": [
    {
     "name": "stdout",
     "output_type": "stream",
     "text": [
      "\n",
      "Original tweet:\n",
      " I'm just saying that the media jumped all over Obama if he had the temerity to mention good jobs numbers while the economy was recovering from the Great Recession. More than 1,000 people died of COVID *yesterday*, Trump has his economic pom poms out &amp; it's just accepted.\n",
      "\n",
      "Cleaned tweet:\n",
      " I m just saying that the media jumped all over Obama if he had the temerity to mention good jobs numbers while the economy was recovering from the Great Recession  More than 1 000 people died of COVID  yesterday   Trump has his economic pom poms out  amp  it s just accepted\n",
      "\n",
      "Sentiment:\n",
      " 0.55\n"
     ]
    }
   ],
   "source": [
    "# Select one positive row randomly\n",
    "row = df[df['sentiment'] > 0.5].sample().iloc[0]\n",
    "\n",
    "print('\\nOriginal tweet:\\n', row['tweet'])\n",
    "print('\\nCleaned tweet:\\n',  row['tweet_clean'])\n",
    "print('\\nSentiment:\\n',      row['sentiment'])"
   ]
  }
 ],
 "metadata": {
  "kernelspec": {
   "display_name": "Python 3",
   "language": "python",
   "name": "python3"
  },
  "language_info": {
   "codemirror_mode": {
    "name": "ipython",
    "version": 3
   },
   "file_extension": ".py",
   "mimetype": "text/x-python",
   "name": "python",
   "nbconvert_exporter": "python",
   "pygments_lexer": "ipython3",
   "version": "3.7.3"
  }
 },
 "nbformat": 4,
 "nbformat_minor": 2
}
