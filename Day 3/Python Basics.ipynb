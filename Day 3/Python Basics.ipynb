{
 "cells": [
  {
   "cell_type": "markdown",
   "metadata": {},
   "source": [
    "Instructions: https://github.com/LetsUpgrade/AI-ML-July-2020/blob/master/Day-3/Day%203%20Assignment.pdf\n",
    "\n",
    "# 1. Subtract two complex numbers in Python"
   ]
  },
  {
   "cell_type": "code",
   "execution_count": 1,
   "metadata": {},
   "outputs": [
    {
     "name": "stdout",
     "output_type": "stream",
     "text": [
      "(10+10j)\n"
     ]
    }
   ],
   "source": [
    "a = 1 + 2j\n",
    "b = 11 + 12j\n",
    "print(b-a)"
   ]
  },
  {
   "cell_type": "markdown",
   "metadata": {},
   "source": [
    "# 2. Find the fourth root of a number"
   ]
  },
  {
   "cell_type": "code",
   "execution_count": 2,
   "metadata": {},
   "outputs": [
    {
     "name": "stdout",
     "output_type": "stream",
     "text": [
      "Number = 6561\n",
      "Fourth root = 9.0\n"
     ]
    }
   ],
   "source": [
    "a = 9**4\n",
    "print(\"Number =\", a)\n",
    "print(\"Fourth root =\", a**(1/4))"
   ]
  },
  {
   "cell_type": "markdown",
   "metadata": {},
   "source": [
    "# 3. Swap two numbers in Python with the help of a temporary variable"
   ]
  },
  {
   "cell_type": "code",
   "execution_count": 3,
   "metadata": {},
   "outputs": [
    {
     "name": "stdout",
     "output_type": "stream",
     "text": [
      "a = 2\n",
      "b = 1\n"
     ]
    }
   ],
   "source": [
    "a = 1\n",
    "b = 2\n",
    "\n",
    "# Swapping\n",
    "c = a\n",
    "a = b\n",
    "b = c\n",
    "\n",
    "print(\"a =\", a)\n",
    "print(\"b =\", b)"
   ]
  },
  {
   "cell_type": "markdown",
   "metadata": {},
   "source": [
    "# 4. Swap two numbers in Python without using a temporary variable"
   ]
  },
  {
   "cell_type": "code",
   "execution_count": 4,
   "metadata": {},
   "outputs": [
    {
     "name": "stdout",
     "output_type": "stream",
     "text": [
      "a = 2\n",
      "b = 1\n"
     ]
    }
   ],
   "source": [
    "a = 1\n",
    "b = 2\n",
    "\n",
    "# Swapping\n",
    "a, b = b, a\n",
    "\n",
    "print(\"a =\", a)\n",
    "print(\"b =\", b)"
   ]
  },
  {
   "cell_type": "markdown",
   "metadata": {},
   "source": [
    "# 5. Convert fahrenheit to kelvin and celsius"
   ]
  },
  {
   "cell_type": "code",
   "execution_count": 5,
   "metadata": {},
   "outputs": [
    {
     "name": "stdout",
     "output_type": "stream",
     "text": [
      "-17.22222222222222\n",
      "255.92777777777775\n"
     ]
    }
   ],
   "source": [
    "def fahrenheit2celsius(degrees):\n",
    "    return (degrees-32)/1.8\n",
    "\n",
    "def fahrenheit2kelvin(degrees):\n",
    "    return fahrenheit2celsius(degrees) + 273.15\n",
    "\n",
    "print(fahrenheit2celsius(1))\n",
    "print(fahrenheit2kelvin(1))"
   ]
  },
  {
   "cell_type": "markdown",
   "metadata": {},
   "source": [
    "# 6. Demonstrate all the available data types in Python.\n",
    "Hint: Use type() function."
   ]
  },
  {
   "cell_type": "code",
   "execution_count": 6,
   "metadata": {},
   "outputs": [
    {
     "name": "stdout",
     "output_type": "stream",
     "text": [
      "<class 'str'>\n"
     ]
    }
   ],
   "source": [
    "# text type\n",
    "print(type(\"Hello world\"))"
   ]
  },
  {
   "cell_type": "code",
   "execution_count": 7,
   "metadata": {},
   "outputs": [
    {
     "name": "stdout",
     "output_type": "stream",
     "text": [
      "<class 'int'>\n",
      "<class 'float'>\n",
      "<class 'complex'>\n"
     ]
    }
   ],
   "source": [
    "# numeric type\n",
    "print(type(1))\n",
    "print(type(1.1))\n",
    "print(type(1j))"
   ]
  },
  {
   "cell_type": "code",
   "execution_count": 8,
   "metadata": {},
   "outputs": [
    {
     "name": "stdout",
     "output_type": "stream",
     "text": [
      "<class 'list'>\n",
      "<class 'tuple'>\n",
      "<class 'range'>\n"
     ]
    }
   ],
   "source": [
    "# sequence\n",
    "print(type([1,2,3]))    # mutable\n",
    "print(type((1,2,3)))    # immutable\n",
    "print(type(range(1,4))) # immutable, max not included"
   ]
  },
  {
   "cell_type": "code",
   "execution_count": 9,
   "metadata": {},
   "outputs": [
    {
     "name": "stdout",
     "output_type": "stream",
     "text": [
      "<class 'dict'>\n"
     ]
    }
   ],
   "source": [
    "# mapping: associative array\n",
    "print(type({\"a\": 1, \"b\": 2, \"c\": 3})) # mutable"
   ]
  },
  {
   "cell_type": "code",
   "execution_count": 10,
   "metadata": {},
   "outputs": [
    {
     "name": "stdout",
     "output_type": "stream",
     "text": [
      "<class 'set'>\n",
      "<class 'frozenset'>\n"
     ]
    }
   ],
   "source": [
    "# set: unordered collection of unique objets\n",
    "print(type({1,2,3}))            # mutable\n",
    "print(type(frozenset({1,2,3}))) # immutable"
   ]
  },
  {
   "cell_type": "code",
   "execution_count": 11,
   "metadata": {},
   "outputs": [
    {
     "name": "stdout",
     "output_type": "stream",
     "text": [
      "<class 'bool'>\n",
      "<class 'bool'>\n"
     ]
    }
   ],
   "source": [
    "# boolean\n",
    "print(type(True))\n",
    "print(type(False))"
   ]
  },
  {
   "cell_type": "code",
   "execution_count": 12,
   "metadata": {},
   "outputs": [
    {
     "name": "stdout",
     "output_type": "stream",
     "text": [
      "<class 'bytes'>\n",
      "<class 'bytearray'>\n"
     ]
    }
   ],
   "source": [
    "# binary\n",
    "print(type(b\"Hello World\"))            # immutable\n",
    "print(type(bytearray(b\"Hello World\"))) # mutable"
   ]
  },
  {
   "cell_type": "markdown",
   "metadata": {},
   "source": [
    "# 7. Assignment\n",
    "Create a Markdown cell in jupyter and list the steps discussed in the session by Dr. Darshan Ingle sir to create Github profile and upload Githubs Assignment link."
   ]
  },
  {
   "cell_type": "markdown",
   "metadata": {},
   "source": [
    "<!-- (48:00) -->\n",
    "\n",
    "* Create a public repo\n",
    "  * Go to Github.com\n",
    "\n",
    "  * If you haven't already: complete the form and Sign up  \n",
    "    Otherwise: Sign in\n",
    "\n",
    "  * Create a new repository  \n",
    "    Name it \"LetsUpgrade-AI-ML\" and leave it public\n",
    "\n",
    "* Upload your assignment\n",
    "  * On your PC, put your assignment in a folder named \"Day x\"\n",
    "\n",
    "  * Drag & drop the folder to Github (in the repo you created)\n",
    "\n",
    "  * Click \"Commit changes\"\n",
    "\n",
    "  * Check that your file renders properly\n",
    "\n",
    "  * Copy the URL to the \"Day x\" folder  \n",
    "    Check that the URL is accessible to the public by using the Incognito window\n",
    "\n",
    "* Submit your assignment\n",
    "  * Go to the Assignment Submission form\n",
    "\n",
    "  * Write your email (the one which you registered for the course), name & phone\n",
    "\n",
    "  * In the dropdown, choose for which day it is\n",
    "\n",
    "  * Paste the Github URL\n",
    "  \n",
    "  * Submit  \n",
    "    You'll receive a mail from Google Forms with your submission details\n",
    "  \n",
    "  "
   ]
  }
 ],
 "metadata": {
  "kernelspec": {
   "display_name": "Python 3",
   "language": "python",
   "name": "python3"
  },
  "language_info": {
   "codemirror_mode": {
    "name": "ipython",
    "version": 3
   },
   "file_extension": ".py",
   "mimetype": "text/x-python",
   "name": "python",
   "nbconvert_exporter": "python",
   "pygments_lexer": "ipython3",
   "version": "3.7.3"
  }
 },
 "nbformat": 4,
 "nbformat_minor": 2
}
