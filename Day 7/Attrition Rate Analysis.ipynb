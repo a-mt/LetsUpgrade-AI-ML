{
 "cells": [
  {
   "cell_type": "markdown",
   "metadata": {},
   "source": [
    "<ins>Instructions</ins>: what changes should the company make in order to reduce attrition.\n",
    "\n",
    "# About\n",
    "\n",
    "Information about the project can be found in [Day 10/Attrition Rate Analysis - Hypothesis.ipynb](../Day%2010/Attrition%20Rate%20Analysis%20-%20Hypothesis.ipynb)\n",
    "\n",
    "# Import data"
   ]
  },
  {
   "cell_type": "code",
   "execution_count": 1,
   "metadata": {},
   "outputs": [
    {
     "data": {
      "text/html": [
       "<div>\n",
       "<style scoped>\n",
       "    .dataframe tbody tr th:only-of-type {\n",
       "        vertical-align: middle;\n",
       "    }\n",
       "\n",
       "    .dataframe tbody tr th {\n",
       "        vertical-align: top;\n",
       "    }\n",
       "\n",
       "    .dataframe thead th {\n",
       "        text-align: right;\n",
       "    }\n",
       "</style>\n",
       "<table border=\"1\" class=\"dataframe\">\n",
       "  <thead>\n",
       "    <tr style=\"text-align: right;\">\n",
       "      <th></th>\n",
       "      <th>Age</th>\n",
       "      <th>Attrition</th>\n",
       "      <th>Attrition01</th>\n",
       "      <th>BusinessTravel</th>\n",
       "      <th>Department</th>\n",
       "      <th>DistanceFromHome</th>\n",
       "      <th>Education</th>\n",
       "      <th>EducationField</th>\n",
       "      <th>Gender</th>\n",
       "      <th>JobLevel</th>\n",
       "      <th>...</th>\n",
       "      <th>MaritalStatus</th>\n",
       "      <th>MonthlyIncome</th>\n",
       "      <th>NumCompaniesWorked</th>\n",
       "      <th>PercentSalaryHike</th>\n",
       "      <th>StockOptionLevel</th>\n",
       "      <th>TotalWorkingYears</th>\n",
       "      <th>TrainingTimesLastYear</th>\n",
       "      <th>YearsAtCompany</th>\n",
       "      <th>YearsSinceLastPromotion</th>\n",
       "      <th>YearsWithCurrManager</th>\n",
       "    </tr>\n",
       "  </thead>\n",
       "  <tbody>\n",
       "    <tr>\n",
       "      <th>0</th>\n",
       "      <td>51</td>\n",
       "      <td>No</td>\n",
       "      <td>0</td>\n",
       "      <td>Travel_Rarely</td>\n",
       "      <td>Sales</td>\n",
       "      <td>6</td>\n",
       "      <td>2</td>\n",
       "      <td>Life Sciences</td>\n",
       "      <td>Female</td>\n",
       "      <td>1</td>\n",
       "      <td>...</td>\n",
       "      <td>Married</td>\n",
       "      <td>131160</td>\n",
       "      <td>1.0</td>\n",
       "      <td>11</td>\n",
       "      <td>0</td>\n",
       "      <td>1.0</td>\n",
       "      <td>6</td>\n",
       "      <td>1</td>\n",
       "      <td>0</td>\n",
       "      <td>0</td>\n",
       "    </tr>\n",
       "    <tr>\n",
       "      <th>1</th>\n",
       "      <td>31</td>\n",
       "      <td>Yes</td>\n",
       "      <td>1</td>\n",
       "      <td>Travel_Frequently</td>\n",
       "      <td>Research &amp; Development</td>\n",
       "      <td>10</td>\n",
       "      <td>1</td>\n",
       "      <td>Life Sciences</td>\n",
       "      <td>Female</td>\n",
       "      <td>1</td>\n",
       "      <td>...</td>\n",
       "      <td>Single</td>\n",
       "      <td>41890</td>\n",
       "      <td>0.0</td>\n",
       "      <td>23</td>\n",
       "      <td>1</td>\n",
       "      <td>6.0</td>\n",
       "      <td>3</td>\n",
       "      <td>5</td>\n",
       "      <td>1</td>\n",
       "      <td>4</td>\n",
       "    </tr>\n",
       "    <tr>\n",
       "      <th>2</th>\n",
       "      <td>32</td>\n",
       "      <td>No</td>\n",
       "      <td>0</td>\n",
       "      <td>Travel_Frequently</td>\n",
       "      <td>Research &amp; Development</td>\n",
       "      <td>17</td>\n",
       "      <td>4</td>\n",
       "      <td>Other</td>\n",
       "      <td>Male</td>\n",
       "      <td>4</td>\n",
       "      <td>...</td>\n",
       "      <td>Married</td>\n",
       "      <td>193280</td>\n",
       "      <td>1.0</td>\n",
       "      <td>15</td>\n",
       "      <td>3</td>\n",
       "      <td>5.0</td>\n",
       "      <td>2</td>\n",
       "      <td>5</td>\n",
       "      <td>0</td>\n",
       "      <td>3</td>\n",
       "    </tr>\n",
       "    <tr>\n",
       "      <th>3</th>\n",
       "      <td>38</td>\n",
       "      <td>No</td>\n",
       "      <td>0</td>\n",
       "      <td>Non-Travel</td>\n",
       "      <td>Research &amp; Development</td>\n",
       "      <td>2</td>\n",
       "      <td>5</td>\n",
       "      <td>Life Sciences</td>\n",
       "      <td>Male</td>\n",
       "      <td>3</td>\n",
       "      <td>...</td>\n",
       "      <td>Married</td>\n",
       "      <td>83210</td>\n",
       "      <td>3.0</td>\n",
       "      <td>11</td>\n",
       "      <td>3</td>\n",
       "      <td>13.0</td>\n",
       "      <td>5</td>\n",
       "      <td>8</td>\n",
       "      <td>7</td>\n",
       "      <td>5</td>\n",
       "    </tr>\n",
       "    <tr>\n",
       "      <th>4</th>\n",
       "      <td>32</td>\n",
       "      <td>No</td>\n",
       "      <td>0</td>\n",
       "      <td>Travel_Rarely</td>\n",
       "      <td>Research &amp; Development</td>\n",
       "      <td>10</td>\n",
       "      <td>1</td>\n",
       "      <td>Medical</td>\n",
       "      <td>Male</td>\n",
       "      <td>1</td>\n",
       "      <td>...</td>\n",
       "      <td>Single</td>\n",
       "      <td>23420</td>\n",
       "      <td>4.0</td>\n",
       "      <td>12</td>\n",
       "      <td>2</td>\n",
       "      <td>9.0</td>\n",
       "      <td>2</td>\n",
       "      <td>6</td>\n",
       "      <td>0</td>\n",
       "      <td>4</td>\n",
       "    </tr>\n",
       "  </tbody>\n",
       "</table>\n",
       "<p>5 rows × 21 columns</p>\n",
       "</div>"
      ],
      "text/plain": [
       "   Age Attrition  Attrition01     BusinessTravel              Department  \\\n",
       "0   51        No            0      Travel_Rarely                   Sales   \n",
       "1   31       Yes            1  Travel_Frequently  Research & Development   \n",
       "2   32        No            0  Travel_Frequently  Research & Development   \n",
       "3   38        No            0         Non-Travel  Research & Development   \n",
       "4   32        No            0      Travel_Rarely  Research & Development   \n",
       "\n",
       "   DistanceFromHome  Education EducationField  Gender  JobLevel  ...  \\\n",
       "0                 6          2  Life Sciences  Female         1  ...   \n",
       "1                10          1  Life Sciences  Female         1  ...   \n",
       "2                17          4          Other    Male         4  ...   \n",
       "3                 2          5  Life Sciences    Male         3  ...   \n",
       "4                10          1        Medical    Male         1  ...   \n",
       "\n",
       "  MaritalStatus MonthlyIncome  NumCompaniesWorked  PercentSalaryHike  \\\n",
       "0       Married        131160                 1.0                 11   \n",
       "1        Single         41890                 0.0                 23   \n",
       "2       Married        193280                 1.0                 15   \n",
       "3       Married         83210                 3.0                 11   \n",
       "4        Single         23420                 4.0                 12   \n",
       "\n",
       "   StockOptionLevel  TotalWorkingYears  TrainingTimesLastYear  YearsAtCompany  \\\n",
       "0                 0                1.0                      6               1   \n",
       "1                 1                6.0                      3               5   \n",
       "2                 3                5.0                      2               5   \n",
       "3                 3               13.0                      5               8   \n",
       "4                 2                9.0                      2               6   \n",
       "\n",
       "   YearsSinceLastPromotion  YearsWithCurrManager  \n",
       "0                        0                     0  \n",
       "1                        1                     4  \n",
       "2                        0                     3  \n",
       "3                        7                     5  \n",
       "4                        0                     4  \n",
       "\n",
       "[5 rows x 21 columns]"
      ]
     },
     "execution_count": 1,
     "metadata": {},
     "output_type": "execute_result"
    }
   ],
   "source": [
    "import pandas as pd\n",
    "import matplotlib.pyplot as plt\n",
    "\n",
    "df = pd.read_csv('general_data.csv')\n",
    "\n",
    "# Drop columns we're not interested in\n",
    "df.drop(['EmployeeCount', 'EmployeeID', 'Over18', 'StandardHours'], axis=1, inplace=True)\n",
    "\n",
    "# Drop rows with missing values\n",
    "df = df.dropna()\n",
    "\n",
    "# Convert Attrition to numerical\n",
    "df['Attrition01'] = df['Attrition'].map(dict(Yes=1, No=0))\n",
    "df = df.reindex(columns=sorted(df.columns))\n",
    "df.head()"
   ]
  },
  {
   "cell_type": "code",
   "execution_count": 2,
   "metadata": {},
   "outputs": [
    {
     "data": {
      "text/plain": [
       "Index(['Age', 'Attrition', 'Attrition01', 'BusinessTravel', 'Department',\n",
       "       'DistanceFromHome', 'Education', 'EducationField', 'Gender', 'JobLevel',\n",
       "       'JobRole', 'MaritalStatus', 'MonthlyIncome', 'NumCompaniesWorked',\n",
       "       'PercentSalaryHike', 'StockOptionLevel', 'TotalWorkingYears',\n",
       "       'TrainingTimesLastYear', 'YearsAtCompany', 'YearsSinceLastPromotion',\n",
       "       'YearsWithCurrManager'],\n",
       "      dtype='object')"
      ]
     },
     "execution_count": 2,
     "metadata": {},
     "output_type": "execute_result"
    }
   ],
   "source": [
    "df.columns"
   ]
  },
  {
   "cell_type": "code",
   "execution_count": 3,
   "metadata": {},
   "outputs": [
    {
     "data": {
      "text/plain": [
       "Age                          int64\n",
       "Attrition                   object\n",
       "Attrition01                  int64\n",
       "BusinessTravel              object\n",
       "Department                  object\n",
       "DistanceFromHome             int64\n",
       "Education                    int64\n",
       "EducationField              object\n",
       "Gender                      object\n",
       "JobLevel                     int64\n",
       "JobRole                     object\n",
       "MaritalStatus               object\n",
       "MonthlyIncome                int64\n",
       "NumCompaniesWorked         float64\n",
       "PercentSalaryHike            int64\n",
       "StockOptionLevel             int64\n",
       "TotalWorkingYears          float64\n",
       "TrainingTimesLastYear        int64\n",
       "YearsAtCompany               int64\n",
       "YearsSinceLastPromotion      int64\n",
       "YearsWithCurrManager         int64\n",
       "dtype: object"
      ]
     },
     "execution_count": 3,
     "metadata": {},
     "output_type": "execute_result"
    }
   ],
   "source": [
    "df.dtypes"
   ]
  },
  {
   "cell_type": "code",
   "execution_count": 4,
   "metadata": {},
   "outputs": [
    {
     "name": "stdout",
     "output_type": "stream",
     "text": [
      "4382\n"
     ]
    }
   ],
   "source": [
    "n = df.shape[0]\n",
    "print(n)"
   ]
  },
  {
   "cell_type": "markdown",
   "metadata": {},
   "source": [
    "# Analysis"
   ]
  },
  {
   "cell_type": "code",
   "execution_count": 5,
   "metadata": {
    "scrolled": true
   },
   "outputs": [
    {
     "name": "stdout",
     "output_type": "stream",
     "text": [
      "The following features have correlations with attrition:\n"
     ]
    },
    {
     "data": {
      "text/html": [
       "<div>\n",
       "<style scoped>\n",
       "    .dataframe tbody tr th:only-of-type {\n",
       "        vertical-align: middle;\n",
       "    }\n",
       "\n",
       "    .dataframe tbody tr th {\n",
       "        vertical-align: top;\n",
       "    }\n",
       "\n",
       "    .dataframe thead th {\n",
       "        text-align: right;\n",
       "    }\n",
       "</style>\n",
       "<table border=\"1\" class=\"dataframe\">\n",
       "  <thead>\n",
       "    <tr style=\"text-align: right;\">\n",
       "      <th></th>\n",
       "      <th>ColumnName</th>\n",
       "      <th>R</th>\n",
       "      <th>PValue</th>\n",
       "      <th>R2</th>\n",
       "    </tr>\n",
       "  </thead>\n",
       "  <tbody>\n",
       "    <tr>\n",
       "      <th>13</th>\n",
       "      <td>MaritalStatus</td>\n",
       "      <td>0.174778</td>\n",
       "      <td>8.573052e-30</td>\n",
       "      <td>3.054721</td>\n",
       "    </tr>\n",
       "    <tr>\n",
       "      <th>4</th>\n",
       "      <td>TotalWorkingYears</td>\n",
       "      <td>-0.169670</td>\n",
       "      <td>1.164543e-29</td>\n",
       "      <td>2.878788</td>\n",
       "    </tr>\n",
       "    <tr>\n",
       "      <th>0</th>\n",
       "      <td>Age</td>\n",
       "      <td>-0.158399</td>\n",
       "      <td>5.126598e-26</td>\n",
       "      <td>2.509014</td>\n",
       "    </tr>\n",
       "    <tr>\n",
       "      <th>8</th>\n",
       "      <td>YearsWithCurrManager</td>\n",
       "      <td>-0.154692</td>\n",
       "      <td>7.105370e-25</td>\n",
       "      <td>2.392947</td>\n",
       "    </tr>\n",
       "    <tr>\n",
       "      <th>6</th>\n",
       "      <td>YearsAtCompany</td>\n",
       "      <td>-0.133003</td>\n",
       "      <td>9.476118e-19</td>\n",
       "      <td>1.768970</td>\n",
       "    </tr>\n",
       "    <tr>\n",
       "      <th>9</th>\n",
       "      <td>BusinessTravel</td>\n",
       "      <td>0.126459</td>\n",
       "      <td>6.070197e-16</td>\n",
       "      <td>1.599177</td>\n",
       "    </tr>\n",
       "    <tr>\n",
       "      <th>11</th>\n",
       "      <td>EducationField</td>\n",
       "      <td>0.099213</td>\n",
       "      <td>3.472896e-08</td>\n",
       "      <td>0.984319</td>\n",
       "    </tr>\n",
       "    <tr>\n",
       "      <th>10</th>\n",
       "      <td>Department</td>\n",
       "      <td>0.076872</td>\n",
       "      <td>2.382971e-06</td>\n",
       "      <td>0.590925</td>\n",
       "    </tr>\n",
       "    <tr>\n",
       "      <th>12</th>\n",
       "      <td>JobRole</td>\n",
       "      <td>0.070684</td>\n",
       "      <td>5.116593e-03</td>\n",
       "      <td>0.499629</td>\n",
       "    </tr>\n",
       "    <tr>\n",
       "      <th>5</th>\n",
       "      <td>TrainingTimesLastYear</td>\n",
       "      <td>-0.047586</td>\n",
       "      <td>1.627660e-03</td>\n",
       "      <td>0.226440</td>\n",
       "    </tr>\n",
       "    <tr>\n",
       "      <th>2</th>\n",
       "      <td>NumCompaniesWorked</td>\n",
       "      <td>0.042831</td>\n",
       "      <td>4.572057e-03</td>\n",
       "      <td>0.183446</td>\n",
       "    </tr>\n",
       "    <tr>\n",
       "      <th>3</th>\n",
       "      <td>PercentSalaryHike</td>\n",
       "      <td>0.033153</td>\n",
       "      <td>2.819245e-02</td>\n",
       "      <td>0.109912</td>\n",
       "    </tr>\n",
       "    <tr>\n",
       "      <th>7</th>\n",
       "      <td>YearsSinceLastPromotion</td>\n",
       "      <td>-0.031423</td>\n",
       "      <td>3.752294e-02</td>\n",
       "      <td>0.098741</td>\n",
       "    </tr>\n",
       "    <tr>\n",
       "      <th>1</th>\n",
       "      <td>MonthlyIncome</td>\n",
       "      <td>-0.030160</td>\n",
       "      <td>4.589086e-02</td>\n",
       "      <td>0.090964</td>\n",
       "    </tr>\n",
       "  </tbody>\n",
       "</table>\n",
       "</div>"
      ],
      "text/plain": [
       "                 ColumnName         R        PValue        R2\n",
       "13            MaritalStatus  0.174778  8.573052e-30  3.054721\n",
       "4         TotalWorkingYears -0.169670  1.164543e-29  2.878788\n",
       "0                       Age -0.158399  5.126598e-26  2.509014\n",
       "8      YearsWithCurrManager -0.154692  7.105370e-25  2.392947\n",
       "6            YearsAtCompany -0.133003  9.476118e-19  1.768970\n",
       "9            BusinessTravel  0.126459  6.070197e-16  1.599177\n",
       "11           EducationField  0.099213  3.472896e-08  0.984319\n",
       "10               Department  0.076872  2.382971e-06  0.590925\n",
       "12                  JobRole  0.070684  5.116593e-03  0.499629\n",
       "5     TrainingTimesLastYear -0.047586  1.627660e-03  0.226440\n",
       "2        NumCompaniesWorked  0.042831  4.572057e-03  0.183446\n",
       "3         PercentSalaryHike  0.033153  2.819245e-02  0.109912\n",
       "7   YearsSinceLastPromotion -0.031423  3.752294e-02  0.098741\n",
       "1             MonthlyIncome -0.030160  4.589086e-02  0.090964"
      ]
     },
     "execution_count": 5,
     "metadata": {},
     "output_type": "execute_result"
    }
   ],
   "source": [
    "dfTest = pd.DataFrame(data=[], columns=['ColumnName', 'R', 'PValue'])\n",
    "\n",
    "# Check numeric features\n",
    "from scipy.stats import pearsonr\n",
    "from scipy.stats import chi2_contingency\n",
    "\n",
    "columns = df._get_numeric_data().columns.drop('Attrition01')\n",
    "for column in columns:\n",
    "    r,p = pearsonr(df.Attrition01, df[column])\n",
    "\n",
    "    if p<0.05:\n",
    "        dfTest.loc[len(dfTest)] = [column, r, p]\n",
    "\n",
    "# Check categorical features\n",
    "columns = df.select_dtypes('object').columns.drop('Attrition')\n",
    "\n",
    "for column in columns:\n",
    "    crosstab = pd.crosstab(df.Attrition01, df[column])\n",
    "    chi2,p,dof,expected = chi2_contingency(crosstab)\n",
    "\n",
    "    if p<0.05:\n",
    "        dfTest.loc[len(dfTest)] = [column, (chi2/n)**0.5, p]\n",
    "\n",
    "print(\"The following features have correlations with attrition:\")\n",
    "\n",
    "dfTest['R2'] = dfTest['R']**2*100\n",
    "dfTest.sort_values(by=['R2'], ascending=False)"
   ]
  },
  {
   "cell_type": "markdown",
   "metadata": {},
   "source": [
    "## Marital Status"
   ]
  },
  {
   "cell_type": "code",
   "execution_count": 6,
   "metadata": {},
   "outputs": [
    {
     "data": {
      "text/html": [
       "<style  type=\"text/css\" >\n",
       "    #T_c041bd26_cdab_11ea_8631_6ff0db3160carow0_col0 {\n",
       "            background-color:  #08306b;\n",
       "            color:  #f1f1f1;\n",
       "        }    #T_c041bd26_cdab_11ea_8631_6ff0db3160carow0_col1 {\n",
       "            background-color:  #08306b;\n",
       "            color:  #f1f1f1;\n",
       "        }    #T_c041bd26_cdab_11ea_8631_6ff0db3160carow0_col2 {\n",
       "            background-color:  #f7fbff;\n",
       "            color:  #000000;\n",
       "        }    #T_c041bd26_cdab_11ea_8631_6ff0db3160carow0_col3 {\n",
       "            background-color:  #f7fbff;\n",
       "            color:  #000000;\n",
       "        }    #T_c041bd26_cdab_11ea_8631_6ff0db3160carow1_col0 {\n",
       "            background-color:  #f7fbff;\n",
       "            color:  #000000;\n",
       "        }    #T_c041bd26_cdab_11ea_8631_6ff0db3160carow1_col1 {\n",
       "            background-color:  #f7fbff;\n",
       "            color:  #000000;\n",
       "        }    #T_c041bd26_cdab_11ea_8631_6ff0db3160carow1_col2 {\n",
       "            background-color:  #08306b;\n",
       "            color:  #f1f1f1;\n",
       "        }    #T_c041bd26_cdab_11ea_8631_6ff0db3160carow1_col3 {\n",
       "            background-color:  #f7fbff;\n",
       "            color:  #000000;\n",
       "        }    #T_c041bd26_cdab_11ea_8631_6ff0db3160carow2_col0 {\n",
       "            background-color:  #0e59a2;\n",
       "            color:  #f1f1f1;\n",
       "        }    #T_c041bd26_cdab_11ea_8631_6ff0db3160carow2_col1 {\n",
       "            background-color:  #0f5aa3;\n",
       "            color:  #f1f1f1;\n",
       "        }    #T_c041bd26_cdab_11ea_8631_6ff0db3160carow2_col2 {\n",
       "            background-color:  #d7e6f5;\n",
       "            color:  #000000;\n",
       "        }    #T_c041bd26_cdab_11ea_8631_6ff0db3160carow2_col3 {\n",
       "            background-color:  #f7fbff;\n",
       "            color:  #000000;\n",
       "        }</style><table id=\"T_c041bd26_cdab_11ea_8631_6ff0db3160ca\" ><thead>    <tr>        <th class=\"index_name level0\" >MaritalStatus</th>        <th class=\"col_heading level0 col0\" >Divorced</th>        <th class=\"col_heading level0 col1\" >Married</th>        <th class=\"col_heading level0 col2\" >Single</th>        <th class=\"col_heading level0 col3\" >All</th>    </tr>    <tr>        <th class=\"index_name level0\" >Attrition01</th>        <th class=\"blank\" ></th>        <th class=\"blank\" ></th>        <th class=\"blank\" ></th>        <th class=\"blank\" ></th>    </tr></thead><tbody>\n",
       "                <tr>\n",
       "                        <th id=\"T_c041bd26_cdab_11ea_8631_6ff0db3160calevel0_row0\" class=\"row_heading level0 row0\" >0</th>\n",
       "                        <td id=\"T_c041bd26_cdab_11ea_8631_6ff0db3160carow0_col0\" class=\"data row0 col0\" >23.71</td>\n",
       "                        <td id=\"T_c041bd26_cdab_11ea_8631_6ff0db3160carow0_col1\" class=\"data row0 col1\" >47.76</td>\n",
       "                        <td id=\"T_c041bd26_cdab_11ea_8631_6ff0db3160carow0_col2\" class=\"data row0 col2\" >28.53</td>\n",
       "                        <td id=\"T_c041bd26_cdab_11ea_8631_6ff0db3160carow0_col3\" class=\"data row0 col3\" >100</td>\n",
       "            </tr>\n",
       "            <tr>\n",
       "                        <th id=\"T_c041bd26_cdab_11ea_8631_6ff0db3160calevel0_row1\" class=\"row_heading level0 row1\" >1</th>\n",
       "                        <td id=\"T_c041bd26_cdab_11ea_8631_6ff0db3160carow1_col0\" class=\"data row1 col0\" >13.9</td>\n",
       "                        <td id=\"T_c041bd26_cdab_11ea_8631_6ff0db3160carow1_col1\" class=\"data row1 col1\" >35.6</td>\n",
       "                        <td id=\"T_c041bd26_cdab_11ea_8631_6ff0db3160carow1_col2\" class=\"data row1 col2\" >50.5</td>\n",
       "                        <td id=\"T_c041bd26_cdab_11ea_8631_6ff0db3160carow1_col3\" class=\"data row1 col3\" >100</td>\n",
       "            </tr>\n",
       "            <tr>\n",
       "                        <th id=\"T_c041bd26_cdab_11ea_8631_6ff0db3160calevel0_row2\" class=\"row_heading level0 row2\" >All</th>\n",
       "                        <td id=\"T_c041bd26_cdab_11ea_8631_6ff0db3160carow2_col0\" class=\"data row2 col0\" >22.14</td>\n",
       "                        <td id=\"T_c041bd26_cdab_11ea_8631_6ff0db3160carow2_col1\" class=\"data row2 col1\" >45.8</td>\n",
       "                        <td id=\"T_c041bd26_cdab_11ea_8631_6ff0db3160carow2_col2\" class=\"data row2 col2\" >32.06</td>\n",
       "                        <td id=\"T_c041bd26_cdab_11ea_8631_6ff0db3160carow2_col3\" class=\"data row2 col3\" >100</td>\n",
       "            </tr>\n",
       "    </tbody></table>"
      ],
      "text/plain": [
       "<pandas.io.formats.style.Styler at 0x7f49336a8710>"
      ]
     },
     "metadata": {},
     "output_type": "display_data"
    },
    {
     "data": {
      "text/html": [
       "<style  type=\"text/css\" >\n",
       "    #T_c044b738_cdab_11ea_8631_6ff0db3160carow0_col0 {\n",
       "            background-color:  #084d96;\n",
       "            color:  #f1f1f1;\n",
       "        }    #T_c044b738_cdab_11ea_8631_6ff0db3160carow0_col1 {\n",
       "            background-color:  #0b559f;\n",
       "            color:  #f1f1f1;\n",
       "        }    #T_c044b738_cdab_11ea_8631_6ff0db3160carow0_col2 {\n",
       "            background-color:  #3888c1;\n",
       "            color:  #000000;\n",
       "        }    #T_c044b738_cdab_11ea_8631_6ff0db3160carow0_col3 {\n",
       "            background-color:  #1562a9;\n",
       "            color:  #f1f1f1;\n",
       "        }    #T_c044b738_cdab_11ea_8631_6ff0db3160carow1_col0 {\n",
       "            background-color:  #f7fbff;\n",
       "            color:  #000000;\n",
       "        }    #T_c044b738_cdab_11ea_8631_6ff0db3160carow1_col1 {\n",
       "            background-color:  #f7fbff;\n",
       "            color:  #000000;\n",
       "        }    #T_c044b738_cdab_11ea_8631_6ff0db3160carow1_col2 {\n",
       "            background-color:  #f7fbff;\n",
       "            color:  #000000;\n",
       "        }    #T_c044b738_cdab_11ea_8631_6ff0db3160carow1_col3 {\n",
       "            background-color:  #f7fbff;\n",
       "            color:  #000000;\n",
       "        }    #T_c044b738_cdab_11ea_8631_6ff0db3160carow2_col0 {\n",
       "            background-color:  #08306b;\n",
       "            color:  #f1f1f1;\n",
       "        }    #T_c044b738_cdab_11ea_8631_6ff0db3160carow2_col1 {\n",
       "            background-color:  #08306b;\n",
       "            color:  #f1f1f1;\n",
       "        }    #T_c044b738_cdab_11ea_8631_6ff0db3160carow2_col2 {\n",
       "            background-color:  #08306b;\n",
       "            color:  #f1f1f1;\n",
       "        }    #T_c044b738_cdab_11ea_8631_6ff0db3160carow2_col3 {\n",
       "            background-color:  #08306b;\n",
       "            color:  #f1f1f1;\n",
       "        }</style><table id=\"T_c044b738_cdab_11ea_8631_6ff0db3160ca\" ><thead>    <tr>        <th class=\"index_name level0\" >MaritalStatus</th>        <th class=\"col_heading level0 col0\" >Divorced</th>        <th class=\"col_heading level0 col1\" >Married</th>        <th class=\"col_heading level0 col2\" >Single</th>        <th class=\"col_heading level0 col3\" >All</th>    </tr>    <tr>        <th class=\"index_name level0\" >Attrition01</th>        <th class=\"blank\" ></th>        <th class=\"blank\" ></th>        <th class=\"blank\" ></th>        <th class=\"blank\" ></th>    </tr></thead><tbody>\n",
       "                <tr>\n",
       "                        <th id=\"T_c044b738_cdab_11ea_8631_6ff0db3160calevel0_row0\" class=\"row_heading level0 row0\" >0</th>\n",
       "                        <td id=\"T_c044b738_cdab_11ea_8631_6ff0db3160carow0_col0\" class=\"data row0 col0\" >89.9</td>\n",
       "                        <td id=\"T_c044b738_cdab_11ea_8631_6ff0db3160carow0_col1\" class=\"data row0 col1\" >87.49</td>\n",
       "                        <td id=\"T_c044b738_cdab_11ea_8631_6ff0db3160carow0_col2\" class=\"data row0 col2\" >74.66</td>\n",
       "                        <td id=\"T_c044b738_cdab_11ea_8631_6ff0db3160carow0_col3\" class=\"data row0 col3\" >83.91</td>\n",
       "            </tr>\n",
       "            <tr>\n",
       "                        <th id=\"T_c044b738_cdab_11ea_8631_6ff0db3160calevel0_row1\" class=\"row_heading level0 row1\" >1</th>\n",
       "                        <td id=\"T_c044b738_cdab_11ea_8631_6ff0db3160carow1_col0\" class=\"data row1 col0\" >10.1</td>\n",
       "                        <td id=\"T_c044b738_cdab_11ea_8631_6ff0db3160carow1_col1\" class=\"data row1 col1\" >12.51</td>\n",
       "                        <td id=\"T_c044b738_cdab_11ea_8631_6ff0db3160carow1_col2\" class=\"data row1 col2\" >25.34</td>\n",
       "                        <td id=\"T_c044b738_cdab_11ea_8631_6ff0db3160carow1_col3\" class=\"data row1 col3\" >16.09</td>\n",
       "            </tr>\n",
       "            <tr>\n",
       "                        <th id=\"T_c044b738_cdab_11ea_8631_6ff0db3160calevel0_row2\" class=\"row_heading level0 row2\" >All</th>\n",
       "                        <td id=\"T_c044b738_cdab_11ea_8631_6ff0db3160carow2_col0\" class=\"data row2 col0\" >100</td>\n",
       "                        <td id=\"T_c044b738_cdab_11ea_8631_6ff0db3160carow2_col1\" class=\"data row2 col1\" >100</td>\n",
       "                        <td id=\"T_c044b738_cdab_11ea_8631_6ff0db3160carow2_col2\" class=\"data row2 col2\" >100</td>\n",
       "                        <td id=\"T_c044b738_cdab_11ea_8631_6ff0db3160carow2_col3\" class=\"data row2 col3\" >100</td>\n",
       "            </tr>\n",
       "    </tbody></table>"
      ],
      "text/plain": [
       "<pandas.io.formats.style.Styler at 0x7f4930982a90>"
      ]
     },
     "metadata": {},
     "output_type": "display_data"
    }
   ],
   "source": [
    "crosstab = pd.crosstab(df.Attrition01, df.MaritalStatus, margins=True)\n",
    "crosstab_proprow = round(crosstab.div(crosstab.iloc[:,-1], axis=0).mul(100, axis=0), 2)\n",
    "display(crosstab_proprow.style.background_gradient(cmap='Blues'))\n",
    "\n",
    "crosstab_propcol = round(crosstab.div(crosstab.iloc[-1,:], axis=1).mul(100, axis=1), 2)\n",
    "display(crosstab_propcol.style.background_gradient(cmap='Blues'))"
   ]
  },
  {
   "cell_type": "code",
   "execution_count": 7,
   "metadata": {},
   "outputs": [
    {
     "data": {
      "text/plain": [
       "Text(0.5, 1.0, 'Attrition relative to marital status')"
      ]
     },
     "execution_count": 7,
     "metadata": {},
     "output_type": "execute_result"
    },
    {
     "data": {
      "image/png": "[encoded data removed]",
      "text/plain": [
       "<Figure size 432x288 with 1 Axes>"
      ]
     },
     "metadata": {
      "needs_background": "light"
     },
     "output_type": "display_data"
    }
   ],
   "source": [
    "plt.bar(crosstab_propcol.columns, crosstab_propcol.iloc[0], label=\"No\")\n",
    "plt.bar(crosstab_propcol.columns, crosstab_propcol.iloc[1], label=\"Yes\")\n",
    "plt.legend()\n",
    "plt.title(\"Attrition relative to marital status\")"
   ]
  },
  {
   "cell_type": "markdown",
   "metadata": {},
   "source": [
    "People that are single are more likely to leave. Probably because the others have a family to provide for. Although interesting, this isn't a feature the company can act upon."
   ]
  },
  {
   "cell_type": "markdown",
   "metadata": {},
   "source": [
    "## Total working years"
   ]
  },
  {
   "cell_type": "code",
   "execution_count": 8,
   "metadata": {},
   "outputs": [],
   "source": [
    "dfYes = df[df['Attrition'] == 'Yes']\n",
    "dfNo  = df[df['Attrition'] == 'No']"
   ]
  },
  {
   "cell_type": "code",
   "execution_count": 9,
   "metadata": {
    "scrolled": true
   },
   "outputs": [
    {
     "data": {
      "text/html": [
       "<div>\n",
       "<style scoped>\n",
       "    .dataframe tbody tr th:only-of-type {\n",
       "        vertical-align: middle;\n",
       "    }\n",
       "\n",
       "    .dataframe tbody tr th {\n",
       "        vertical-align: top;\n",
       "    }\n",
       "\n",
       "    .dataframe thead th {\n",
       "        text-align: right;\n",
       "    }\n",
       "</style>\n",
       "<table border=\"1\" class=\"dataframe\">\n",
       "  <thead>\n",
       "    <tr style=\"text-align: right;\">\n",
       "      <th></th>\n",
       "      <th>Attrition_all</th>\n",
       "      <th>Attrition_yes</th>\n",
       "      <th>Attrition_no</th>\n",
       "    </tr>\n",
       "    <tr>\n",
       "      <th>TotalWorkingYears</th>\n",
       "      <th></th>\n",
       "      <th></th>\n",
       "      <th></th>\n",
       "    </tr>\n",
       "  </thead>\n",
       "  <tbody>\n",
       "    <tr>\n",
       "      <th>0.0</th>\n",
       "      <td>32</td>\n",
       "      <td>14.0</td>\n",
       "      <td>18.0</td>\n",
       "    </tr>\n",
       "    <tr>\n",
       "      <th>1.0</th>\n",
       "      <td>241</td>\n",
       "      <td>119.0</td>\n",
       "      <td>122.0</td>\n",
       "    </tr>\n",
       "    <tr>\n",
       "      <th>2.0</th>\n",
       "      <td>93</td>\n",
       "      <td>27.0</td>\n",
       "      <td>66.0</td>\n",
       "    </tr>\n",
       "    <tr>\n",
       "      <th>3.0</th>\n",
       "      <td>126</td>\n",
       "      <td>27.0</td>\n",
       "      <td>99.0</td>\n",
       "    </tr>\n",
       "    <tr>\n",
       "      <th>4.0</th>\n",
       "      <td>188</td>\n",
       "      <td>36.0</td>\n",
       "      <td>152.0</td>\n",
       "    </tr>\n",
       "  </tbody>\n",
       "</table>\n",
       "</div>"
      ],
      "text/plain": [
       "                   Attrition_all  Attrition_yes  Attrition_no\n",
       "TotalWorkingYears                                            \n",
       "0.0                           32           14.0          18.0\n",
       "1.0                          241          119.0         122.0\n",
       "2.0                           93           27.0          66.0\n",
       "3.0                          126           27.0          99.0\n",
       "4.0                          188           36.0         152.0"
      ]
     },
     "execution_count": 9,
     "metadata": {},
     "output_type": "execute_result"
    }
   ],
   "source": [
    "dfGroupsAll = df[['TotalWorkingYears', 'Attrition01']] \\\n",
    "    .groupby('TotalWorkingYears').count() \\\n",
    "    .merge(\n",
    "        dfYes[['TotalWorkingYears', 'Attrition01']].groupby('TotalWorkingYears').count(),\n",
    "        on='TotalWorkingYears',\n",
    "        how='left'\n",
    "    ).rename(columns = {\n",
    "        'Attrition01_x': 'Attrition_all',\n",
    "        'Attrition01_y': 'Attrition_yes'\n",
    "    }).merge(\n",
    "        dfNo[['TotalWorkingYears', 'Attrition01']].groupby('TotalWorkingYears').count(),\n",
    "        on='TotalWorkingYears',\n",
    "        how='left'\n",
    "    ).rename(columns = {\n",
    "        'Attrition01': 'Attrition_no'}\n",
    "    ).fillna(0)\n",
    "\n",
    "dfGroupsAll.head()"
   ]
  },
  {
   "cell_type": "code",
   "execution_count": 10,
   "metadata": {},
   "outputs": [
    {
     "data": {
      "text/plain": [
       "<matplotlib.legend.Legend at 0x7f4928138f28>"
      ]
     },
     "execution_count": 10,
     "metadata": {},
     "output_type": "execute_result"
    },
    {
     "data": {
      "image/png": "[encoded data removed]",
      "text/plain": [
       "<Figure size 432x288 with 1 Axes>"
      ]
     },
     "metadata": {
      "needs_background": "light"
     },
     "output_type": "display_data"
    }
   ],
   "source": [
    "plt.bar(dfGroupsAll.index, dfGroupsAll.Attrition_no, label=\"No\")\n",
    "plt.bar(dfGroupsAll.index, dfGroupsAll.Attrition_yes, label=\"Yes\")\n",
    "plt.legend()"
   ]
  },
  {
   "cell_type": "code",
   "execution_count": 11,
   "metadata": {},
   "outputs": [
    {
     "name": "stdout",
     "output_type": "stream",
     "text": [
      "0 : 43.75\n",
      "1 : 49.37759336099585\n",
      "2 : 29.03225806451613\n",
      "3 : 21.428571428571427\n",
      "4 : 19.148936170212767\n"
     ]
    }
   ],
   "source": [
    "for i in range(5):\n",
    "    row = dfGroupsAll.loc[i]\n",
    "    print(i, \":\", (row.Attrition_yes/row.Attrition_all)*100)"
   ]
  },
  {
   "cell_type": "markdown",
   "metadata": {},
   "source": [
    "People that are new to the job market are much more likely to leave. Almost 50% of people with a year of experience leave."
   ]
  },
  {
   "cell_type": "markdown",
   "metadata": {},
   "source": [
    "### Total Working Years vs Job Level"
   ]
  },
  {
   "cell_type": "code",
   "execution_count": 12,
   "metadata": {},
   "outputs": [
    {
     "data": {
      "text/plain": [
       "Text(0.5, 1, 'Job Level: Total Working Years > 1')"
      ]
     },
     "execution_count": 12,
     "metadata": {},
     "output_type": "execute_result"
    },
    {
     "data": {
      "image/png": "[encoded data removed]",
      "text/plain": [
       "<Figure size 1008x360 with 2 Axes>"
      ]
     },
     "metadata": {
      "needs_background": "light"
     },
     "output_type": "display_data"
    }
   ],
   "source": [
    "fig, ax = plt.subplots(1, 2, figsize=(14,5))\n",
    "fig.tight_layout()\n",
    "\n",
    "ax[0].boxplot(df[df['TotalWorkingYears'] <= 1].JobLevel)\n",
    "ax[0].set_title('Job Level: Total Working Years <= 1')\n",
    "\n",
    "ax[1].boxplot(df[df['TotalWorkingYears'] > 1].JobLevel)\n",
    "ax[1].set_title('Job Level: Total Working Years > 1')"
   ]
  },
  {
   "cell_type": "markdown",
   "metadata": {},
   "source": [
    "There is no significant difference in job level between people with little experience and people with more experience. A lower job level could have indicated an internship program (a turnover that was expected and planned in advance), but this doesn't appear to be the case."
   ]
  },
  {
   "cell_type": "markdown",
   "metadata": {},
   "source": [
    "### Years at Company"
   ]
  },
  {
   "cell_type": "code",
   "execution_count": 13,
   "metadata": {},
   "outputs": [
    {
     "data": {
      "image/png": "[encoded data removed]",
      "text/plain": [
       "<Figure size 432x288 with 1 Axes>"
      ]
     },
     "metadata": {
      "needs_background": "light"
     },
     "output_type": "display_data"
    }
   ],
   "source": [
    "def plotAttritionPer(column):\n",
    "    dfGroupsAll = df[[column, 'Attrition01']] \\\n",
    "        .groupby(column).count() \\\n",
    "        .merge(\n",
    "            dfYes[[column, 'Attrition01']].groupby(column).count(),\n",
    "            on=column,\n",
    "            how='left'\n",
    "        ).rename(columns = {\n",
    "            'Attrition01_x': 'Attrition_all',\n",
    "            'Attrition01_y': 'Attrition_yes'\n",
    "        }).merge(\n",
    "            dfNo[[column, 'Attrition01']].groupby(column).count(),\n",
    "            on=column,\n",
    "            how='left'\n",
    "        ).rename(columns = {\n",
    "            'Attrition01': 'Attrition_no'}\n",
    "        ).fillna(0)\n",
    "\n",
    "    plt.bar(dfGroupsAll.index, dfGroupsAll.Attrition_no, label=\"No\")\n",
    "    plt.bar(dfGroupsAll.index, dfGroupsAll.Attrition_yes, label=\"Yes\")\n",
    "    plt.title(column + ' vs Attrition')\n",
    "    plt.legend()\n",
    "\n",
    "plotAttritionPer('YearsAtCompany')"
   ]
  },
  {
   "cell_type": "markdown",
   "metadata": {},
   "source": [
    "### Years with current Manager"
   ]
  },
  {
   "cell_type": "code",
   "execution_count": 14,
   "metadata": {},
   "outputs": [
    {
     "data": {
      "image/png": "[encoded data removed]",
      "text/plain": [
       "<Figure size 432x288 with 1 Axes>"
      ]
     },
     "metadata": {
      "needs_background": "light"
     },
     "output_type": "display_data"
    }
   ],
   "source": [
    "plotAttritionPer('YearsWithCurrManager')"
   ]
  },
  {
   "cell_type": "markdown",
   "metadata": {},
   "source": [
    "### Age"
   ]
  },
  {
   "cell_type": "code",
   "execution_count": 15,
   "metadata": {},
   "outputs": [
    {
     "data": {
      "image/png": "[encoded data removed]",
      "text/plain": [
       "<Figure size 432x288 with 1 Axes>"
      ]
     },
     "metadata": {
      "needs_background": "light"
     },
     "output_type": "display_data"
    }
   ],
   "source": [
    "plotAttritionPer('Age')"
   ]
  },
  {
   "cell_type": "code",
   "execution_count": 16,
   "metadata": {},
   "outputs": [
    {
     "name": "stdout",
     "output_type": "stream",
     "text": [
      "Total working Years / Years at Company are related (46.0)\n",
      "\n",
      "Years at Company / Years with current Manager are related (47.0)\n",
      "\n",
      "Total working years / Age are related (-247.0)\n"
     ]
    }
   ],
   "source": [
    "from scipy.stats import ttest_rel\n",
    "\n",
    "stats,p = ttest_rel(df.TotalWorkingYears, df.YearsAtCompany)\n",
    "if p<0.05:\n",
    "    print(\"Total working Years / Years at Company are related (\", round(stats), \")\\n\", sep='')\n",
    "\n",
    "stats,p = ttest_rel(df.YearsAtCompany, df.YearsWithCurrManager)\n",
    "if p<0.05:\n",
    "    print(\"Years at Company / Years with current Manager are related (\", round(stats), \")\\n\", sep='')\n",
    "\n",
    "stats,p = ttest_rel(df.TotalWorkingYears, df.Age)\n",
    "if p<0.05:\n",
    "    print(\"Total working years / Age are related (\", round(stats), \")\", sep='')"
   ]
  },
  {
   "cell_type": "markdown",
   "metadata": {},
   "source": [
    "Unsurprisingly, the age, the total years of experience and number of years in the company are correlated, which explains that they are also a factor on attrition — people that are young, inexperienced and new to the company are more likely to leave."
   ]
  },
  {
   "cell_type": "markdown",
   "metadata": {},
   "source": [
    "## Business travel"
   ]
  },
  {
   "cell_type": "code",
   "execution_count": 17,
   "metadata": {},
   "outputs": [
    {
     "data": {
      "text/html": [
       "<div>\n",
       "<style scoped>\n",
       "    .dataframe tbody tr th:only-of-type {\n",
       "        vertical-align: middle;\n",
       "    }\n",
       "\n",
       "    .dataframe tbody tr th {\n",
       "        vertical-align: top;\n",
       "    }\n",
       "\n",
       "    .dataframe thead th {\n",
       "        text-align: right;\n",
       "    }\n",
       "</style>\n",
       "<table border=\"1\" class=\"dataframe\">\n",
       "  <thead>\n",
       "    <tr style=\"text-align: right;\">\n",
       "      <th>BusinessTravel</th>\n",
       "      <th>Non-Travel</th>\n",
       "      <th>Travel_Frequently</th>\n",
       "      <th>Travel_Rarely</th>\n",
       "      <th>All</th>\n",
       "    </tr>\n",
       "    <tr>\n",
       "      <th>Attrition01</th>\n",
       "      <th></th>\n",
       "      <th></th>\n",
       "      <th></th>\n",
       "      <th></th>\n",
       "    </tr>\n",
       "  </thead>\n",
       "  <tbody>\n",
       "    <tr>\n",
       "      <th>0</th>\n",
       "      <td>412</td>\n",
       "      <td>621</td>\n",
       "      <td>2644</td>\n",
       "      <td>3677</td>\n",
       "    </tr>\n",
       "    <tr>\n",
       "      <th>1</th>\n",
       "      <td>36</td>\n",
       "      <td>204</td>\n",
       "      <td>465</td>\n",
       "      <td>705</td>\n",
       "    </tr>\n",
       "    <tr>\n",
       "      <th>All</th>\n",
       "      <td>448</td>\n",
       "      <td>825</td>\n",
       "      <td>3109</td>\n",
       "      <td>4382</td>\n",
       "    </tr>\n",
       "  </tbody>\n",
       "</table>\n",
       "</div>"
      ],
      "text/plain": [
       "BusinessTravel  Non-Travel  Travel_Frequently  Travel_Rarely   All\n",
       "Attrition01                                                       \n",
       "0                      412                621           2644  3677\n",
       "1                       36                204            465   705\n",
       "All                    448                825           3109  4382"
      ]
     },
     "execution_count": 17,
     "metadata": {},
     "output_type": "execute_result"
    }
   ],
   "source": [
    "crosstab = pd.crosstab(df.Attrition01, df.BusinessTravel, margins=True)\n",
    "crosstab"
   ]
  },
  {
   "cell_type": "code",
   "execution_count": 18,
   "metadata": {},
   "outputs": [
    {
     "data": {
      "image/png": "[encoded data removed]",
      "text/plain": [
       "<Figure size 432x288 with 1 Axes>"
      ]
     },
     "metadata": {
      "needs_background": "light"
     },
     "output_type": "display_data"
    }
   ],
   "source": [
    "plt.bar(crosstab.columns, crosstab_propcol.iloc[0], label=\"No\")\n",
    "plt.bar(crosstab.columns, crosstab_propcol.iloc[1], label=\"Yes\")\n",
    "plt.legend()\n",
    "plt.xticks(rotation=75)\n",
    "plt.title(\"Attrition relative to travel\")\n",
    "plt.show()"
   ]
  },
  {
   "cell_type": "markdown",
   "metadata": {},
   "source": [
    "People that travel frequently are more likely to leave"
   ]
  },
  {
   "cell_type": "markdown",
   "metadata": {},
   "source": [
    "## Department"
   ]
  },
  {
   "cell_type": "code",
   "execution_count": 19,
   "metadata": {},
   "outputs": [
    {
     "data": {
      "text/html": [
       "<div>\n",
       "<style scoped>\n",
       "    .dataframe tbody tr th:only-of-type {\n",
       "        vertical-align: middle;\n",
       "    }\n",
       "\n",
       "    .dataframe tbody tr th {\n",
       "        vertical-align: top;\n",
       "    }\n",
       "\n",
       "    .dataframe thead th {\n",
       "        text-align: right;\n",
       "    }\n",
       "</style>\n",
       "<table border=\"1\" class=\"dataframe\">\n",
       "  <thead>\n",
       "    <tr style=\"text-align: right;\">\n",
       "      <th>Department</th>\n",
       "      <th>Human Resources</th>\n",
       "      <th>Research &amp; Development</th>\n",
       "      <th>Sales</th>\n",
       "      <th>All</th>\n",
       "    </tr>\n",
       "    <tr>\n",
       "      <th>Attrition01</th>\n",
       "      <th></th>\n",
       "      <th></th>\n",
       "      <th></th>\n",
       "      <th></th>\n",
       "    </tr>\n",
       "  </thead>\n",
       "  <tbody>\n",
       "    <tr>\n",
       "      <th>0</th>\n",
       "      <td>132</td>\n",
       "      <td>2416</td>\n",
       "      <td>1129</td>\n",
       "      <td>3677</td>\n",
       "    </tr>\n",
       "    <tr>\n",
       "      <th>1</th>\n",
       "      <td>55</td>\n",
       "      <td>449</td>\n",
       "      <td>201</td>\n",
       "      <td>705</td>\n",
       "    </tr>\n",
       "    <tr>\n",
       "      <th>All</th>\n",
       "      <td>187</td>\n",
       "      <td>2865</td>\n",
       "      <td>1330</td>\n",
       "      <td>4382</td>\n",
       "    </tr>\n",
       "  </tbody>\n",
       "</table>\n",
       "</div>"
      ],
      "text/plain": [
       "Department   Human Resources  Research & Development  Sales   All\n",
       "Attrition01                                                      \n",
       "0                        132                    2416   1129  3677\n",
       "1                         55                     449    201   705\n",
       "All                      187                    2865   1330  4382"
      ]
     },
     "execution_count": 19,
     "metadata": {},
     "output_type": "execute_result"
    }
   ],
   "source": [
    "crosstab = pd.crosstab(df.Attrition01, df.Department, margins=True)\n",
    "crosstab"
   ]
  },
  {
   "cell_type": "code",
   "execution_count": 20,
   "metadata": {},
   "outputs": [
    {
     "data": {
      "text/html": [
       "<style  type=\"text/css\" >\n",
       "    #T_c248fa62_cdab_11ea_8631_6ff0db3160carow0_col0 {\n",
       "            background-color:  #4f9bcb;\n",
       "            color:  #000000;\n",
       "        }    #T_c248fa62_cdab_11ea_8631_6ff0db3160carow0_col1 {\n",
       "            background-color:  #1460a8;\n",
       "            color:  #f1f1f1;\n",
       "        }    #T_c248fa62_cdab_11ea_8631_6ff0db3160carow0_col2 {\n",
       "            background-color:  #125ea6;\n",
       "            color:  #f1f1f1;\n",
       "        }    #T_c248fa62_cdab_11ea_8631_6ff0db3160carow0_col3 {\n",
       "            background-color:  #1562a9;\n",
       "            color:  #f1f1f1;\n",
       "        }    #T_c248fa62_cdab_11ea_8631_6ff0db3160carow1_col0 {\n",
       "            background-color:  #f7fbff;\n",
       "            color:  #000000;\n",
       "        }    #T_c248fa62_cdab_11ea_8631_6ff0db3160carow1_col1 {\n",
       "            background-color:  #f7fbff;\n",
       "            color:  #000000;\n",
       "        }    #T_c248fa62_cdab_11ea_8631_6ff0db3160carow1_col2 {\n",
       "            background-color:  #f7fbff;\n",
       "            color:  #000000;\n",
       "        }    #T_c248fa62_cdab_11ea_8631_6ff0db3160carow1_col3 {\n",
       "            background-color:  #f7fbff;\n",
       "            color:  #000000;\n",
       "        }    #T_c248fa62_cdab_11ea_8631_6ff0db3160carow2_col0 {\n",
       "            background-color:  #08306b;\n",
       "            color:  #f1f1f1;\n",
       "        }    #T_c248fa62_cdab_11ea_8631_6ff0db3160carow2_col1 {\n",
       "            background-color:  #08306b;\n",
       "            color:  #f1f1f1;\n",
       "        }    #T_c248fa62_cdab_11ea_8631_6ff0db3160carow2_col2 {\n",
       "            background-color:  #08306b;\n",
       "            color:  #f1f1f1;\n",
       "        }    #T_c248fa62_cdab_11ea_8631_6ff0db3160carow2_col3 {\n",
       "            background-color:  #08306b;\n",
       "            color:  #f1f1f1;\n",
       "        }</style><table id=\"T_c248fa62_cdab_11ea_8631_6ff0db3160ca\" ><thead>    <tr>        <th class=\"index_name level0\" >Department</th>        <th class=\"col_heading level0 col0\" >Human Resources</th>        <th class=\"col_heading level0 col1\" >Research & Development</th>        <th class=\"col_heading level0 col2\" >Sales</th>        <th class=\"col_heading level0 col3\" >All</th>    </tr>    <tr>        <th class=\"index_name level0\" >Attrition01</th>        <th class=\"blank\" ></th>        <th class=\"blank\" ></th>        <th class=\"blank\" ></th>        <th class=\"blank\" ></th>    </tr></thead><tbody>\n",
       "                <tr>\n",
       "                        <th id=\"T_c248fa62_cdab_11ea_8631_6ff0db3160calevel0_row0\" class=\"row_heading level0 row0\" >0</th>\n",
       "                        <td id=\"T_c248fa62_cdab_11ea_8631_6ff0db3160carow0_col0\" class=\"data row0 col0\" >70.59</td>\n",
       "                        <td id=\"T_c248fa62_cdab_11ea_8631_6ff0db3160carow0_col1\" class=\"data row0 col1\" >84.33</td>\n",
       "                        <td id=\"T_c248fa62_cdab_11ea_8631_6ff0db3160carow0_col2\" class=\"data row0 col2\" >84.89</td>\n",
       "                        <td id=\"T_c248fa62_cdab_11ea_8631_6ff0db3160carow0_col3\" class=\"data row0 col3\" >83.91</td>\n",
       "            </tr>\n",
       "            <tr>\n",
       "                        <th id=\"T_c248fa62_cdab_11ea_8631_6ff0db3160calevel0_row1\" class=\"row_heading level0 row1\" >1</th>\n",
       "                        <td id=\"T_c248fa62_cdab_11ea_8631_6ff0db3160carow1_col0\" class=\"data row1 col0\" >29.41</td>\n",
       "                        <td id=\"T_c248fa62_cdab_11ea_8631_6ff0db3160carow1_col1\" class=\"data row1 col1\" >15.67</td>\n",
       "                        <td id=\"T_c248fa62_cdab_11ea_8631_6ff0db3160carow1_col2\" class=\"data row1 col2\" >15.11</td>\n",
       "                        <td id=\"T_c248fa62_cdab_11ea_8631_6ff0db3160carow1_col3\" class=\"data row1 col3\" >16.09</td>\n",
       "            </tr>\n",
       "            <tr>\n",
       "                        <th id=\"T_c248fa62_cdab_11ea_8631_6ff0db3160calevel0_row2\" class=\"row_heading level0 row2\" >All</th>\n",
       "                        <td id=\"T_c248fa62_cdab_11ea_8631_6ff0db3160carow2_col0\" class=\"data row2 col0\" >100</td>\n",
       "                        <td id=\"T_c248fa62_cdab_11ea_8631_6ff0db3160carow2_col1\" class=\"data row2 col1\" >100</td>\n",
       "                        <td id=\"T_c248fa62_cdab_11ea_8631_6ff0db3160carow2_col2\" class=\"data row2 col2\" >100</td>\n",
       "                        <td id=\"T_c248fa62_cdab_11ea_8631_6ff0db3160carow2_col3\" class=\"data row2 col3\" >100</td>\n",
       "            </tr>\n",
       "    </tbody></table>"
      ],
      "text/plain": [
       "<pandas.io.formats.style.Styler at 0x7f49284d4550>"
      ]
     },
     "execution_count": 20,
     "metadata": {},
     "output_type": "execute_result"
    }
   ],
   "source": [
    "crosstab_propcol = round(crosstab.div(crosstab.iloc[-1,:], axis=1).mul(100, axis=1), 2)\n",
    "crosstab_propcol.style.background_gradient(cmap='Blues')"
   ]
  },
  {
   "cell_type": "code",
   "execution_count": 21,
   "metadata": {},
   "outputs": [
    {
     "data": {
      "image/png": "[encoded data removed]",
      "text/plain": [
       "<Figure size 432x288 with 1 Axes>"
      ]
     },
     "metadata": {
      "needs_background": "light"
     },
     "output_type": "display_data"
    }
   ],
   "source": [
    "plt.bar(crosstab_propcol.columns, crosstab_propcol.iloc[0], label=\"No\")\n",
    "plt.bar(crosstab_propcol.columns, crosstab_propcol.iloc[1], label=\"Yes\")\n",
    "plt.legend()\n",
    "plt.xticks(rotation=75)\n",
    "plt.title(\"Attrition relative to department\")\n",
    "plt.show()"
   ]
  },
  {
   "cell_type": "markdown",
   "metadata": {},
   "source": [
    "People working in human resources are more likely to leave.\n",
    "\n",
    "### Related to other factors?"
   ]
  },
  {
   "cell_type": "code",
   "execution_count": 22,
   "metadata": {},
   "outputs": [
    {
     "data": {
      "text/html": [
       "<div>\n",
       "<style scoped>\n",
       "    .dataframe tbody tr th:only-of-type {\n",
       "        vertical-align: middle;\n",
       "    }\n",
       "\n",
       "    .dataframe tbody tr th {\n",
       "        vertical-align: top;\n",
       "    }\n",
       "\n",
       "    .dataframe thead th {\n",
       "        text-align: right;\n",
       "    }\n",
       "</style>\n",
       "<table border=\"1\" class=\"dataframe\">\n",
       "  <thead>\n",
       "    <tr style=\"text-align: right;\">\n",
       "      <th></th>\n",
       "      <th>ColumnName</th>\n",
       "      <th>PValue</th>\n",
       "    </tr>\n",
       "  </thead>\n",
       "  <tbody>\n",
       "    <tr>\n",
       "      <th>9</th>\n",
       "      <td>YearsWithCurrManager</td>\n",
       "      <td>0.000123</td>\n",
       "    </tr>\n",
       "    <tr>\n",
       "      <th>0</th>\n",
       "      <td>BusinessTravel</td>\n",
       "      <td>0.000167</td>\n",
       "    </tr>\n",
       "    <tr>\n",
       "      <th>3</th>\n",
       "      <td>MaritalStatus</td>\n",
       "      <td>0.000423</td>\n",
       "    </tr>\n",
       "    <tr>\n",
       "      <th>6</th>\n",
       "      <td>TotalWorkingYears</td>\n",
       "      <td>0.001716</td>\n",
       "    </tr>\n",
       "    <tr>\n",
       "      <th>8</th>\n",
       "      <td>YearsAtCompany</td>\n",
       "      <td>0.002463</td>\n",
       "    </tr>\n",
       "    <tr>\n",
       "      <th>4</th>\n",
       "      <td>NumCompaniesWorked</td>\n",
       "      <td>0.005241</td>\n",
       "    </tr>\n",
       "    <tr>\n",
       "      <th>2</th>\n",
       "      <td>JobLevel</td>\n",
       "      <td>0.011059</td>\n",
       "    </tr>\n",
       "    <tr>\n",
       "      <th>5</th>\n",
       "      <td>PercentSalaryHike</td>\n",
       "      <td>0.014858</td>\n",
       "    </tr>\n",
       "    <tr>\n",
       "      <th>1</th>\n",
       "      <td>DistanceFromHome</td>\n",
       "      <td>0.020959</td>\n",
       "    </tr>\n",
       "    <tr>\n",
       "      <th>7</th>\n",
       "      <td>TrainingTimesLastYear</td>\n",
       "      <td>0.048786</td>\n",
       "    </tr>\n",
       "  </tbody>\n",
       "</table>\n",
       "</div>"
      ],
      "text/plain": [
       "              ColumnName    PValue\n",
       "9   YearsWithCurrManager  0.000123\n",
       "0         BusinessTravel  0.000167\n",
       "3          MaritalStatus  0.000423\n",
       "6      TotalWorkingYears  0.001716\n",
       "8         YearsAtCompany  0.002463\n",
       "4     NumCompaniesWorked  0.005241\n",
       "2               JobLevel  0.011059\n",
       "5      PercentSalaryHike  0.014858\n",
       "1       DistanceFromHome  0.020959\n",
       "7  TrainingTimesLastYear  0.048786"
      ]
     },
     "execution_count": 22,
     "metadata": {},
     "output_type": "execute_result"
    }
   ],
   "source": [
    "dfTest  = pd.DataFrame(data=[], columns=['ColumnName', 'PValue'])\n",
    "dfHR    = df[df['Department'] == 'Human Resources']\n",
    "dfNonHR = df[df['Department'] != 'Human Resources']\n",
    "\n",
    "from scipy.stats import mannwhitneyu\n",
    "\n",
    "for column in df.columns.drop(['Attrition', 'Attrition01', 'Department', 'EducationField', 'JobRole']):\n",
    "    _,p=mannwhitneyu(dfHR[column], dfNonHR[column])\n",
    "\n",
    "    if p<0.05:\n",
    "        dfTest.loc[len(dfTest)] = [column, p]\n",
    "\n",
    "dfTest.sort_values(by=['PValue'], ascending=True)"
   ]
  },
  {
   "cell_type": "markdown",
   "metadata": {},
   "source": [
    "### Department vs Business Travel"
   ]
  },
  {
   "cell_type": "code",
   "execution_count": 23,
   "metadata": {},
   "outputs": [
    {
     "data": {
      "text/html": [
       "<div>\n",
       "<style scoped>\n",
       "    .dataframe tbody tr th:only-of-type {\n",
       "        vertical-align: middle;\n",
       "    }\n",
       "\n",
       "    .dataframe tbody tr th {\n",
       "        vertical-align: top;\n",
       "    }\n",
       "\n",
       "    .dataframe thead th {\n",
       "        text-align: right;\n",
       "    }\n",
       "</style>\n",
       "<table border=\"1\" class=\"dataframe\">\n",
       "  <thead>\n",
       "    <tr style=\"text-align: right;\">\n",
       "      <th>BusinessTravel</th>\n",
       "      <th>Non-Travel</th>\n",
       "      <th>Travel_Frequently</th>\n",
       "      <th>Travel_Rarely</th>\n",
       "      <th>All</th>\n",
       "    </tr>\n",
       "    <tr>\n",
       "      <th>Department</th>\n",
       "      <th></th>\n",
       "      <th></th>\n",
       "      <th></th>\n",
       "      <th></th>\n",
       "    </tr>\n",
       "  </thead>\n",
       "  <tbody>\n",
       "    <tr>\n",
       "      <th>Human Resources</th>\n",
       "      <td>9</td>\n",
       "      <td>24</td>\n",
       "      <td>154</td>\n",
       "      <td>187</td>\n",
       "    </tr>\n",
       "    <tr>\n",
       "      <th>Research &amp; Development</th>\n",
       "      <td>329</td>\n",
       "      <td>516</td>\n",
       "      <td>2020</td>\n",
       "      <td>2865</td>\n",
       "    </tr>\n",
       "    <tr>\n",
       "      <th>Sales</th>\n",
       "      <td>110</td>\n",
       "      <td>285</td>\n",
       "      <td>935</td>\n",
       "      <td>1330</td>\n",
       "    </tr>\n",
       "    <tr>\n",
       "      <th>All</th>\n",
       "      <td>448</td>\n",
       "      <td>825</td>\n",
       "      <td>3109</td>\n",
       "      <td>4382</td>\n",
       "    </tr>\n",
       "  </tbody>\n",
       "</table>\n",
       "</div>"
      ],
      "text/plain": [
       "BusinessTravel          Non-Travel  Travel_Frequently  Travel_Rarely   All\n",
       "Department                                                                \n",
       "Human Resources                  9                 24            154   187\n",
       "Research & Development         329                516           2020  2865\n",
       "Sales                          110                285            935  1330\n",
       "All                            448                825           3109  4382"
      ]
     },
     "execution_count": 23,
     "metadata": {},
     "output_type": "execute_result"
    }
   ],
   "source": [
    "crosstab = pd.crosstab(df.Department, df.BusinessTravel, margins=True)\n",
    "crosstab"
   ]
  },
  {
   "cell_type": "markdown",
   "metadata": {},
   "source": [
    "### Department vs Training Times"
   ]
  },
  {
   "cell_type": "code",
   "execution_count": 24,
   "metadata": {},
   "outputs": [
    {
     "data": {
      "text/html": [
       "<style  type=\"text/css\" >\n",
       "    #T_c2964a56_cdab_11ea_8631_6ff0db3160carow0_col0 {\n",
       "            background-color:  #f7fbff;\n",
       "            color:  #000000;\n",
       "        }    #T_c2964a56_cdab_11ea_8631_6ff0db3160carow0_col1 {\n",
       "            background-color:  #08306b;\n",
       "            color:  #f1f1f1;\n",
       "        }    #T_c2964a56_cdab_11ea_8631_6ff0db3160carow0_col2 {\n",
       "            background-color:  #08306b;\n",
       "            color:  #f1f1f1;\n",
       "        }    #T_c2964a56_cdab_11ea_8631_6ff0db3160carow0_col3 {\n",
       "            background-color:  #08306b;\n",
       "            color:  #f1f1f1;\n",
       "        }    #T_c2964a56_cdab_11ea_8631_6ff0db3160carow0_col4 {\n",
       "            background-color:  #f7fbff;\n",
       "            color:  #000000;\n",
       "        }    #T_c2964a56_cdab_11ea_8631_6ff0db3160carow0_col5 {\n",
       "            background-color:  #f7fbff;\n",
       "            color:  #000000;\n",
       "        }    #T_c2964a56_cdab_11ea_8631_6ff0db3160carow0_col6 {\n",
       "            background-color:  #f7fbff;\n",
       "            color:  #000000;\n",
       "        }    #T_c2964a56_cdab_11ea_8631_6ff0db3160carow0_col7 {\n",
       "            background-color:  #f7fbff;\n",
       "            color:  #000000;\n",
       "        }    #T_c2964a56_cdab_11ea_8631_6ff0db3160carow1_col0 {\n",
       "            background-color:  #083674;\n",
       "            color:  #f1f1f1;\n",
       "        }    #T_c2964a56_cdab_11ea_8631_6ff0db3160carow1_col1 {\n",
       "            background-color:  #f7fbff;\n",
       "            color:  #000000;\n",
       "        }    #T_c2964a56_cdab_11ea_8631_6ff0db3160carow1_col2 {\n",
       "            background-color:  #083370;\n",
       "            color:  #f1f1f1;\n",
       "        }    #T_c2964a56_cdab_11ea_8631_6ff0db3160carow1_col3 {\n",
       "            background-color:  #f7fbff;\n",
       "            color:  #000000;\n",
       "        }    #T_c2964a56_cdab_11ea_8631_6ff0db3160carow1_col4 {\n",
       "            background-color:  #084387;\n",
       "            color:  #f1f1f1;\n",
       "        }    #T_c2964a56_cdab_11ea_8631_6ff0db3160carow1_col5 {\n",
       "            background-color:  #08306b;\n",
       "            color:  #f1f1f1;\n",
       "        }    #T_c2964a56_cdab_11ea_8631_6ff0db3160carow1_col6 {\n",
       "            background-color:  #08306b;\n",
       "            color:  #f1f1f1;\n",
       "        }    #T_c2964a56_cdab_11ea_8631_6ff0db3160carow1_col7 {\n",
       "            background-color:  #f7fbff;\n",
       "            color:  #000000;\n",
       "        }    #T_c2964a56_cdab_11ea_8631_6ff0db3160carow2_col0 {\n",
       "            background-color:  #08306b;\n",
       "            color:  #f1f1f1;\n",
       "        }    #T_c2964a56_cdab_11ea_8631_6ff0db3160carow2_col1 {\n",
       "            background-color:  #f4f9fe;\n",
       "            color:  #000000;\n",
       "        }    #T_c2964a56_cdab_11ea_8631_6ff0db3160carow2_col2 {\n",
       "            background-color:  #f7fbff;\n",
       "            color:  #000000;\n",
       "        }    #T_c2964a56_cdab_11ea_8631_6ff0db3160carow2_col3 {\n",
       "            background-color:  #81badb;\n",
       "            color:  #000000;\n",
       "        }    #T_c2964a56_cdab_11ea_8631_6ff0db3160carow2_col4 {\n",
       "            background-color:  #08306b;\n",
       "            color:  #f1f1f1;\n",
       "        }    #T_c2964a56_cdab_11ea_8631_6ff0db3160carow2_col5 {\n",
       "            background-color:  #2777b8;\n",
       "            color:  #000000;\n",
       "        }    #T_c2964a56_cdab_11ea_8631_6ff0db3160carow2_col6 {\n",
       "            background-color:  #08519c;\n",
       "            color:  #f1f1f1;\n",
       "        }    #T_c2964a56_cdab_11ea_8631_6ff0db3160carow2_col7 {\n",
       "            background-color:  #f7fbff;\n",
       "            color:  #000000;\n",
       "        }    #T_c2964a56_cdab_11ea_8631_6ff0db3160carow3_col0 {\n",
       "            background-color:  #083e81;\n",
       "            color:  #f1f1f1;\n",
       "        }    #T_c2964a56_cdab_11ea_8631_6ff0db3160carow3_col1 {\n",
       "            background-color:  #eef5fc;\n",
       "            color:  #000000;\n",
       "        }    #T_c2964a56_cdab_11ea_8631_6ff0db3160carow3_col2 {\n",
       "            background-color:  #3181bd;\n",
       "            color:  #000000;\n",
       "        }    #T_c2964a56_cdab_11ea_8631_6ff0db3160carow3_col3 {\n",
       "            background-color:  #d4e4f4;\n",
       "            color:  #000000;\n",
       "        }    #T_c2964a56_cdab_11ea_8631_6ff0db3160carow3_col4 {\n",
       "            background-color:  #08478d;\n",
       "            color:  #f1f1f1;\n",
       "        }    #T_c2964a56_cdab_11ea_8631_6ff0db3160carow3_col5 {\n",
       "            background-color:  #08519c;\n",
       "            color:  #f1f1f1;\n",
       "        }    #T_c2964a56_cdab_11ea_8631_6ff0db3160carow3_col6 {\n",
       "            background-color:  #08458a;\n",
       "            color:  #f1f1f1;\n",
       "        }    #T_c2964a56_cdab_11ea_8631_6ff0db3160carow3_col7 {\n",
       "            background-color:  #f7fbff;\n",
       "            color:  #000000;\n",
       "        }</style><table id=\"T_c2964a56_cdab_11ea_8631_6ff0db3160ca\" ><thead>    <tr>        <th class=\"index_name level0\" >TrainingTimesLastYear</th>        <th class=\"col_heading level0 col0\" >0</th>        <th class=\"col_heading level0 col1\" >1</th>        <th class=\"col_heading level0 col2\" >2</th>        <th class=\"col_heading level0 col3\" >3</th>        <th class=\"col_heading level0 col4\" >4</th>        <th class=\"col_heading level0 col5\" >5</th>        <th class=\"col_heading level0 col6\" >6</th>        <th class=\"col_heading level0 col7\" >All</th>    </tr>    <tr>        <th class=\"index_name level0\" >Department</th>        <th class=\"blank\" ></th>        <th class=\"blank\" ></th>        <th class=\"blank\" ></th>        <th class=\"blank\" ></th>        <th class=\"blank\" ></th>        <th class=\"blank\" ></th>        <th class=\"blank\" ></th>        <th class=\"blank\" ></th>    </tr></thead><tbody>\n",
       "                <tr>\n",
       "                        <th id=\"T_c2964a56_cdab_11ea_8631_6ff0db3160calevel0_row0\" class=\"row_heading level0 row0\" >Human Resources</th>\n",
       "                        <td id=\"T_c2964a56_cdab_11ea_8631_6ff0db3160carow0_col0\" class=\"data row0 col0\" >1.6</td>\n",
       "                        <td id=\"T_c2964a56_cdab_11ea_8631_6ff0db3160carow0_col1\" class=\"data row0 col1\" >8.02</td>\n",
       "                        <td id=\"T_c2964a56_cdab_11ea_8631_6ff0db3160carow0_col2\" class=\"data row0 col2\" >37.97</td>\n",
       "                        <td id=\"T_c2964a56_cdab_11ea_8631_6ff0db3160carow0_col3\" class=\"data row0 col3\" >40.11</td>\n",
       "                        <td id=\"T_c2964a56_cdab_11ea_8631_6ff0db3160carow0_col4\" class=\"data row0 col4\" >5.88</td>\n",
       "                        <td id=\"T_c2964a56_cdab_11ea_8631_6ff0db3160carow0_col5\" class=\"data row0 col5\" >4.81</td>\n",
       "                        <td id=\"T_c2964a56_cdab_11ea_8631_6ff0db3160carow0_col6\" class=\"data row0 col6\" >1.6</td>\n",
       "                        <td id=\"T_c2964a56_cdab_11ea_8631_6ff0db3160carow0_col7\" class=\"data row0 col7\" >100</td>\n",
       "            </tr>\n",
       "            <tr>\n",
       "                        <th id=\"T_c2964a56_cdab_11ea_8631_6ff0db3160calevel0_row1\" class=\"row_heading level0 row1\" >Research & Development</th>\n",
       "                        <td id=\"T_c2964a56_cdab_11ea_8631_6ff0db3160carow1_col0\" class=\"data row1 col0\" >3.77</td>\n",
       "                        <td id=\"T_c2964a56_cdab_11ea_8631_6ff0db3160carow1_col1\" class=\"data row1 col1\" >4.68</td>\n",
       "                        <td id=\"T_c2964a56_cdab_11ea_8631_6ff0db3160carow1_col2\" class=\"data row1 col2\" >37.94</td>\n",
       "                        <td id=\"T_c2964a56_cdab_11ea_8631_6ff0db3160carow1_col3\" class=\"data row1 col3\" >32.01</td>\n",
       "                        <td id=\"T_c2964a56_cdab_11ea_8631_6ff0db3160carow1_col4\" class=\"data row1 col4\" >8.38</td>\n",
       "                        <td id=\"T_c2964a56_cdab_11ea_8631_6ff0db3160carow1_col5\" class=\"data row1 col5\" >8.55</td>\n",
       "                        <td id=\"T_c2964a56_cdab_11ea_8631_6ff0db3160carow1_col6\" class=\"data row1 col6\" >4.68</td>\n",
       "                        <td id=\"T_c2964a56_cdab_11ea_8631_6ff0db3160carow1_col7\" class=\"data row1 col7\" >100</td>\n",
       "            </tr>\n",
       "            <tr>\n",
       "                        <th id=\"T_c2964a56_cdab_11ea_8631_6ff0db3160calevel0_row2\" class=\"row_heading level0 row2\" >Sales</th>\n",
       "                        <td id=\"T_c2964a56_cdab_11ea_8631_6ff0db3160carow2_col0\" class=\"data row2 col0\" >3.83</td>\n",
       "                        <td id=\"T_c2964a56_cdab_11ea_8631_6ff0db3160carow2_col1\" class=\"data row2 col1\" >4.74</td>\n",
       "                        <td id=\"T_c2964a56_cdab_11ea_8631_6ff0db3160carow2_col2\" class=\"data row2 col2\" >35.41</td>\n",
       "                        <td id=\"T_c2964a56_cdab_11ea_8631_6ff0db3160carow2_col3\" class=\"data row2 col3\" >35.64</td>\n",
       "                        <td id=\"T_c2964a56_cdab_11ea_8631_6ff0db3160carow2_col4\" class=\"data row2 col4\" >8.57</td>\n",
       "                        <td id=\"T_c2964a56_cdab_11ea_8631_6ff0db3160carow2_col5\" class=\"data row2 col5\" >7.52</td>\n",
       "                        <td id=\"T_c2964a56_cdab_11ea_8631_6ff0db3160carow2_col6\" class=\"data row2 col6\" >4.29</td>\n",
       "                        <td id=\"T_c2964a56_cdab_11ea_8631_6ff0db3160carow2_col7\" class=\"data row2 col7\" >100</td>\n",
       "            </tr>\n",
       "            <tr>\n",
       "                        <th id=\"T_c2964a56_cdab_11ea_8631_6ff0db3160calevel0_row3\" class=\"row_heading level0 row3\" >All</th>\n",
       "                        <td id=\"T_c2964a56_cdab_11ea_8631_6ff0db3160carow3_col0\" class=\"data row3 col0\" >3.7</td>\n",
       "                        <td id=\"T_c2964a56_cdab_11ea_8631_6ff0db3160carow3_col1\" class=\"data row3 col1\" >4.84</td>\n",
       "                        <td id=\"T_c2964a56_cdab_11ea_8631_6ff0db3160carow3_col2\" class=\"data row3 col2\" >37.17</td>\n",
       "                        <td id=\"T_c2964a56_cdab_11ea_8631_6ff0db3160carow3_col3\" class=\"data row3 col3\" >33.46</td>\n",
       "                        <td id=\"T_c2964a56_cdab_11ea_8631_6ff0db3160carow3_col4\" class=\"data row3 col4\" >8.33</td>\n",
       "                        <td id=\"T_c2964a56_cdab_11ea_8631_6ff0db3160carow3_col5\" class=\"data row3 col5\" >8.08</td>\n",
       "                        <td id=\"T_c2964a56_cdab_11ea_8631_6ff0db3160carow3_col6\" class=\"data row3 col6\" >4.43</td>\n",
       "                        <td id=\"T_c2964a56_cdab_11ea_8631_6ff0db3160carow3_col7\" class=\"data row3 col7\" >100</td>\n",
       "            </tr>\n",
       "    </tbody></table>"
      ],
      "text/plain": [
       "<pandas.io.formats.style.Styler at 0x7f49284d4b00>"
      ]
     },
     "metadata": {},
     "output_type": "display_data"
    }
   ],
   "source": [
    "crosstab = pd.crosstab(df.Department, df.TrainingTimesLastYear, margins=True)\n",
    "crosstab_proprow = round(crosstab.div(crosstab.iloc[:,-1], axis=0).mul(100, axis=0), 2)\n",
    "display(crosstab_proprow.style.background_gradient(cmap='Blues'))"
   ]
  },
  {
   "cell_type": "code",
   "execution_count": 25,
   "metadata": {},
   "outputs": [
    {
     "name": "stdout",
     "output_type": "stream",
     "text": [
      "Mean training times HR: 2.6149732620320854\n",
      "Mean training times non HR: 2.8064362336114423\n"
     ]
    }
   ],
   "source": [
    "print(\"Mean training times HR:\", dfHR.TrainingTimesLastYear.mean())\n",
    "print(\"Mean training times non HR:\", dfNonHR.TrainingTimesLastYear.mean())"
   ]
  },
  {
   "cell_type": "markdown",
   "metadata": {},
   "source": [
    "### Department vs Salary Hike"
   ]
  },
  {
   "cell_type": "code",
   "execution_count": 26,
   "metadata": {},
   "outputs": [
    {
     "data": {
      "text/html": [
       "<style  type=\"text/css\" >\n",
       "    #T_c2b16232_cdab_11ea_8631_6ff0db3160carow0_col0 {\n",
       "            background-color:  #08306b;\n",
       "            color:  #f1f1f1;\n",
       "        }    #T_c2b16232_cdab_11ea_8631_6ff0db3160carow0_col1 {\n",
       "            background-color:  #f7fbff;\n",
       "            color:  #000000;\n",
       "        }    #T_c2b16232_cdab_11ea_8631_6ff0db3160carow0_col2 {\n",
       "            background-color:  #d9e7f5;\n",
       "            color:  #000000;\n",
       "        }    #T_c2b16232_cdab_11ea_8631_6ff0db3160carow0_col3 {\n",
       "            background-color:  #f7fbff;\n",
       "            color:  #000000;\n",
       "        }    #T_c2b16232_cdab_11ea_8631_6ff0db3160carow0_col4 {\n",
       "            background-color:  #08306b;\n",
       "            color:  #f1f1f1;\n",
       "        }    #T_c2b16232_cdab_11ea_8631_6ff0db3160carow0_col5 {\n",
       "            background-color:  #f7fbff;\n",
       "            color:  #000000;\n",
       "        }    #T_c2b16232_cdab_11ea_8631_6ff0db3160carow0_col6 {\n",
       "            background-color:  #f1f7fd;\n",
       "            color:  #000000;\n",
       "        }    #T_c2b16232_cdab_11ea_8631_6ff0db3160carow0_col7 {\n",
       "            background-color:  #f7fbff;\n",
       "            color:  #000000;\n",
       "        }    #T_c2b16232_cdab_11ea_8631_6ff0db3160carow0_col8 {\n",
       "            background-color:  #f7fbff;\n",
       "            color:  #000000;\n",
       "        }    #T_c2b16232_cdab_11ea_8631_6ff0db3160carow0_col9 {\n",
       "            background-color:  #f7fbff;\n",
       "            color:  #000000;\n",
       "        }    #T_c2b16232_cdab_11ea_8631_6ff0db3160carow0_col10 {\n",
       "            background-color:  #08306b;\n",
       "            color:  #f1f1f1;\n",
       "        }    #T_c2b16232_cdab_11ea_8631_6ff0db3160carow0_col11 {\n",
       "            background-color:  #f7fbff;\n",
       "            color:  #000000;\n",
       "        }    #T_c2b16232_cdab_11ea_8631_6ff0db3160carow0_col12 {\n",
       "            background-color:  #eff6fc;\n",
       "            color:  #000000;\n",
       "        }    #T_c2b16232_cdab_11ea_8631_6ff0db3160carow0_col13 {\n",
       "            background-color:  #f7fbff;\n",
       "            color:  #000000;\n",
       "        }    #T_c2b16232_cdab_11ea_8631_6ff0db3160carow0_col14 {\n",
       "            background-color:  #f7fbff;\n",
       "            color:  #000000;\n",
       "        }    #T_c2b16232_cdab_11ea_8631_6ff0db3160carow0_col15 {\n",
       "            background-color:  #f7fbff;\n",
       "            color:  #000000;\n",
       "        }    #T_c2b16232_cdab_11ea_8631_6ff0db3160carow1_col0 {\n",
       "            background-color:  #f7fbff;\n",
       "            color:  #000000;\n",
       "        }    #T_c2b16232_cdab_11ea_8631_6ff0db3160carow1_col1 {\n",
       "            background-color:  #1a68ae;\n",
       "            color:  #f1f1f1;\n",
       "        }    #T_c2b16232_cdab_11ea_8631_6ff0db3160carow1_col2 {\n",
       "            background-color:  #08306b;\n",
       "            color:  #f1f1f1;\n",
       "        }    #T_c2b16232_cdab_11ea_8631_6ff0db3160carow1_col3 {\n",
       "            background-color:  #3383be;\n",
       "            color:  #000000;\n",
       "        }    #T_c2b16232_cdab_11ea_8631_6ff0db3160carow1_col4 {\n",
       "            background-color:  #f7fbff;\n",
       "            color:  #000000;\n",
       "        }    #T_c2b16232_cdab_11ea_8631_6ff0db3160carow1_col5 {\n",
       "            background-color:  #08306b;\n",
       "            color:  #f1f1f1;\n",
       "        }    #T_c2b16232_cdab_11ea_8631_6ff0db3160carow1_col6 {\n",
       "            background-color:  #08306b;\n",
       "            color:  #f1f1f1;\n",
       "        }    #T_c2b16232_cdab_11ea_8631_6ff0db3160carow1_col7 {\n",
       "            background-color:  #b9d6ea;\n",
       "            color:  #000000;\n",
       "        }    #T_c2b16232_cdab_11ea_8631_6ff0db3160carow1_col8 {\n",
       "            background-color:  #e3eef8;\n",
       "            color:  #000000;\n",
       "        }    #T_c2b16232_cdab_11ea_8631_6ff0db3160carow1_col9 {\n",
       "            background-color:  #08306b;\n",
       "            color:  #f1f1f1;\n",
       "        }    #T_c2b16232_cdab_11ea_8631_6ff0db3160carow1_col10 {\n",
       "            background-color:  #f7fbff;\n",
       "            color:  #000000;\n",
       "        }    #T_c2b16232_cdab_11ea_8631_6ff0db3160carow1_col11 {\n",
       "            background-color:  #08306b;\n",
       "            color:  #f1f1f1;\n",
       "        }    #T_c2b16232_cdab_11ea_8631_6ff0db3160carow1_col12 {\n",
       "            background-color:  #08306b;\n",
       "            color:  #f1f1f1;\n",
       "        }    #T_c2b16232_cdab_11ea_8631_6ff0db3160carow1_col13 {\n",
       "            background-color:  #08306b;\n",
       "            color:  #f1f1f1;\n",
       "        }    #T_c2b16232_cdab_11ea_8631_6ff0db3160carow1_col14 {\n",
       "            background-color:  #08306b;\n",
       "            color:  #f1f1f1;\n",
       "        }    #T_c2b16232_cdab_11ea_8631_6ff0db3160carow1_col15 {\n",
       "            background-color:  #f7fbff;\n",
       "            color:  #000000;\n",
       "        }    #T_c2b16232_cdab_11ea_8631_6ff0db3160carow2_col0 {\n",
       "            background-color:  #e0ecf8;\n",
       "            color:  #000000;\n",
       "        }    #T_c2b16232_cdab_11ea_8631_6ff0db3160carow2_col1 {\n",
       "            background-color:  #08306b;\n",
       "            color:  #f1f1f1;\n",
       "        }    #T_c2b16232_cdab_11ea_8631_6ff0db3160carow2_col2 {\n",
       "            background-color:  #f7fbff;\n",
       "            color:  #000000;\n",
       "        }    #T_c2b16232_cdab_11ea_8631_6ff0db3160carow2_col3 {\n",
       "            background-color:  #08306b;\n",
       "            color:  #f1f1f1;\n",
       "        }    #T_c2b16232_cdab_11ea_8631_6ff0db3160carow2_col4 {\n",
       "            background-color:  #f3f8fe;\n",
       "            color:  #000000;\n",
       "        }    #T_c2b16232_cdab_11ea_8631_6ff0db3160carow2_col5 {\n",
       "            background-color:  #549fcd;\n",
       "            color:  #000000;\n",
       "        }    #T_c2b16232_cdab_11ea_8631_6ff0db3160carow2_col6 {\n",
       "            background-color:  #f7fbff;\n",
       "            color:  #000000;\n",
       "        }    #T_c2b16232_cdab_11ea_8631_6ff0db3160carow2_col7 {\n",
       "            background-color:  #08306b;\n",
       "            color:  #f1f1f1;\n",
       "        }    #T_c2b16232_cdab_11ea_8631_6ff0db3160carow2_col8 {\n",
       "            background-color:  #08306b;\n",
       "            color:  #f1f1f1;\n",
       "        }    #T_c2b16232_cdab_11ea_8631_6ff0db3160carow2_col9 {\n",
       "            background-color:  #4997c9;\n",
       "            color:  #000000;\n",
       "        }    #T_c2b16232_cdab_11ea_8631_6ff0db3160carow2_col10 {\n",
       "            background-color:  #dce9f6;\n",
       "            color:  #000000;\n",
       "        }    #T_c2b16232_cdab_11ea_8631_6ff0db3160carow2_col11 {\n",
       "            background-color:  #084082;\n",
       "            color:  #f1f1f1;\n",
       "        }    #T_c2b16232_cdab_11ea_8631_6ff0db3160carow2_col12 {\n",
       "            background-color:  #f7fbff;\n",
       "            color:  #000000;\n",
       "        }    #T_c2b16232_cdab_11ea_8631_6ff0db3160carow2_col13 {\n",
       "            background-color:  #3585bf;\n",
       "            color:  #000000;\n",
       "        }    #T_c2b16232_cdab_11ea_8631_6ff0db3160carow2_col14 {\n",
       "            background-color:  #4695c8;\n",
       "            color:  #000000;\n",
       "        }    #T_c2b16232_cdab_11ea_8631_6ff0db3160carow2_col15 {\n",
       "            background-color:  #f7fbff;\n",
       "            color:  #000000;\n",
       "        }    #T_c2b16232_cdab_11ea_8631_6ff0db3160carow3_col0 {\n",
       "            background-color:  #e8f1fa;\n",
       "            color:  #000000;\n",
       "        }    #T_c2b16232_cdab_11ea_8631_6ff0db3160carow3_col1 {\n",
       "            background-color:  #1460a8;\n",
       "            color:  #f1f1f1;\n",
       "        }    #T_c2b16232_cdab_11ea_8631_6ff0db3160carow3_col2 {\n",
       "            background-color:  #3989c1;\n",
       "            color:  #000000;\n",
       "        }    #T_c2b16232_cdab_11ea_8631_6ff0db3160carow3_col3 {\n",
       "            background-color:  #2171b5;\n",
       "            color:  #f1f1f1;\n",
       "        }    #T_c2b16232_cdab_11ea_8631_6ff0db3160carow3_col4 {\n",
       "            background-color:  #eef5fc;\n",
       "            color:  #000000;\n",
       "        }    #T_c2b16232_cdab_11ea_8631_6ff0db3160carow3_col5 {\n",
       "            background-color:  #125da6;\n",
       "            color:  #f1f1f1;\n",
       "        }    #T_c2b16232_cdab_11ea_8631_6ff0db3160carow3_col6 {\n",
       "            background-color:  #3a8ac2;\n",
       "            color:  #000000;\n",
       "        }    #T_c2b16232_cdab_11ea_8631_6ff0db3160carow3_col7 {\n",
       "            background-color:  #6dafd7;\n",
       "            color:  #000000;\n",
       "        }    #T_c2b16232_cdab_11ea_8631_6ff0db3160carow3_col8 {\n",
       "            background-color:  #9fcae1;\n",
       "            color:  #000000;\n",
       "        }    #T_c2b16232_cdab_11ea_8631_6ff0db3160carow3_col9 {\n",
       "            background-color:  #0f5aa3;\n",
       "            color:  #f1f1f1;\n",
       "        }    #T_c2b16232_cdab_11ea_8631_6ff0db3160carow3_col10 {\n",
       "            background-color:  #e7f0fa;\n",
       "            color:  #000000;\n",
       "        }    #T_c2b16232_cdab_11ea_8631_6ff0db3160carow3_col11 {\n",
       "            background-color:  #084082;\n",
       "            color:  #f1f1f1;\n",
       "        }    #T_c2b16232_cdab_11ea_8631_6ff0db3160carow3_col12 {\n",
       "            background-color:  #3c8cc3;\n",
       "            color:  #000000;\n",
       "        }    #T_c2b16232_cdab_11ea_8631_6ff0db3160carow3_col13 {\n",
       "            background-color:  #0b559f;\n",
       "            color:  #f1f1f1;\n",
       "        }    #T_c2b16232_cdab_11ea_8631_6ff0db3160carow3_col14 {\n",
       "            background-color:  #0f5aa3;\n",
       "            color:  #f1f1f1;\n",
       "        }    #T_c2b16232_cdab_11ea_8631_6ff0db3160carow3_col15 {\n",
       "            background-color:  #f7fbff;\n",
       "            color:  #000000;\n",
       "        }</style><table id=\"T_c2b16232_cdab_11ea_8631_6ff0db3160ca\" ><thead>    <tr>        <th class=\"index_name level0\" >PercentSalaryHike</th>        <th class=\"col_heading level0 col0\" >11</th>        <th class=\"col_heading level0 col1\" >12</th>        <th class=\"col_heading level0 col2\" >13</th>        <th class=\"col_heading level0 col3\" >14</th>        <th class=\"col_heading level0 col4\" >15</th>        <th class=\"col_heading level0 col5\" >16</th>        <th class=\"col_heading level0 col6\" >17</th>        <th class=\"col_heading level0 col7\" >18</th>        <th class=\"col_heading level0 col8\" >19</th>        <th class=\"col_heading level0 col9\" >20</th>        <th class=\"col_heading level0 col10\" >21</th>        <th class=\"col_heading level0 col11\" >22</th>        <th class=\"col_heading level0 col12\" >23</th>        <th class=\"col_heading level0 col13\" >24</th>        <th class=\"col_heading level0 col14\" >25</th>        <th class=\"col_heading level0 col15\" >All</th>    </tr>    <tr>        <th class=\"index_name level0\" >Department</th>        <th class=\"blank\" ></th>        <th class=\"blank\" ></th>        <th class=\"blank\" ></th>        <th class=\"blank\" ></th>        <th class=\"blank\" ></th>        <th class=\"blank\" ></th>        <th class=\"blank\" ></th>        <th class=\"blank\" ></th>        <th class=\"blank\" ></th>        <th class=\"blank\" ></th>        <th class=\"blank\" ></th>        <th class=\"blank\" ></th>        <th class=\"blank\" ></th>        <th class=\"blank\" ></th>        <th class=\"blank\" ></th>        <th class=\"blank\" ></th>    </tr></thead><tbody>\n",
       "                <tr>\n",
       "                        <th id=\"T_c2b16232_cdab_11ea_8631_6ff0db3160calevel0_row0\" class=\"row_heading level0 row0\" >Human Resources</th>\n",
       "                        <td id=\"T_c2b16232_cdab_11ea_8631_6ff0db3160carow0_col0\" class=\"data row0 col0\" >25.67</td>\n",
       "                        <td id=\"T_c2b16232_cdab_11ea_8631_6ff0db3160carow0_col1\" class=\"data row0 col1\" >9.63</td>\n",
       "                        <td id=\"T_c2b16232_cdab_11ea_8631_6ff0db3160carow0_col2\" class=\"data row0 col2\" >12.83</td>\n",
       "                        <td id=\"T_c2b16232_cdab_11ea_8631_6ff0db3160carow0_col3\" class=\"data row0 col3\" >8.02</td>\n",
       "                        <td id=\"T_c2b16232_cdab_11ea_8631_6ff0db3160carow0_col4\" class=\"data row0 col4\" >11.23</td>\n",
       "                        <td id=\"T_c2b16232_cdab_11ea_8631_6ff0db3160carow0_col5\" class=\"data row0 col5\" >4.28</td>\n",
       "                        <td id=\"T_c2b16232_cdab_11ea_8631_6ff0db3160carow0_col6\" class=\"data row0 col6\" >4.28</td>\n",
       "                        <td id=\"T_c2b16232_cdab_11ea_8631_6ff0db3160carow0_col7\" class=\"data row0 col7\" >4.81</td>\n",
       "                        <td id=\"T_c2b16232_cdab_11ea_8631_6ff0db3160carow0_col8\" class=\"data row0 col8\" >4.81</td>\n",
       "                        <td id=\"T_c2b16232_cdab_11ea_8631_6ff0db3160carow0_col9\" class=\"data row0 col9\" >0</td>\n",
       "                        <td id=\"T_c2b16232_cdab_11ea_8631_6ff0db3160carow0_col10\" class=\"data row0 col10\" >9.63</td>\n",
       "                        <td id=\"T_c2b16232_cdab_11ea_8631_6ff0db3160carow0_col11\" class=\"data row0 col11\" >3.21</td>\n",
       "                        <td id=\"T_c2b16232_cdab_11ea_8631_6ff0db3160carow0_col12\" class=\"data row0 col12\" >1.6</td>\n",
       "                        <td id=\"T_c2b16232_cdab_11ea_8631_6ff0db3160carow0_col13\" class=\"data row0 col13\" >0</td>\n",
       "                        <td id=\"T_c2b16232_cdab_11ea_8631_6ff0db3160carow0_col14\" class=\"data row0 col14\" >0</td>\n",
       "                        <td id=\"T_c2b16232_cdab_11ea_8631_6ff0db3160carow0_col15\" class=\"data row0 col15\" >100</td>\n",
       "            </tr>\n",
       "            <tr>\n",
       "                        <th id=\"T_c2b16232_cdab_11ea_8631_6ff0db3160calevel0_row1\" class=\"row_heading level0 row1\" >Research & Development</th>\n",
       "                        <td id=\"T_c2b16232_cdab_11ea_8631_6ff0db3160carow1_col0\" class=\"data row1 col0\" >13.37</td>\n",
       "                        <td id=\"T_c2b16232_cdab_11ea_8631_6ff0db3160carow1_col1\" class=\"data row1 col1\" >13.33</td>\n",
       "                        <td id=\"T_c2b16232_cdab_11ea_8631_6ff0db3160carow1_col2\" class=\"data row1 col2\" >15.11</td>\n",
       "                        <td id=\"T_c2b16232_cdab_11ea_8631_6ff0db3160carow1_col3\" class=\"data row1 col3\" >13.12</td>\n",
       "                        <td id=\"T_c2b16232_cdab_11ea_8631_6ff0db3160carow1_col4\" class=\"data row1 col4\" >6.67</td>\n",
       "                        <td id=\"T_c2b16232_cdab_11ea_8631_6ff0db3160carow1_col5\" class=\"data row1 col5\" >5.48</td>\n",
       "                        <td id=\"T_c2b16232_cdab_11ea_8631_6ff0db3160carow1_col6\" class=\"data row1 col6\" >6.21</td>\n",
       "                        <td id=\"T_c2b16232_cdab_11ea_8631_6ff0db3160carow1_col7\" class=\"data row1 col7\" >5.55</td>\n",
       "                        <td id=\"T_c2b16232_cdab_11ea_8631_6ff0db3160carow1_col8\" class=\"data row1 col8\" >4.92</td>\n",
       "                        <td id=\"T_c2b16232_cdab_11ea_8631_6ff0db3160carow1_col9\" class=\"data row1 col9\" >4.5</td>\n",
       "                        <td id=\"T_c2b16232_cdab_11ea_8631_6ff0db3160carow1_col10\" class=\"data row1 col10\" >2.65</td>\n",
       "                        <td id=\"T_c2b16232_cdab_11ea_8631_6ff0db3160carow1_col11\" class=\"data row1 col11\" >3.87</td>\n",
       "                        <td id=\"T_c2b16232_cdab_11ea_8631_6ff0db3160carow1_col12\" class=\"data row1 col12\" >2.06</td>\n",
       "                        <td id=\"T_c2b16232_cdab_11ea_8631_6ff0db3160carow1_col13\" class=\"data row1 col13\" >1.68</td>\n",
       "                        <td id=\"T_c2b16232_cdab_11ea_8631_6ff0db3160carow1_col14\" class=\"data row1 col14\" >1.47</td>\n",
       "                        <td id=\"T_c2b16232_cdab_11ea_8631_6ff0db3160carow1_col15\" class=\"data row1 col15\" >100</td>\n",
       "            </tr>\n",
       "            <tr>\n",
       "                        <th id=\"T_c2b16232_cdab_11ea_8631_6ff0db3160calevel0_row2\" class=\"row_heading level0 row2\" >Sales</th>\n",
       "                        <td id=\"T_c2b16232_cdab_11ea_8631_6ff0db3160carow2_col0\" class=\"data row2 col0\" >14.81</td>\n",
       "                        <td id=\"T_c2b16232_cdab_11ea_8631_6ff0db3160carow2_col1\" class=\"data row2 col1\" >14.36</td>\n",
       "                        <td id=\"T_c2b16232_cdab_11ea_8631_6ff0db3160carow2_col2\" class=\"data row2 col2\" >12.41</td>\n",
       "                        <td id=\"T_c2b16232_cdab_11ea_8631_6ff0db3160carow2_col3\" class=\"data row2 col3\" >15.49</td>\n",
       "                        <td id=\"T_c2b16232_cdab_11ea_8631_6ff0db3160carow2_col4\" class=\"data row2 col4\" >6.77</td>\n",
       "                        <td id=\"T_c2b16232_cdab_11ea_8631_6ff0db3160carow2_col5\" class=\"data row2 col5\" >4.96</td>\n",
       "                        <td id=\"T_c2b16232_cdab_11ea_8631_6ff0db3160carow2_col6\" class=\"data row2 col6\" >4.21</td>\n",
       "                        <td id=\"T_c2b16232_cdab_11ea_8631_6ff0db3160carow2_col7\" class=\"data row2 col7\" >7.37</td>\n",
       "                        <td id=\"T_c2b16232_cdab_11ea_8631_6ff0db3160carow2_col8\" class=\"data row2 col8\" >5.86</td>\n",
       "                        <td id=\"T_c2b16232_cdab_11ea_8631_6ff0db3160carow2_col9\" class=\"data row2 col9\" >2.71</td>\n",
       "                        <td id=\"T_c2b16232_cdab_11ea_8631_6ff0db3160carow2_col10\" class=\"data row2 col10\" >3.61</td>\n",
       "                        <td id=\"T_c2b16232_cdab_11ea_8631_6ff0db3160carow2_col11\" class=\"data row2 col11\" >3.83</td>\n",
       "                        <td id=\"T_c2b16232_cdab_11ea_8631_6ff0db3160carow2_col12\" class=\"data row2 col12\" >1.58</td>\n",
       "                        <td id=\"T_c2b16232_cdab_11ea_8631_6ff0db3160carow2_col13\" class=\"data row2 col13\" >1.13</td>\n",
       "                        <td id=\"T_c2b16232_cdab_11ea_8631_6ff0db3160carow2_col14\" class=\"data row2 col14\" >0.9</td>\n",
       "                        <td id=\"T_c2b16232_cdab_11ea_8631_6ff0db3160carow2_col15\" class=\"data row2 col15\" >100</td>\n",
       "            </tr>\n",
       "            <tr>\n",
       "                        <th id=\"T_c2b16232_cdab_11ea_8631_6ff0db3160calevel0_row3\" class=\"row_heading level0 row3\" >All</th>\n",
       "                        <td id=\"T_c2b16232_cdab_11ea_8631_6ff0db3160carow3_col0\" class=\"data row3 col0\" >14.33</td>\n",
       "                        <td id=\"T_c2b16232_cdab_11ea_8631_6ff0db3160carow3_col1\" class=\"data row3 col1\" >13.49</td>\n",
       "                        <td id=\"T_c2b16232_cdab_11ea_8631_6ff0db3160carow3_col2\" class=\"data row3 col2\" >14.19</td>\n",
       "                        <td id=\"T_c2b16232_cdab_11ea_8631_6ff0db3160carow3_col3\" class=\"data row3 col3\" >13.62</td>\n",
       "                        <td id=\"T_c2b16232_cdab_11ea_8631_6ff0db3160carow3_col4\" class=\"data row3 col4\" >6.89</td>\n",
       "                        <td id=\"T_c2b16232_cdab_11ea_8631_6ff0db3160carow3_col5\" class=\"data row3 col5\" >5.27</td>\n",
       "                        <td id=\"T_c2b16232_cdab_11ea_8631_6ff0db3160carow3_col6\" class=\"data row3 col6\" >5.52</td>\n",
       "                        <td id=\"T_c2b16232_cdab_11ea_8631_6ff0db3160carow3_col7\" class=\"data row3 col7\" >6.07</td>\n",
       "                        <td id=\"T_c2b16232_cdab_11ea_8631_6ff0db3160carow3_col8\" class=\"data row3 col8\" >5.2</td>\n",
       "                        <td id=\"T_c2b16232_cdab_11ea_8631_6ff0db3160carow3_col9\" class=\"data row3 col9\" >3.77</td>\n",
       "                        <td id=\"T_c2b16232_cdab_11ea_8631_6ff0db3160carow3_col10\" class=\"data row3 col10\" >3.24</td>\n",
       "                        <td id=\"T_c2b16232_cdab_11ea_8631_6ff0db3160carow3_col11\" class=\"data row3 col11\" >3.83</td>\n",
       "                        <td id=\"T_c2b16232_cdab_11ea_8631_6ff0db3160carow3_col12\" class=\"data row3 col12\" >1.89</td>\n",
       "                        <td id=\"T_c2b16232_cdab_11ea_8631_6ff0db3160carow3_col13\" class=\"data row3 col13\" >1.44</td>\n",
       "                        <td id=\"T_c2b16232_cdab_11ea_8631_6ff0db3160carow3_col14\" class=\"data row3 col14\" >1.23</td>\n",
       "                        <td id=\"T_c2b16232_cdab_11ea_8631_6ff0db3160carow3_col15\" class=\"data row3 col15\" >100</td>\n",
       "            </tr>\n",
       "    </tbody></table>"
      ],
      "text/plain": [
       "<pandas.io.formats.style.Styler at 0x7f49238e9080>"
      ]
     },
     "metadata": {},
     "output_type": "display_data"
    }
   ],
   "source": [
    "crosstab = pd.crosstab(df.Department, df.PercentSalaryHike, margins=True)\n",
    "crosstab_proprow = round(crosstab.div(crosstab.iloc[:,-1], axis=0).mul(100, axis=0), 2)\n",
    "display(crosstab_proprow.style.background_gradient(cmap='Blues'))"
   ]
  },
  {
   "cell_type": "code",
   "execution_count": 27,
   "metadata": {},
   "outputs": [
    {
     "name": "stdout",
     "output_type": "stream",
     "text": [
      "Mean salary hike HR: 14.743315508021391\n",
      "Mean salary hike non HR: 15.231466030989273\n"
     ]
    }
   ],
   "source": [
    "print(\"Mean salary hike HR:\", dfHR.PercentSalaryHike.mean())\n",
    "print(\"Mean salary hike non HR:\", dfNonHR.PercentSalaryHike.mean())"
   ]
  },
  {
   "cell_type": "markdown",
   "metadata": {},
   "source": [
    "It seems likely that the attrition in the HR department is due to a lower job satisfaction."
   ]
  },
  {
   "cell_type": "markdown",
   "metadata": {},
   "source": [
    "## Education Field"
   ]
  },
  {
   "cell_type": "code",
   "execution_count": 28,
   "metadata": {},
   "outputs": [
    {
     "data": {
      "text/html": [
       "<style  type=\"text/css\" >\n",
       "    #T_c2cc4836_cdab_11ea_8631_6ff0db3160carow0_col0 {\n",
       "            background-color:  #abd0e6;\n",
       "            color:  #000000;\n",
       "        }    #T_c2cc4836_cdab_11ea_8631_6ff0db3160carow0_col1 {\n",
       "            background-color:  #1764ab;\n",
       "            color:  #f1f1f1;\n",
       "        }    #T_c2cc4836_cdab_11ea_8631_6ff0db3160carow0_col2 {\n",
       "            background-color:  #1561a9;\n",
       "            color:  #f1f1f1;\n",
       "        }    #T_c2cc4836_cdab_11ea_8631_6ff0db3160carow0_col3 {\n",
       "            background-color:  #1561a9;\n",
       "            color:  #f1f1f1;\n",
       "        }    #T_c2cc4836_cdab_11ea_8631_6ff0db3160carow0_col4 {\n",
       "            background-color:  #0a549e;\n",
       "            color:  #f1f1f1;\n",
       "        }    #T_c2cc4836_cdab_11ea_8631_6ff0db3160carow0_col5 {\n",
       "            background-color:  #09529d;\n",
       "            color:  #f1f1f1;\n",
       "        }    #T_c2cc4836_cdab_11ea_8631_6ff0db3160carow0_col6 {\n",
       "            background-color:  #1562a9;\n",
       "            color:  #f1f1f1;\n",
       "        }    #T_c2cc4836_cdab_11ea_8631_6ff0db3160carow1_col0 {\n",
       "            background-color:  #f7fbff;\n",
       "            color:  #000000;\n",
       "        }    #T_c2cc4836_cdab_11ea_8631_6ff0db3160carow1_col1 {\n",
       "            background-color:  #f7fbff;\n",
       "            color:  #000000;\n",
       "        }    #T_c2cc4836_cdab_11ea_8631_6ff0db3160carow1_col2 {\n",
       "            background-color:  #f7fbff;\n",
       "            color:  #000000;\n",
       "        }    #T_c2cc4836_cdab_11ea_8631_6ff0db3160carow1_col3 {\n",
       "            background-color:  #f7fbff;\n",
       "            color:  #000000;\n",
       "        }    #T_c2cc4836_cdab_11ea_8631_6ff0db3160carow1_col4 {\n",
       "            background-color:  #f7fbff;\n",
       "            color:  #000000;\n",
       "        }    #T_c2cc4836_cdab_11ea_8631_6ff0db3160carow1_col5 {\n",
       "            background-color:  #f7fbff;\n",
       "            color:  #000000;\n",
       "        }    #T_c2cc4836_cdab_11ea_8631_6ff0db3160carow1_col6 {\n",
       "            background-color:  #f7fbff;\n",
       "            color:  #000000;\n",
       "        }    #T_c2cc4836_cdab_11ea_8631_6ff0db3160carow2_col0 {\n",
       "            background-color:  #08306b;\n",
       "            color:  #f1f1f1;\n",
       "        }    #T_c2cc4836_cdab_11ea_8631_6ff0db3160carow2_col1 {\n",
       "            background-color:  #08306b;\n",
       "            color:  #f1f1f1;\n",
       "        }    #T_c2cc4836_cdab_11ea_8631_6ff0db3160carow2_col2 {\n",
       "            background-color:  #08306b;\n",
       "            color:  #f1f1f1;\n",
       "        }    #T_c2cc4836_cdab_11ea_8631_6ff0db3160carow2_col3 {\n",
       "            background-color:  #08306b;\n",
       "            color:  #f1f1f1;\n",
       "        }    #T_c2cc4836_cdab_11ea_8631_6ff0db3160carow2_col4 {\n",
       "            background-color:  #08306b;\n",
       "            color:  #f1f1f1;\n",
       "        }    #T_c2cc4836_cdab_11ea_8631_6ff0db3160carow2_col5 {\n",
       "            background-color:  #08306b;\n",
       "            color:  #f1f1f1;\n",
       "        }    #T_c2cc4836_cdab_11ea_8631_6ff0db3160carow2_col6 {\n",
       "            background-color:  #08306b;\n",
       "            color:  #f1f1f1;\n",
       "        }</style><table id=\"T_c2cc4836_cdab_11ea_8631_6ff0db3160ca\" ><thead>    <tr>        <th class=\"index_name level0\" >EducationField</th>        <th class=\"col_heading level0 col0\" >Human Resources</th>        <th class=\"col_heading level0 col1\" >Life Sciences</th>        <th class=\"col_heading level0 col2\" >Marketing</th>        <th class=\"col_heading level0 col3\" >Medical</th>        <th class=\"col_heading level0 col4\" >Other</th>        <th class=\"col_heading level0 col5\" >Technical Degree</th>        <th class=\"col_heading level0 col6\" >All</th>    </tr>    <tr>        <th class=\"index_name level0\" >Attrition01</th>        <th class=\"blank\" ></th>        <th class=\"blank\" ></th>        <th class=\"blank\" ></th>        <th class=\"blank\" ></th>        <th class=\"blank\" ></th>        <th class=\"blank\" ></th>        <th class=\"blank\" ></th>    </tr></thead><tbody>\n",
       "                <tr>\n",
       "                        <th id=\"T_c2cc4836_cdab_11ea_8631_6ff0db3160calevel0_row0\" class=\"row_heading level0 row0\" >0</th>\n",
       "                        <td id=\"T_c2cc4836_cdab_11ea_8631_6ff0db3160carow0_col0\" class=\"data row0 col0\" >60</td>\n",
       "                        <td id=\"T_c2cc4836_cdab_11ea_8631_6ff0db3160carow0_col1\" class=\"data row0 col1\" >83.33</td>\n",
       "                        <td id=\"T_c2cc4836_cdab_11ea_8631_6ff0db3160carow0_col2\" class=\"data row0 col2\" >84.21</td>\n",
       "                        <td id=\"T_c2cc4836_cdab_11ea_8631_6ff0db3160carow0_col3\" class=\"data row0 col3\" >83.97</td>\n",
       "                        <td id=\"T_c2cc4836_cdab_11ea_8631_6ff0db3160carow0_col4\" class=\"data row0 col4\" >87.7</td>\n",
       "                        <td id=\"T_c2cc4836_cdab_11ea_8631_6ff0db3160carow0_col5\" class=\"data row0 col5\" >88.52</td>\n",
       "                        <td id=\"T_c2cc4836_cdab_11ea_8631_6ff0db3160carow0_col6\" class=\"data row0 col6\" >83.91</td>\n",
       "            </tr>\n",
       "            <tr>\n",
       "                        <th id=\"T_c2cc4836_cdab_11ea_8631_6ff0db3160calevel0_row1\" class=\"row_heading level0 row1\" >1</th>\n",
       "                        <td id=\"T_c2cc4836_cdab_11ea_8631_6ff0db3160carow1_col0\" class=\"data row1 col0\" >40</td>\n",
       "                        <td id=\"T_c2cc4836_cdab_11ea_8631_6ff0db3160carow1_col1\" class=\"data row1 col1\" >16.67</td>\n",
       "                        <td id=\"T_c2cc4836_cdab_11ea_8631_6ff0db3160carow1_col2\" class=\"data row1 col2\" >15.79</td>\n",
       "                        <td id=\"T_c2cc4836_cdab_11ea_8631_6ff0db3160carow1_col3\" class=\"data row1 col3\" >16.03</td>\n",
       "                        <td id=\"T_c2cc4836_cdab_11ea_8631_6ff0db3160carow1_col4\" class=\"data row1 col4\" >12.3</td>\n",
       "                        <td id=\"T_c2cc4836_cdab_11ea_8631_6ff0db3160carow1_col5\" class=\"data row1 col5\" >11.48</td>\n",
       "                        <td id=\"T_c2cc4836_cdab_11ea_8631_6ff0db3160carow1_col6\" class=\"data row1 col6\" >16.09</td>\n",
       "            </tr>\n",
       "            <tr>\n",
       "                        <th id=\"T_c2cc4836_cdab_11ea_8631_6ff0db3160calevel0_row2\" class=\"row_heading level0 row2\" >All</th>\n",
       "                        <td id=\"T_c2cc4836_cdab_11ea_8631_6ff0db3160carow2_col0\" class=\"data row2 col0\" >100</td>\n",
       "                        <td id=\"T_c2cc4836_cdab_11ea_8631_6ff0db3160carow2_col1\" class=\"data row2 col1\" >100</td>\n",
       "                        <td id=\"T_c2cc4836_cdab_11ea_8631_6ff0db3160carow2_col2\" class=\"data row2 col2\" >100</td>\n",
       "                        <td id=\"T_c2cc4836_cdab_11ea_8631_6ff0db3160carow2_col3\" class=\"data row2 col3\" >100</td>\n",
       "                        <td id=\"T_c2cc4836_cdab_11ea_8631_6ff0db3160carow2_col4\" class=\"data row2 col4\" >100</td>\n",
       "                        <td id=\"T_c2cc4836_cdab_11ea_8631_6ff0db3160carow2_col5\" class=\"data row2 col5\" >100</td>\n",
       "                        <td id=\"T_c2cc4836_cdab_11ea_8631_6ff0db3160carow2_col6\" class=\"data row2 col6\" >100</td>\n",
       "            </tr>\n",
       "    </tbody></table>"
      ],
      "text/plain": [
       "<pandas.io.formats.style.Styler at 0x7f4923b0dcc0>"
      ]
     },
     "execution_count": 28,
     "metadata": {},
     "output_type": "execute_result"
    }
   ],
   "source": [
    "crosstab = pd.crosstab(df.Attrition01, df.EducationField, margins=True)\n",
    "crosstab_propcol = round(crosstab.div(crosstab.iloc[-1,:], axis=1).mul(100, axis=1), 2)\n",
    "\n",
    "crosstab_propcol.style.background_gradient(cmap='Blues')"
   ]
  },
  {
   "cell_type": "code",
   "execution_count": 29,
   "metadata": {},
   "outputs": [
    {
     "data": {
      "text/plain": [
       "Text(0.5, 1.0, 'Attrition relative to education field')"
      ]
     },
     "execution_count": 29,
     "metadata": {},
     "output_type": "execute_result"
    },
    {
     "data": {
      "image/png": "[encoded data removed]",
      "text/plain": [
       "<Figure size 432x288 with 1 Axes>"
      ]
     },
     "metadata": {
      "needs_background": "light"
     },
     "output_type": "display_data"
    }
   ],
   "source": [
    "plt.bar(crosstab_propcol.columns, crosstab_propcol.iloc[0], label=\"No\")\n",
    "plt.bar(crosstab_propcol.columns, crosstab_propcol.iloc[1], label=\"Yes\")\n",
    "plt.legend()\n",
    "plt.xticks(rotation=75)\n",
    "plt.title(\"Attrition relative to education field\")"
   ]
  },
  {
   "cell_type": "code",
   "execution_count": 30,
   "metadata": {},
   "outputs": [
    {
     "name": "stdout",
     "output_type": "stream",
     "text": [
      "Department / Education field are related (1.0)\n"
     ]
    }
   ],
   "source": [
    "crosstab = pd.crosstab(df.Department, df.EducationField)\n",
    "chi2,p,dof,expected = chi2_contingency(crosstab)\n",
    "\n",
    "if p<0.05:\n",
    "    print(\"Department / Education field are related (\", round((chi2/n)**0.5), \")\", sep=\"\")"
   ]
  },
  {
   "cell_type": "markdown",
   "metadata": {},
   "source": [
    "This is the same information. Still, people working in human resources are more likely to leave."
   ]
  },
  {
   "cell_type": "markdown",
   "metadata": {},
   "source": [
    "## Monthly Income"
   ]
  },
  {
   "cell_type": "code",
   "execution_count": 31,
   "metadata": {},
   "outputs": [
    {
     "data": {
      "text/plain": [
       "(10320.519, 29458.0]    929\n",
       "(29458.0, 48406.0]      865\n",
       "(48406.0, 67354.0]      703\n",
       "(67354.0, 86302.0]      267\n",
       "(86302.0, 105250.0]     276\n",
       "(105250.0, 124198.0]    146\n",
       "(124198.0, 143146.0]    138\n",
       "(143146.0, 162094.0]     39\n",
       "(162094.0, 181042.0]    137\n",
       "(181042.0, 199990.0]    177\n",
       "Name: MonthlyIncome, dtype: int64"
      ]
     },
     "execution_count": 31,
     "metadata": {},
     "output_type": "execute_result"
    }
   ],
   "source": [
    "dfNo.MonthlyIncome.sort_values().value_counts(bins=10, sort=False)"
   ]
  },
  {
   "cell_type": "code",
   "execution_count": 32,
   "metadata": {},
   "outputs": [
    {
     "data": {
      "text/plain": [
       "(9901.499, 28940.0]     195\n",
       "(28940.0, 47790.0]      149\n",
       "(47790.0, 66640.0]      158\n",
       "(66640.0, 85490.0]       60\n",
       "(85490.0, 104340.0]      44\n",
       "(104340.0, 123190.0]     18\n",
       "(123190.0, 142040.0]     18\n",
       "(142040.0, 160890.0]     15\n",
       "(160890.0, 179740.0]     24\n",
       "(179740.0, 198590.0]     24\n",
       "Name: MonthlyIncome, dtype: int64"
      ]
     },
     "execution_count": 32,
     "metadata": {},
     "output_type": "execute_result"
    }
   ],
   "source": [
    "dfYes.MonthlyIncome.sort_values().value_counts(bins=10, sort=False)"
   ]
  },
  {
   "cell_type": "code",
   "execution_count": 33,
   "metadata": {},
   "outputs": [
    {
     "data": {
      "text/plain": [
       "<matplotlib.legend.Legend at 0x7f49237c43c8>"
      ]
     },
     "execution_count": 33,
     "metadata": {},
     "output_type": "execute_result"
    },
    {
     "data": {
      "image/png": "[encoded data removed]",
      "text/plain": [
       "<Figure size 432x288 with 1 Axes>"
      ]
     },
     "metadata": {
      "needs_background": "light"
     },
     "output_type": "display_data"
    }
   ],
   "source": [
    "plt.hist(dfNo.MonthlyIncome, label=\"No\")\n",
    "plt.hist(dfYes.MonthlyIncome, label=\"Yes\")\n",
    "plt.title('Monthly Income vs Attrition')\n",
    "plt.legend()"
   ]
  },
  {
   "cell_type": "markdown",
   "metadata": {},
   "source": [
    "People with a lower income are more likely to leave, but the monthly income isn't a very big factor in and out of itself, as a lot of people with a low income stay."
   ]
  },
  {
   "cell_type": "markdown",
   "metadata": {},
   "source": [
    "### Monthly income vs Age"
   ]
  },
  {
   "cell_type": "code",
   "execution_count": 34,
   "metadata": {},
   "outputs": [
    {
     "data": {
      "text/plain": [
       "<matplotlib.legend.Legend at 0x7f49239de940>"
      ]
     },
     "execution_count": 34,
     "metadata": {},
     "output_type": "execute_result"
    },
    {
     "data": {
      "image/png": "[encoded data removed]",
      "text/plain": [
       "<Figure size 432x288 with 1 Axes>"
      ]
     },
     "metadata": {
      "needs_background": "light"
     },
     "output_type": "display_data"
    }
   ],
   "source": [
    "plt.hist(dfNo[dfNo['Age'] < 25].MonthlyIncome, label=\"No\")\n",
    "plt.hist(dfYes[dfYes['Age'] < 25].MonthlyIncome, label=\"Yes\")\n",
    "plt.title('Monthly Income vs Attrition, people < 25')\n",
    "plt.legend()"
   ]
  },
  {
   "cell_type": "markdown",
   "metadata": {},
   "source": [
    "People are more likely to leave if their monthly income is low when they're young."
   ]
  },
  {
   "cell_type": "markdown",
   "metadata": {},
   "source": [
    "## Years since last promotion"
   ]
  },
  {
   "cell_type": "code",
   "execution_count": 35,
   "metadata": {},
   "outputs": [
    {
     "data": {
      "image/png": "[encoded data removed]",
      "text/plain": [
       "<Figure size 432x288 with 1 Axes>"
      ]
     },
     "metadata": {
      "needs_background": "light"
     },
     "output_type": "display_data"
    }
   ],
   "source": [
    "plotAttritionPer('YearsSinceLastPromotion')"
   ]
  },
  {
   "cell_type": "markdown",
   "metadata": {},
   "source": [
    "People that received a promotion last year are way less likely to leave.\n",
    "\n",
    "## Conclusion\n",
    "\n",
    "Are more likely to leave:\n",
    "\n",
    "* People that are new to the job market (almost 50% of people with a year of experience leave)\n",
    "* People that are young — same trend as above, the two are correlated\n",
    "* People that have to travel a frequently\n",
    "* People that work in human resources\n",
    "* People that didn't receive a promotion the current or last year\n",
    "\n",
    "Actionable proposals:\n",
    "\n",
    "* Hire people that already have some experience (>1)\n",
    "* Reduce employees travel"
   ]
  }
 ],
 "metadata": {
  "kernelspec": {
   "display_name": "Python 3",
   "language": "python",
   "name": "python3"
  },
  "language_info": {
   "codemirror_mode": {
    "name": "ipython",
    "version": 3
   },
   "file_extension": ".py",
   "mimetype": "text/x-python",
   "name": "python",
   "nbconvert_exporter": "python",
   "pygments_lexer": "ipython3",
   "version": "3.7.3"
  }
 },
 "nbformat": 4,
 "nbformat_minor": 2
}
